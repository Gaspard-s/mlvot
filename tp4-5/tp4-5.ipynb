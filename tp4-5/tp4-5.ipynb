{
 "cells": [
  {
   "cell_type": "code",
   "execution_count": 4,
   "metadata": {},
   "outputs": [],
   "source": [
    "import os\n",
    "import cv2\n",
    "import numpy as np\n",
    "import pandas as pd\n",
    "import onnxruntime\n",
    "import torch\n",
    "from scipy.optimize import linear_sum_assignment\n",
    "import matplotlib.pyplot as plt\n",
    "import pandas as pd"
   ]
  },
  {
   "cell_type": "markdown",
   "metadata": {},
   "source": [
    "# TP4"
   ]
  },
  {
   "cell_type": "code",
   "execution_count": 14,
   "metadata": {},
   "outputs": [],
   "source": [
    "def calculate_iou(box1, box2):\n",
    "    b1_x1, b1_y1 = box1[0], box1[1]\n",
    "    b1_x2, b1_y2 = box1[0] + box1[2], box1[1] + box1[3]\n",
    "    b2_x1, b2_y1 = box2[0], box2[1] \n",
    "    b2_x2, b2_y2 = box2[0] + box2[2], box2[1] + box2[3]\n",
    "\n",
    "    inter_x1 = max(b1_x1, b2_x1)\n",
    "    inter_y1 = max(b1_y1, b2_y1)\n",
    "    inter_x2 = min(b1_x2, b2_x2)\n",
    "    inter_y2 = min(b1_y2, b2_y2)\n",
    "\n",
    "    inter_area = max(0, inter_x2 - inter_x1) * max(0, inter_y2 - inter_y1)\n",
    "    \n",
    "    b1_area = (b1_x2 - b1_x1) * (b1_y2 - b1_y1)\n",
    "    b2_area = (b2_x2 - b2_x1) * (b2_y2 - b2_y1)\n",
    "    \n",
    "    union_area = b1_area + b2_area - inter_area\n",
    "    \n",
    "    return inter_area / union_area if union_area > 0 else 0"
   ]
  },
  {
   "cell_type": "code",
   "execution_count": 15,
   "metadata": {},
   "outputs": [],
   "source": [
    "def calculate_similarity_matrix(tracked_boxes, new_detections):\n",
    "    # Extraire les bounding boxes des objets Tracker\n",
    "    tracked_bboxes = [[t.bb_left, t.bb_top, t.bb_width, t.bb_height] for t in tracked_boxes]\n",
    "    detection_bboxes = [[d.bb_left, d.bb_top, d.bb_width, d.bb_height] for d in new_detections]\n",
    "    \n",
    "    # Initialiser la matrice de similarité\n",
    "    n_tracked = len(tracked_bboxes)\n",
    "    n_detections = len(detection_bboxes)\n",
    "    similarity_matrix = np.zeros((n_tracked, n_detections))\n",
    "    \n",
    "    # Calculer l'IoU pour chaque paire de boîtes\n",
    "    for i in range(n_tracked):\n",
    "        for j in range(n_detections):\n",
    "            similarity_matrix[i,j] = calculate_iou(tracked_bboxes[i], detection_bboxes[j])\n",
    "            \n",
    "    return similarity_matrix\n"
   ]
  },
  {
   "cell_type": "code",
   "execution_count": 16,
   "metadata": {},
   "outputs": [],
   "source": [
    "def parse_seqinfo(data_path):\n",
    "    import configparser\n",
    "    config = configparser.ConfigParser()\n",
    "    config.read(os.path.join(data_path, 'seqinfo.ini'))\n",
    "    return dict(config['Sequence'])\n",
    "\n",
    "def preprocess_patch(im_crops, width=64, height=128):\n",
    "    roi_input = cv2.resize(im_crops, (width, height)) \n",
    "    roi_input = cv2.cvtColor(roi_input, cv2.COLOR_BGR2RGB)\n",
    "    std = np.std(roi_input)\n",
    "    mean = np.mean(roi_input)\n",
    "    roi_input = (np.asarray(roi_input).astype(np.float32)  -  mean) / std\n",
    "    roi_input = np.moveaxis(roi_input, -1, 0) \n",
    "    object_patch = roi_input.astype('float32') \n",
    "    return object_patch\n"
   ]
  },
  {
   "cell_type": "code",
   "execution_count": 17,
   "metadata": {},
   "outputs": [],
   "source": [
    "def cosine_similarity(tracked, detected):\n",
    "    distance_matrix = np.zeros((len(tracked), len(detected)))\n",
    "    for i, track in enumerate(tracked):\n",
    "        for j, detect in enumerate(detected):\n",
    "            distance_matrix[i, j] = np.dot(track.feature, detect.feature) / (np.linalg.norm(track.feature) * np.linalg.norm(detect.feature))\n",
    "    return distance_matrix"
   ]
  },
  {
   "cell_type": "code",
   "execution_count": 18,
   "metadata": {},
   "outputs": [],
   "source": [
    "class Tracker:\n",
    "    def __init__(self, frame, obj_id, bb_left, bb_top, bb_width, bb_height, conf=1, x=-1, y=-1, z=-1):\n",
    "        self.frame = int(frame)\n",
    "        self.obj_id = int(obj_id)\n",
    "        self.bb_left = float(bb_left)\n",
    "        self.bb_top = float(bb_top)\n",
    "        self.bb_width = float(bb_width)\n",
    "        self.bb_height = float(bb_height)\n",
    "        self.feature = []\n",
    "        self.frames_perdus = 0\n",
    "    \n",
    "    def predict_feature(self, session, frame):\n",
    "        y_end = int(self.bb_top + self.bb_height)\n",
    "        x_end = int(self.bb_left + self.bb_width)\n",
    "        x_start = int(self.bb_left)\n",
    "        y_start = int(self.bb_top)\n",
    "        image = frame[y_start:y_end, x_start:x_end]\n",
    "\n",
    "        # Preprocess the image\n",
    "        image = preprocess_patch(image)\n",
    "\n",
    "        with torch.no_grad():\n",
    "            input_data = torch.from_numpy(image).unsqueeze(0)\n",
    "            input_data = input_data.numpy()\n",
    "\n",
    "            input_name = session.get_inputs()[0].name\n",
    "            feature = session.run(None, {input_name: input_data})[0]\n",
    "            self.feature = feature[0]\n",
    "            "
   ]
  },
  {
   "cell_type": "code",
   "execution_count": 19,
   "metadata": {},
   "outputs": [],
   "source": [
    "# manage the tracking\n",
    "def track(detected_objects, data_path, model_path):\n",
    "    \n",
    "    # video settings\n",
    "    seq_info = parse_seqinfo(data_path)\n",
    "    video_path = os.path.join(data_path, 'img1')\n",
    "    \n",
    "    # Get sequence length from number of images in img1 folder\n",
    "    frame_length = len([f for f in os.listdir(video_path) if f.endswith('.jpg')])\n",
    "\n",
    "    session = onnxruntime.InferenceSession(model_path,providers=onnxruntime.get_available_providers())\n",
    "\n",
    "    # initialize tracked objects\n",
    "    tracked_objects = []\n",
    "    \n",
    "    # initialize results with pandas frame\n",
    "    results = pd.DataFrame(columns=['frame', 'id', 'bb_left', 'bb_top', 'bb_width', 'bb_height', 'conf', 'x', 'y', 'z'])\n",
    "\n",
    "    idx = 1\n",
    "    all_matrix = []\n",
    "\n",
    "\n",
    "    THRESHOLD = 0.3\n",
    "    MAX_LOST_FRAMES = 50 \n",
    "    ALPHA = 0.4 \n",
    "    BETA = 0.6\n",
    "    \n",
    "    for frame_idx in range(1, frame_length + 1):\n",
    "        new_tracks = []\n",
    "        detected_obj_on_frame = detected_objects[detected_objects['frame'] == frame_idx]\n",
    "        \n",
    "        if not detected_obj_on_frame.empty:\n",
    "            frame = cv2.imread(os.path.join(video_path, f'{frame_idx:06d}.jpg'))\n",
    "            detected_obj_on_frame = [Tracker(obj.frame, obj.id, obj.bb_left, obj.bb_top, \n",
    "                                           obj.bb_width, obj.bb_height) \n",
    "                                   for _, obj in detected_obj_on_frame.iterrows()]\n",
    "            \n",
    "            # Générer les features pour les nouvelles détections\n",
    "            for obj in detected_obj_on_frame:\n",
    "                obj.predict_feature(session, frame)\n",
    "            \n",
    "            if len(tracked_objects) > 0:\n",
    "                # Calculer les deux matrices de similarité\n",
    "                similarity_matrix = calculate_similarity_matrix(tracked_objects, detected_obj_on_frame)\n",
    "                cosine_similarity_matrix = cosine_similarity(tracked_objects, detected_obj_on_frame)\n",
    "                \n",
    "                # Combiner les matrices avec les poids ALPHA et BETA\n",
    "                cost_matrix = ALPHA * (1 - similarity_matrix) + BETA * (1 - cosine_similarity_matrix)\n",
    "                \n",
    "                # Association hongroise\n",
    "                matches = linear_sum_assignment(cost_matrix)\n",
    "                \n",
    "                matched_detections = []\n",
    "                matched_tracks = []\n",
    "                \n",
    "                # Filtrer les associations avec un seuil plus strict\n",
    "                for track_idx, det_idx in zip(matches[0], matches[1]):\n",
    "                    iou_score = similarity_matrix[track_idx, det_idx]\n",
    "                    reid_score = cosine_similarity_matrix[track_idx, det_idx]\n",
    "                    combined_score = ALPHA * iou_score + BETA * reid_score\n",
    "                    \n",
    "                    if combined_score >= THRESHOLD:\n",
    "                        matched_detections.append(det_idx)\n",
    "                        matched_tracks.append(track_idx)\n",
    "                        \n",
    "                        # Conserver l'ID de la track existante\n",
    "                        old_track = tracked_objects[track_idx]\n",
    "                        detected_obj_on_frame[det_idx].obj_id = old_track.obj_id\n",
    "                        new_tracks.append(detected_obj_on_frame[det_idx])\n",
    "                \n",
    "                # Gérer les tracks non appariées\n",
    "                for i in range(len(tracked_objects)):\n",
    "                    if i not in matched_tracks:\n",
    "                        tracked_objects[i].frames_perdus += 1\n",
    "                        if tracked_objects[i].frames_perdus <= MAX_LOST_FRAMES:\n",
    "                            # Garder la track en mémoire plus longtemps\n",
    "                            new_tracks.append(tracked_objects[i])\n",
    "                \n",
    "                # Créer de nouvelles tracks uniquement pour les détections vraiment nouvelles\n",
    "                for i in range(len(detected_obj_on_frame)):\n",
    "                    if i not in matched_detections:\n",
    "                        # Vérifier si la détection pourrait correspondre à une track perdue\n",
    "                        best_match_score = 0\n",
    "                        best_match_id = None\n",
    "                        \n",
    "                        for old_track in tracked_objects:\n",
    "                            if old_track.frames_perdus > 0:\n",
    "                                reid_score = np.dot(detected_obj_on_frame[i].feature, old_track.feature) / \\\n",
    "                                           (np.linalg.norm(detected_obj_on_frame[i].feature) * \n",
    "                                            np.linalg.norm(old_track.feature))\n",
    "                                if reid_score > 0.7:  # Seuil élevé pour la réidentification\n",
    "                                    if reid_score > best_match_score:\n",
    "                                        best_match_score = reid_score\n",
    "                                        best_match_id = old_track.obj_id\n",
    "                        \n",
    "                        if best_match_id is not None:\n",
    "                            # Réutiliser l'ancien ID\n",
    "                            detected_obj_on_frame[i].obj_id = best_match_id\n",
    "                        else:\n",
    "                            # Créer un nouveau ID uniquement si nécessaire\n",
    "                            detected_obj_on_frame[i].obj_id = idx\n",
    "                            idx += 1\n",
    "                        new_tracks.append(detected_obj_on_frame[i])\n",
    "            \n",
    "            else:\n",
    "                # Première frame - créer de nouvelles tracks\n",
    "                for det in detected_obj_on_frame:\n",
    "                    det.obj_id = idx\n",
    "                    new_tracks.append(det)\n",
    "                    idx += 1\n",
    "        \n",
    "        # Mettre à jour les tracks\n",
    "        tracked_objects = new_tracks\n",
    "        \n",
    "        # Mettre à jour les résultats\n",
    "        for track in tracked_objects:\n",
    "            if track.frames_perdus <= MAX_LOST_FRAMES:\n",
    "                track_df = pd.DataFrame([{\n",
    "                    'frame': frame_idx,\n",
    "                    'id': track.obj_id,\n",
    "                    'bb_left': track.bb_left,\n",
    "                    'bb_top': track.bb_top,\n",
    "                    'bb_width': track.bb_width,\n",
    "                    'bb_height': track.bb_height,\n",
    "                    'conf': 1,\n",
    "                    'x': -1,\n",
    "                    'y': -1,\n",
    "                    'z': -1\n",
    "                }])\n",
    "                results = pd.concat([results, track_df], ignore_index=True)\n",
    "    \n",
    "    return results, all_matrix"
   ]
  },
  {
   "cell_type": "code",
   "execution_count": 20,
   "metadata": {},
   "outputs": [
    {
     "name": "stderr",
     "output_type": "stream",
     "text": [
      "\u001b[0;93m2025-01-03 16:50:29.259026 [W:onnxruntime:, coreml_execution_provider.cc:115 GetCapability] CoreMLExecutionProvider::GetCapability, number of partitions supported by CoreML: 3 number of nodes in the graph: 391 number of nodes supported by CoreML: 389\u001b[m\n"
     ]
    }
   ],
   "source": [
    "def load_detections(det_path):\n",
    "    # Format attendu : <frame>, <id>, <bb_left>, <bb_top>, <bb_width>, <bb_height>, <conf>, <x>, <y>, <z>\n",
    "    columns = ['frame', 'id', 'bb_left', 'bb_top', 'bb_width', 'bb_height', 'conf', 'x', 'y', 'z']\n",
    "    \n",
    "    # Charger le fichier en utilisant un séparateur d'espace\n",
    "    detections = pd.read_csv(det_path, header=None, names=columns, sep=' ')\n",
    "    \n",
    "    return detections\n",
    "\n",
    "# Test du tracking\n",
    "data_path = 'ADL-Rundle-6'  # dossier contenant img1/ et seqinfo.ini\n",
    "det_path = 'ADL-Rundle-6/det/Yolov5l/det.txt'\n",
    "model_path = 'reid_osnet_x025_market1501.onnx'\n",
    "\n",
    "# Charger les détections\n",
    "detections = load_detections(det_path)\n",
    "\n",
    "results, all_matrix = track_management(detections, data_path=data_path, model_path=model_path)"
   ]
  },
  {
   "cell_type": "code",
   "execution_count": 21,
   "metadata": {},
   "outputs": [],
   "source": [
    "def display_tracking_results(results, data_path, output_path):\n",
    "    # parse seqinfo\n",
    "    seq_info = parse_seqinfo(data_path)\n",
    "\n",
    "    video_path = os.path.join(data_path, 'img1')\n",
    "\n",
    "    # Configure video reader\n",
    "    # Get first frame to determine dimensions\n",
    "    first_frame = cv2.imread(os.path.join(video_path, '000001.jpg'))\n",
    "    frame_height, frame_width = first_frame.shape[:2]\n",
    "    \n",
    "    # Get number of frames from directory\n",
    "    frame_length = len([f for f in os.listdir(video_path) if f.endswith('.jpg')])\n",
    "    fps = 30  # Default fps if not available\n",
    "    \n",
    "    if seq_info is not None:\n",
    "        # Use seq_info values if available\n",
    "        if 'imWidth' in seq_info:\n",
    "            frame_width = int(seq_info['imWidth'])\n",
    "        if 'imHeight' in seq_info:\n",
    "            frame_height = int(seq_info['imHeight']) \n",
    "        if 'seqLength' in seq_info:\n",
    "            frame_length = int(seq_info['seqLength'])\n",
    "        if 'frameRate' in seq_info:\n",
    "            fps = int(seq_info['frameRate'])\n",
    "    \n",
    "    fourcc = cv2.VideoWriter_fourcc(*'mp4v')\n",
    "    out = cv2.VideoWriter(output_path, fourcc, fps, (frame_width, frame_height))    \n",
    "\n",
    "    # draw bounding boxes\n",
    "    for frame_idx in range(1, frame_length + 1):\n",
    "        frame = cv2.imread(os.path.join(video_path, f'{frame_idx:06d}.jpg'))\n",
    "        tracks = results[results['frame'] == frame_idx]\n",
    "        for track in tracks.values:\n",
    "            x, y, w, h = track[2:6]\n",
    "            cv2.rectangle(frame, (int(x), int(y)), (int(x + w), int(y + h)), (0, 255, 0), 2)\n",
    "            cv2.putText(frame, str(int(track[1])), (int(x), int(y) - 10), cv2.FONT_HERSHEY_SIMPLEX, 0.9, (0, 255, 0), 2)\n",
    "\n",
    "        cv2.imshow('frame', frame)\n",
    "        out.write(frame)\n",
    "\n",
    "        if cv2.waitKey(1) & 0xFF == ord('q'):\n",
    "            break\n",
    "    \n",
    "    out.release()\n",
    "    cv2.destroyAllWindows()\n"
   ]
  },
  {
   "cell_type": "code",
   "execution_count": 22,
   "metadata": {},
   "outputs": [],
   "source": [
    "output_path = 'tp4_result.mp4'\n",
    "display_tracking_results(results, data_path, output_path)"
   ]
  },
  {
   "cell_type": "markdown",
   "metadata": {},
   "source": [
    "# TP5"
   ]
  },
  {
   "cell_type": "code",
   "execution_count": 10,
   "metadata": {},
   "outputs": [
    {
     "name": "stderr",
     "output_type": "stream",
     "text": [
      "Detecting:   0%|          | 0/525 [00:00<?, ?it/s]"
     ]
    },
    {
     "name": "stdout",
     "output_type": "stream",
     "text": [
      "\n"
     ]
    },
    {
     "name": "stderr",
     "output_type": "stream",
     "text": [
      "/opt/homebrew/lib/python3.11/site-packages/tqdm/auto.py:21: TqdmWarning: IProgress not found. Please update jupyter and ipywidgets. See https://ipywidgets.readthedocs.io/en/stable/user_install.html\n",
      "  from .autonotebook import tqdm as notebook_tqdm\n"
     ]
    },
    {
     "name": "stdout",
     "output_type": "stream",
     "text": [
      "image 1/1 /Users/gaspardsaliou/Documents/epita/ing3/visualObjectTracking/tp2-3/ADL-Rundle-6/img1/000001.jpg: 384x640 9 persons, 1 backpack, 1 tv, 94.1ms\n",
      "Speed: 3.0ms preprocess, 94.1ms inference, 6.4ms postprocess per image at shape (1, 3, 384, 640)\n"
     ]
    },
    {
     "name": "stderr",
     "output_type": "stream",
     "text": [
      "Detecting:   0%|          | 1/525 [00:01<09:27,  1.08s/it]"
     ]
    },
    {
     "name": "stdout",
     "output_type": "stream",
     "text": [
      "\n",
      "image 1/1 /Users/gaspardsaliou/Documents/epita/ing3/visualObjectTracking/tp2-3/ADL-Rundle-6/img1/000002.jpg: 384x640 7 persons, 1 backpack, 2 handbags, 1 tv, 57.0ms\n",
      "Speed: 1.4ms preprocess, 57.0ms inference, 0.4ms postprocess per image at shape (1, 3, 384, 640)\n",
      "\n",
      "image 1/1 /Users/gaspardsaliou/Documents/epita/ing3/visualObjectTracking/tp2-3/ADL-Rundle-6/img1/000003.jpg: 384x640 7 persons, 1 backpack, 2 handbags, 1 tv, 69.9ms\n",
      "Speed: 1.2ms preprocess, 69.9ms inference, 0.5ms postprocess per image at shape (1, 3, 384, 640)\n"
     ]
    },
    {
     "name": "stderr",
     "output_type": "stream",
     "text": [
      "Detecting:   1%|          | 3/525 [00:01<02:55,  2.98it/s]"
     ]
    },
    {
     "name": "stdout",
     "output_type": "stream",
     "text": [
      "\n",
      "image 1/1 /Users/gaspardsaliou/Documents/epita/ing3/visualObjectTracking/tp2-3/ADL-Rundle-6/img1/000004.jpg: 384x640 9 persons, 1 handbag, 1 tv, 59.2ms\n",
      "Speed: 1.3ms preprocess, 59.2ms inference, 0.4ms postprocess per image at shape (1, 3, 384, 640)\n",
      "\n",
      "image 1/1 /Users/gaspardsaliou/Documents/epita/ing3/visualObjectTracking/tp2-3/ADL-Rundle-6/img1/000005.jpg: 384x640 9 persons, 1 handbag, 1 tv, 60.4ms\n",
      "Speed: 1.3ms preprocess, 60.4ms inference, 0.4ms postprocess per image at shape (1, 3, 384, 640)\n"
     ]
    },
    {
     "name": "stderr",
     "output_type": "stream",
     "text": [
      "Detecting:   1%|          | 5/525 [00:01<01:43,  5.01it/s]"
     ]
    },
    {
     "name": "stdout",
     "output_type": "stream",
     "text": [
      "\n",
      "image 1/1 /Users/gaspardsaliou/Documents/epita/ing3/visualObjectTracking/tp2-3/ADL-Rundle-6/img1/000006.jpg: 384x640 8 persons, 1 handbag, 1 tv, 153.3ms\n",
      "Speed: 1.7ms preprocess, 153.3ms inference, 0.6ms postprocess per image at shape (1, 3, 384, 640)\n",
      "\n",
      "image 1/1 /Users/gaspardsaliou/Documents/epita/ing3/visualObjectTracking/tp2-3/ADL-Rundle-6/img1/000007.jpg: 384x640 7 persons, 2 handbags, 1 tv, 54.9ms\n",
      "Speed: 1.2ms preprocess, 54.9ms inference, 0.6ms postprocess per image at shape (1, 3, 384, 640)\n"
     ]
    },
    {
     "name": "stderr",
     "output_type": "stream",
     "text": [
      "Detecting:   1%|▏         | 7/525 [00:01<01:24,  6.10it/s]"
     ]
    },
    {
     "name": "stdout",
     "output_type": "stream",
     "text": [
      "\n",
      "image 1/1 /Users/gaspardsaliou/Documents/epita/ing3/visualObjectTracking/tp2-3/ADL-Rundle-6/img1/000008.jpg: 384x640 7 persons, 1 handbag, 1 tv, 80.7ms\n",
      "Speed: 1.3ms preprocess, 80.7ms inference, 1.5ms postprocess per image at shape (1, 3, 384, 640)\n",
      "\n",
      "image 1/1 /Users/gaspardsaliou/Documents/epita/ing3/visualObjectTracking/tp2-3/ADL-Rundle-6/img1/000009.jpg: 384x640 7 persons, 2 handbags, 1 tv, 87.9ms\n",
      "Speed: 1.5ms preprocess, 87.9ms inference, 0.5ms postprocess per image at shape (1, 3, 384, 640)\n"
     ]
    },
    {
     "name": "stderr",
     "output_type": "stream",
     "text": [
      "Detecting:   2%|▏         | 9/525 [00:01<01:11,  7.23it/s]"
     ]
    },
    {
     "name": "stdout",
     "output_type": "stream",
     "text": [
      "\n",
      "image 1/1 /Users/gaspardsaliou/Documents/epita/ing3/visualObjectTracking/tp2-3/ADL-Rundle-6/img1/000010.jpg: 384x640 8 persons, 1 backpack, 1 handbag, 1 tv, 84.3ms\n",
      "Speed: 1.3ms preprocess, 84.3ms inference, 0.6ms postprocess per image at shape (1, 3, 384, 640)\n",
      "\n",
      "image 1/1 /Users/gaspardsaliou/Documents/epita/ing3/visualObjectTracking/tp2-3/ADL-Rundle-6/img1/000011.jpg: 384x640 9 persons, 1 backpack, 1 tv, 77.0ms\n",
      "Speed: 1.7ms preprocess, 77.0ms inference, 0.5ms postprocess per image at shape (1, 3, 384, 640)\n"
     ]
    },
    {
     "name": "stderr",
     "output_type": "stream",
     "text": [
      "Detecting:   2%|▏         | 11/525 [00:01<01:02,  8.18it/s]"
     ]
    },
    {
     "name": "stdout",
     "output_type": "stream",
     "text": [
      "\n",
      "image 1/1 /Users/gaspardsaliou/Documents/epita/ing3/visualObjectTracking/tp2-3/ADL-Rundle-6/img1/000012.jpg: 384x640 8 persons, 1 tv, 72.3ms\n",
      "Speed: 1.4ms preprocess, 72.3ms inference, 0.5ms postprocess per image at shape (1, 3, 384, 640)\n",
      "\n",
      "image 1/1 /Users/gaspardsaliou/Documents/epita/ing3/visualObjectTracking/tp2-3/ADL-Rundle-6/img1/000013.jpg: 384x640 8 persons, 1 tv, 75.1ms\n",
      "Speed: 1.3ms preprocess, 75.1ms inference, 0.6ms postprocess per image at shape (1, 3, 384, 640)\n"
     ]
    },
    {
     "name": "stderr",
     "output_type": "stream",
     "text": [
      "Detecting:   2%|▏         | 13/525 [00:02<00:56,  9.11it/s]"
     ]
    },
    {
     "name": "stdout",
     "output_type": "stream",
     "text": [
      "\n",
      "image 1/1 /Users/gaspardsaliou/Documents/epita/ing3/visualObjectTracking/tp2-3/ADL-Rundle-6/img1/000014.jpg: 384x640 9 persons, 1 kite, 1 tv, 69.0ms\n",
      "Speed: 1.4ms preprocess, 69.0ms inference, 0.4ms postprocess per image at shape (1, 3, 384, 640)\n",
      "\n",
      "image 1/1 /Users/gaspardsaliou/Documents/epita/ing3/visualObjectTracking/tp2-3/ADL-Rundle-6/img1/000015.jpg: 384x640 12 persons, 1 handbag, 1 kite, 1 tv, 61.0ms\n",
      "Speed: 1.3ms preprocess, 61.0ms inference, 0.6ms postprocess per image at shape (1, 3, 384, 640)\n"
     ]
    },
    {
     "name": "stderr",
     "output_type": "stream",
     "text": [
      "Detecting:   3%|▎         | 15/525 [00:02<00:50, 10.14it/s]"
     ]
    },
    {
     "name": "stdout",
     "output_type": "stream",
     "text": [
      "\n",
      "image 1/1 /Users/gaspardsaliou/Documents/epita/ing3/visualObjectTracking/tp2-3/ADL-Rundle-6/img1/000016.jpg: 384x640 11 persons, 1 handbag, 1 tv, 72.9ms\n",
      "Speed: 1.3ms preprocess, 72.9ms inference, 0.4ms postprocess per image at shape (1, 3, 384, 640)\n",
      "\n",
      "image 1/1 /Users/gaspardsaliou/Documents/epita/ing3/visualObjectTracking/tp2-3/ADL-Rundle-6/img1/000017.jpg: 384x640 10 persons, 1 handbag, 1 tv, 67.2ms\n",
      "Speed: 1.3ms preprocess, 67.2ms inference, 0.5ms postprocess per image at shape (1, 3, 384, 640)\n"
     ]
    },
    {
     "name": "stderr",
     "output_type": "stream",
     "text": [
      "Detecting:   3%|▎         | 17/525 [00:02<00:47, 10.74it/s]"
     ]
    },
    {
     "name": "stdout",
     "output_type": "stream",
     "text": [
      "\n",
      "image 1/1 /Users/gaspardsaliou/Documents/epita/ing3/visualObjectTracking/tp2-3/ADL-Rundle-6/img1/000018.jpg: 384x640 10 persons, 1 handbag, 1 tv, 79.8ms\n",
      "Speed: 1.5ms preprocess, 79.8ms inference, 0.5ms postprocess per image at shape (1, 3, 384, 640)\n",
      "\n",
      "image 1/1 /Users/gaspardsaliou/Documents/epita/ing3/visualObjectTracking/tp2-3/ADL-Rundle-6/img1/000019.jpg: 384x640 8 persons, 1 handbag, 1 tv, 74.9ms\n",
      "Speed: 1.5ms preprocess, 74.9ms inference, 0.3ms postprocess per image at shape (1, 3, 384, 640)\n"
     ]
    },
    {
     "name": "stderr",
     "output_type": "stream",
     "text": [
      "Detecting:   4%|▎         | 19/525 [00:02<00:46, 10.88it/s]"
     ]
    },
    {
     "name": "stdout",
     "output_type": "stream",
     "text": [
      "\n",
      "image 1/1 /Users/gaspardsaliou/Documents/epita/ing3/visualObjectTracking/tp2-3/ADL-Rundle-6/img1/000020.jpg: 384x640 8 persons, 1 handbag, 1 tv, 62.8ms\n",
      "Speed: 1.2ms preprocess, 62.8ms inference, 0.4ms postprocess per image at shape (1, 3, 384, 640)\n",
      "\n",
      "image 1/1 /Users/gaspardsaliou/Documents/epita/ing3/visualObjectTracking/tp2-3/ADL-Rundle-6/img1/000021.jpg: 384x640 8 persons, 1 backpack, 1 handbag, 1 tv, 67.2ms\n",
      "Speed: 1.7ms preprocess, 67.2ms inference, 0.4ms postprocess per image at shape (1, 3, 384, 640)\n"
     ]
    },
    {
     "name": "stderr",
     "output_type": "stream",
     "text": [
      "Detecting:   4%|▍         | 21/525 [00:02<00:43, 11.50it/s]"
     ]
    },
    {
     "name": "stdout",
     "output_type": "stream",
     "text": [
      "\n",
      "image 1/1 /Users/gaspardsaliou/Documents/epita/ing3/visualObjectTracking/tp2-3/ADL-Rundle-6/img1/000022.jpg: 384x640 8 persons, 3 handbags, 1 tv, 61.7ms\n",
      "Speed: 1.5ms preprocess, 61.7ms inference, 0.4ms postprocess per image at shape (1, 3, 384, 640)\n",
      "\n",
      "image 1/1 /Users/gaspardsaliou/Documents/epita/ing3/visualObjectTracking/tp2-3/ADL-Rundle-6/img1/000023.jpg: 384x640 7 persons, 1 backpack, 1 handbag, 1 tv, 58.0ms\n",
      "Speed: 1.2ms preprocess, 58.0ms inference, 0.4ms postprocess per image at shape (1, 3, 384, 640)\n"
     ]
    },
    {
     "name": "stderr",
     "output_type": "stream",
     "text": [
      "Detecting:   4%|▍         | 23/525 [00:02<00:41, 12.24it/s]"
     ]
    },
    {
     "name": "stdout",
     "output_type": "stream",
     "text": [
      "\n",
      "image 1/1 /Users/gaspardsaliou/Documents/epita/ing3/visualObjectTracking/tp2-3/ADL-Rundle-6/img1/000024.jpg: 384x640 7 persons, 1 handbag, 1 tv, 62.6ms\n",
      "Speed: 1.3ms preprocess, 62.6ms inference, 0.4ms postprocess per image at shape (1, 3, 384, 640)\n",
      "\n",
      "image 1/1 /Users/gaspardsaliou/Documents/epita/ing3/visualObjectTracking/tp2-3/ADL-Rundle-6/img1/000025.jpg: 384x640 9 persons, 1 handbag, 1 tv, 56.1ms\n",
      "Speed: 1.2ms preprocess, 56.1ms inference, 0.4ms postprocess per image at shape (1, 3, 384, 640)\n"
     ]
    },
    {
     "name": "stderr",
     "output_type": "stream",
     "text": [
      "Detecting:   5%|▍         | 25/525 [00:03<00:39, 12.80it/s]"
     ]
    },
    {
     "name": "stdout",
     "output_type": "stream",
     "text": [
      "\n",
      "image 1/1 /Users/gaspardsaliou/Documents/epita/ing3/visualObjectTracking/tp2-3/ADL-Rundle-6/img1/000026.jpg: 384x640 7 persons, 1 handbag, 1 tv, 73.3ms\n",
      "Speed: 1.2ms preprocess, 73.3ms inference, 0.5ms postprocess per image at shape (1, 3, 384, 640)\n",
      "\n",
      "image 1/1 /Users/gaspardsaliou/Documents/epita/ing3/visualObjectTracking/tp2-3/ADL-Rundle-6/img1/000027.jpg: 384x640 6 persons, 1 handbag, 1 tv, 76.9ms\n",
      "Speed: 1.3ms preprocess, 76.9ms inference, 0.6ms postprocess per image at shape (1, 3, 384, 640)\n"
     ]
    },
    {
     "name": "stderr",
     "output_type": "stream",
     "text": [
      "Detecting:   5%|▌         | 27/525 [00:03<00:40, 12.39it/s]"
     ]
    },
    {
     "name": "stdout",
     "output_type": "stream",
     "text": [
      "\n",
      "image 1/1 /Users/gaspardsaliou/Documents/epita/ing3/visualObjectTracking/tp2-3/ADL-Rundle-6/img1/000028.jpg: 384x640 7 persons, 1 handbag, 1 tv, 75.6ms\n",
      "Speed: 1.4ms preprocess, 75.6ms inference, 0.5ms postprocess per image at shape (1, 3, 384, 640)\n",
      "\n",
      "image 1/1 /Users/gaspardsaliou/Documents/epita/ing3/visualObjectTracking/tp2-3/ADL-Rundle-6/img1/000029.jpg: 384x640 6 persons, 1 handbag, 1 kite, 1 tv, 65.6ms\n",
      "Speed: 1.5ms preprocess, 65.6ms inference, 0.4ms postprocess per image at shape (1, 3, 384, 640)\n"
     ]
    },
    {
     "name": "stderr",
     "output_type": "stream",
     "text": [
      "Detecting:   6%|▌         | 29/525 [00:03<00:40, 12.31it/s]"
     ]
    },
    {
     "name": "stdout",
     "output_type": "stream",
     "text": [
      "\n",
      "image 1/1 /Users/gaspardsaliou/Documents/epita/ing3/visualObjectTracking/tp2-3/ADL-Rundle-6/img1/000030.jpg: 384x640 6 persons, 1 handbag, 1 tv, 68.8ms\n",
      "Speed: 1.4ms preprocess, 68.8ms inference, 0.4ms postprocess per image at shape (1, 3, 384, 640)\n",
      "\n",
      "image 1/1 /Users/gaspardsaliou/Documents/epita/ing3/visualObjectTracking/tp2-3/ADL-Rundle-6/img1/000031.jpg: 384x640 7 persons, 1 handbag, 1 kite, 1 tv, 63.9ms\n",
      "Speed: 1.2ms preprocess, 63.9ms inference, 0.3ms postprocess per image at shape (1, 3, 384, 640)\n"
     ]
    },
    {
     "name": "stderr",
     "output_type": "stream",
     "text": [
      "Detecting:   6%|▌         | 31/525 [00:03<00:39, 12.50it/s]"
     ]
    },
    {
     "name": "stdout",
     "output_type": "stream",
     "text": [
      "\n",
      "image 1/1 /Users/gaspardsaliou/Documents/epita/ing3/visualObjectTracking/tp2-3/ADL-Rundle-6/img1/000032.jpg: 384x640 6 persons, 1 handbag, 1 tv, 71.6ms\n",
      "Speed: 1.2ms preprocess, 71.6ms inference, 0.4ms postprocess per image at shape (1, 3, 384, 640)\n",
      "\n",
      "image 1/1 /Users/gaspardsaliou/Documents/epita/ing3/visualObjectTracking/tp2-3/ADL-Rundle-6/img1/000033.jpg: 384x640 6 persons, 1 handbag, 1 tv, 68.1ms\n",
      "Speed: 1.2ms preprocess, 68.1ms inference, 0.4ms postprocess per image at shape (1, 3, 384, 640)\n"
     ]
    },
    {
     "name": "stderr",
     "output_type": "stream",
     "text": [
      "Detecting:   6%|▋         | 33/525 [00:03<00:39, 12.45it/s]"
     ]
    },
    {
     "name": "stdout",
     "output_type": "stream",
     "text": [
      "\n",
      "image 1/1 /Users/gaspardsaliou/Documents/epita/ing3/visualObjectTracking/tp2-3/ADL-Rundle-6/img1/000034.jpg: 384x640 6 persons, 1 backpack, 2 handbags, 1 tv, 77.1ms\n",
      "Speed: 1.3ms preprocess, 77.1ms inference, 1.1ms postprocess per image at shape (1, 3, 384, 640)\n",
      "\n",
      "image 1/1 /Users/gaspardsaliou/Documents/epita/ing3/visualObjectTracking/tp2-3/ADL-Rundle-6/img1/000035.jpg: 384x640 8 persons, 1 backpack, 2 handbags, 83.7ms\n",
      "Speed: 1.7ms preprocess, 83.7ms inference, 0.5ms postprocess per image at shape (1, 3, 384, 640)\n"
     ]
    },
    {
     "name": "stderr",
     "output_type": "stream",
     "text": [
      "Detecting:   7%|▋         | 35/525 [00:03<00:41, 11.91it/s]"
     ]
    },
    {
     "name": "stdout",
     "output_type": "stream",
     "text": [
      "\n",
      "image 1/1 /Users/gaspardsaliou/Documents/epita/ing3/visualObjectTracking/tp2-3/ADL-Rundle-6/img1/000036.jpg: 384x640 7 persons, 2 handbags, 155.5ms\n",
      "Speed: 1.2ms preprocess, 155.5ms inference, 1.2ms postprocess per image at shape (1, 3, 384, 640)\n",
      "\n",
      "image 1/1 /Users/gaspardsaliou/Documents/epita/ing3/visualObjectTracking/tp2-3/ADL-Rundle-6/img1/000037.jpg: 384x640 6 persons, 2 handbags, 71.7ms\n",
      "Speed: 3.2ms preprocess, 71.7ms inference, 0.4ms postprocess per image at shape (1, 3, 384, 640)\n"
     ]
    },
    {
     "name": "stderr",
     "output_type": "stream",
     "text": [
      "Detecting:   7%|▋         | 37/525 [00:04<00:47, 10.33it/s]"
     ]
    },
    {
     "name": "stdout",
     "output_type": "stream",
     "text": [
      "\n",
      "image 1/1 /Users/gaspardsaliou/Documents/epita/ing3/visualObjectTracking/tp2-3/ADL-Rundle-6/img1/000038.jpg: 384x640 7 persons, 1 handbag, 75.9ms\n",
      "Speed: 1.6ms preprocess, 75.9ms inference, 0.4ms postprocess per image at shape (1, 3, 384, 640)\n",
      "\n",
      "image 1/1 /Users/gaspardsaliou/Documents/epita/ing3/visualObjectTracking/tp2-3/ADL-Rundle-6/img1/000039.jpg: 384x640 7 persons, 1 handbag, 65.0ms\n",
      "Speed: 1.4ms preprocess, 65.0ms inference, 0.3ms postprocess per image at shape (1, 3, 384, 640)\n"
     ]
    },
    {
     "name": "stderr",
     "output_type": "stream",
     "text": [
      "Detecting:   7%|▋         | 39/525 [00:04<00:44, 10.87it/s]"
     ]
    },
    {
     "name": "stdout",
     "output_type": "stream",
     "text": [
      "\n",
      "image 1/1 /Users/gaspardsaliou/Documents/epita/ing3/visualObjectTracking/tp2-3/ADL-Rundle-6/img1/000040.jpg: 384x640 6 persons, 2 handbags, 66.1ms\n",
      "Speed: 1.5ms preprocess, 66.1ms inference, 1.0ms postprocess per image at shape (1, 3, 384, 640)\n",
      "\n",
      "image 1/1 /Users/gaspardsaliou/Documents/epita/ing3/visualObjectTracking/tp2-3/ADL-Rundle-6/img1/000041.jpg: 384x640 8 persons, 2 handbags, 73.9ms\n",
      "Speed: 1.7ms preprocess, 73.9ms inference, 0.4ms postprocess per image at shape (1, 3, 384, 640)\n"
     ]
    },
    {
     "name": "stderr",
     "output_type": "stream",
     "text": [
      "Detecting:   8%|▊         | 41/525 [00:04<00:43, 11.25it/s]"
     ]
    },
    {
     "name": "stdout",
     "output_type": "stream",
     "text": [
      "\n",
      "image 1/1 /Users/gaspardsaliou/Documents/epita/ing3/visualObjectTracking/tp2-3/ADL-Rundle-6/img1/000042.jpg: 384x640 8 persons, 1 handbag, 72.7ms\n",
      "Speed: 1.2ms preprocess, 72.7ms inference, 11.1ms postprocess per image at shape (1, 3, 384, 640)\n",
      "\n",
      "image 1/1 /Users/gaspardsaliou/Documents/epita/ing3/visualObjectTracking/tp2-3/ADL-Rundle-6/img1/000043.jpg: 384x640 7 persons, 3 handbags, 82.3ms\n",
      "Speed: 1.5ms preprocess, 82.3ms inference, 0.4ms postprocess per image at shape (1, 3, 384, 640)\n"
     ]
    },
    {
     "name": "stderr",
     "output_type": "stream",
     "text": [
      "Detecting:   8%|▊         | 43/525 [00:04<00:43, 11.06it/s]"
     ]
    },
    {
     "name": "stdout",
     "output_type": "stream",
     "text": [
      "\n",
      "image 1/1 /Users/gaspardsaliou/Documents/epita/ing3/visualObjectTracking/tp2-3/ADL-Rundle-6/img1/000044.jpg: 384x640 8 persons, 1 backpack, 2 handbags, 65.4ms\n",
      "Speed: 1.5ms preprocess, 65.4ms inference, 0.6ms postprocess per image at shape (1, 3, 384, 640)\n",
      "\n",
      "image 1/1 /Users/gaspardsaliou/Documents/epita/ing3/visualObjectTracking/tp2-3/ADL-Rundle-6/img1/000045.jpg: 384x640 11 persons, 1 handbag, 1 bottle, 77.9ms\n",
      "Speed: 1.4ms preprocess, 77.9ms inference, 0.4ms postprocess per image at shape (1, 3, 384, 640)\n"
     ]
    },
    {
     "name": "stderr",
     "output_type": "stream",
     "text": [
      "Detecting:   9%|▊         | 45/525 [00:04<00:42, 11.35it/s]"
     ]
    },
    {
     "name": "stdout",
     "output_type": "stream",
     "text": [
      "\n",
      "image 1/1 /Users/gaspardsaliou/Documents/epita/ing3/visualObjectTracking/tp2-3/ADL-Rundle-6/img1/000046.jpg: 384x640 10 persons, 1 handbag, 58.8ms\n",
      "Speed: 1.8ms preprocess, 58.8ms inference, 0.6ms postprocess per image at shape (1, 3, 384, 640)\n",
      "\n",
      "image 1/1 /Users/gaspardsaliou/Documents/epita/ing3/visualObjectTracking/tp2-3/ADL-Rundle-6/img1/000047.jpg: 384x640 10 persons, 1 handbag, 62.4ms\n",
      "Speed: 1.6ms preprocess, 62.4ms inference, 0.4ms postprocess per image at shape (1, 3, 384, 640)\n"
     ]
    },
    {
     "name": "stderr",
     "output_type": "stream",
     "text": [
      "Detecting:   9%|▉         | 47/525 [00:04<00:39, 12.00it/s]"
     ]
    },
    {
     "name": "stdout",
     "output_type": "stream",
     "text": [
      "\n",
      "image 1/1 /Users/gaspardsaliou/Documents/epita/ing3/visualObjectTracking/tp2-3/ADL-Rundle-6/img1/000048.jpg: 384x640 10 persons, 1 handbag, 69.6ms\n",
      "Speed: 1.2ms preprocess, 69.6ms inference, 0.9ms postprocess per image at shape (1, 3, 384, 640)\n",
      "\n",
      "image 1/1 /Users/gaspardsaliou/Documents/epita/ing3/visualObjectTracking/tp2-3/ADL-Rundle-6/img1/000049.jpg: 384x640 9 persons, 1 handbag, 58.9ms\n",
      "Speed: 1.4ms preprocess, 58.9ms inference, 0.4ms postprocess per image at shape (1, 3, 384, 640)\n"
     ]
    },
    {
     "name": "stderr",
     "output_type": "stream",
     "text": [
      "Detecting:   9%|▉         | 49/525 [00:05<00:38, 12.38it/s]"
     ]
    },
    {
     "name": "stdout",
     "output_type": "stream",
     "text": [
      "\n",
      "image 1/1 /Users/gaspardsaliou/Documents/epita/ing3/visualObjectTracking/tp2-3/ADL-Rundle-6/img1/000050.jpg: 384x640 11 persons, 1 handbag, 64.5ms\n",
      "Speed: 1.2ms preprocess, 64.5ms inference, 0.4ms postprocess per image at shape (1, 3, 384, 640)\n",
      "\n",
      "image 1/1 /Users/gaspardsaliou/Documents/epita/ing3/visualObjectTracking/tp2-3/ADL-Rundle-6/img1/000051.jpg: 384x640 11 persons, 1 handbag, 55.9ms\n",
      "Speed: 1.2ms preprocess, 55.9ms inference, 0.5ms postprocess per image at shape (1, 3, 384, 640)\n"
     ]
    },
    {
     "name": "stderr",
     "output_type": "stream",
     "text": [
      "Detecting:  10%|▉         | 51/525 [00:05<00:36, 12.86it/s]"
     ]
    },
    {
     "name": "stdout",
     "output_type": "stream",
     "text": [
      "\n",
      "image 1/1 /Users/gaspardsaliou/Documents/epita/ing3/visualObjectTracking/tp2-3/ADL-Rundle-6/img1/000052.jpg: 384x640 10 persons, 1 backpack, 1 umbrella, 1 handbag, 60.9ms\n",
      "Speed: 1.2ms preprocess, 60.9ms inference, 0.4ms postprocess per image at shape (1, 3, 384, 640)\n",
      "\n",
      "image 1/1 /Users/gaspardsaliou/Documents/epita/ing3/visualObjectTracking/tp2-3/ADL-Rundle-6/img1/000053.jpg: 384x640 11 persons, 2 handbags, 1 tv, 58.6ms\n",
      "Speed: 1.3ms preprocess, 58.6ms inference, 0.3ms postprocess per image at shape (1, 3, 384, 640)\n"
     ]
    },
    {
     "name": "stderr",
     "output_type": "stream",
     "text": [
      "Detecting:  10%|█         | 53/525 [00:05<00:35, 13.26it/s]"
     ]
    },
    {
     "name": "stdout",
     "output_type": "stream",
     "text": [
      "\n",
      "image 1/1 /Users/gaspardsaliou/Documents/epita/ing3/visualObjectTracking/tp2-3/ADL-Rundle-6/img1/000054.jpg: 384x640 11 persons, 1 backpack, 2 handbags, 63.1ms\n",
      "Speed: 1.2ms preprocess, 63.1ms inference, 0.4ms postprocess per image at shape (1, 3, 384, 640)\n",
      "\n",
      "image 1/1 /Users/gaspardsaliou/Documents/epita/ing3/visualObjectTracking/tp2-3/ADL-Rundle-6/img1/000055.jpg: 384x640 11 persons, 1 backpack, 2 handbags, 61.4ms\n",
      "Speed: 1.2ms preprocess, 61.4ms inference, 0.4ms postprocess per image at shape (1, 3, 384, 640)\n"
     ]
    },
    {
     "name": "stderr",
     "output_type": "stream",
     "text": [
      "Detecting:  10%|█         | 55/525 [00:05<00:35, 13.41it/s]"
     ]
    },
    {
     "name": "stdout",
     "output_type": "stream",
     "text": [
      "\n",
      "image 1/1 /Users/gaspardsaliou/Documents/epita/ing3/visualObjectTracking/tp2-3/ADL-Rundle-6/img1/000056.jpg: 384x640 10 persons, 1 backpack, 3 handbags, 60.4ms\n",
      "Speed: 1.2ms preprocess, 60.4ms inference, 0.4ms postprocess per image at shape (1, 3, 384, 640)\n",
      "\n",
      "image 1/1 /Users/gaspardsaliou/Documents/epita/ing3/visualObjectTracking/tp2-3/ADL-Rundle-6/img1/000057.jpg: 384x640 10 persons, 1 backpack, 2 handbags, 57.5ms\n",
      "Speed: 1.4ms preprocess, 57.5ms inference, 0.4ms postprocess per image at shape (1, 3, 384, 640)\n"
     ]
    },
    {
     "name": "stderr",
     "output_type": "stream",
     "text": [
      "Detecting:  11%|█         | 57/525 [00:05<00:34, 13.67it/s]"
     ]
    },
    {
     "name": "stdout",
     "output_type": "stream",
     "text": [
      "\n",
      "image 1/1 /Users/gaspardsaliou/Documents/epita/ing3/visualObjectTracking/tp2-3/ADL-Rundle-6/img1/000058.jpg: 384x640 11 persons, 1 backpack, 4 handbags, 1 tv, 74.0ms\n",
      "Speed: 1.3ms preprocess, 74.0ms inference, 0.4ms postprocess per image at shape (1, 3, 384, 640)\n",
      "\n",
      "image 1/1 /Users/gaspardsaliou/Documents/epita/ing3/visualObjectTracking/tp2-3/ADL-Rundle-6/img1/000059.jpg: 384x640 12 persons, 1 backpack, 2 handbags, 1 tv, 95.3ms\n",
      "Speed: 1.6ms preprocess, 95.3ms inference, 0.4ms postprocess per image at shape (1, 3, 384, 640)\n"
     ]
    },
    {
     "name": "stderr",
     "output_type": "stream",
     "text": [
      "Detecting:  11%|█         | 59/525 [00:05<00:37, 12.52it/s]"
     ]
    },
    {
     "name": "stdout",
     "output_type": "stream",
     "text": [
      "\n",
      "image 1/1 /Users/gaspardsaliou/Documents/epita/ing3/visualObjectTracking/tp2-3/ADL-Rundle-6/img1/000060.jpg: 384x640 12 persons, 1 backpack, 2 handbags, 68.4ms\n",
      "Speed: 1.9ms preprocess, 68.4ms inference, 0.3ms postprocess per image at shape (1, 3, 384, 640)\n",
      "\n",
      "image 1/1 /Users/gaspardsaliou/Documents/epita/ing3/visualObjectTracking/tp2-3/ADL-Rundle-6/img1/000061.jpg: 384x640 12 persons, 2 backpacks, 1 handbag, 1 tv, 58.3ms\n",
      "Speed: 1.3ms preprocess, 58.3ms inference, 0.3ms postprocess per image at shape (1, 3, 384, 640)\n"
     ]
    },
    {
     "name": "stderr",
     "output_type": "stream",
     "text": [
      "Detecting:  12%|█▏        | 61/525 [00:06<00:36, 12.80it/s]"
     ]
    },
    {
     "name": "stdout",
     "output_type": "stream",
     "text": [
      "\n",
      "image 1/1 /Users/gaspardsaliou/Documents/epita/ing3/visualObjectTracking/tp2-3/ADL-Rundle-6/img1/000062.jpg: 384x640 11 persons, 2 backpacks, 1 handbag, 1 tv, 78.6ms\n",
      "Speed: 1.3ms preprocess, 78.6ms inference, 0.4ms postprocess per image at shape (1, 3, 384, 640)\n",
      "\n",
      "image 1/1 /Users/gaspardsaliou/Documents/epita/ing3/visualObjectTracking/tp2-3/ADL-Rundle-6/img1/000063.jpg: 384x640 11 persons, 2 backpacks, 1 handbag, 1 tv, 58.0ms\n",
      "Speed: 1.2ms preprocess, 58.0ms inference, 0.4ms postprocess per image at shape (1, 3, 384, 640)\n"
     ]
    },
    {
     "name": "stderr",
     "output_type": "stream",
     "text": [
      "Detecting:  12%|█▏        | 63/525 [00:06<00:36, 12.73it/s]"
     ]
    },
    {
     "name": "stdout",
     "output_type": "stream",
     "text": [
      "\n",
      "image 1/1 /Users/gaspardsaliou/Documents/epita/ing3/visualObjectTracking/tp2-3/ADL-Rundle-6/img1/000064.jpg: 384x640 12 persons, 1 backpack, 1 handbag, 1 tv, 63.5ms\n",
      "Speed: 1.5ms preprocess, 63.5ms inference, 0.5ms postprocess per image at shape (1, 3, 384, 640)\n",
      "\n",
      "image 1/1 /Users/gaspardsaliou/Documents/epita/ing3/visualObjectTracking/tp2-3/ADL-Rundle-6/img1/000065.jpg: 384x640 12 persons, 2 backpacks, 1 handbag, 2 tvs, 59.4ms\n",
      "Speed: 1.7ms preprocess, 59.4ms inference, 0.4ms postprocess per image at shape (1, 3, 384, 640)\n"
     ]
    },
    {
     "name": "stderr",
     "output_type": "stream",
     "text": [
      "Detecting:  12%|█▏        | 65/525 [00:06<00:35, 13.07it/s]"
     ]
    },
    {
     "name": "stdout",
     "output_type": "stream",
     "text": [
      "\n",
      "image 1/1 /Users/gaspardsaliou/Documents/epita/ing3/visualObjectTracking/tp2-3/ADL-Rundle-6/img1/000066.jpg: 384x640 10 persons, 2 backpacks, 1 handbag, 2 tvs, 145.5ms\n",
      "Speed: 1.3ms preprocess, 145.5ms inference, 0.4ms postprocess per image at shape (1, 3, 384, 640)\n",
      "\n",
      "image 1/1 /Users/gaspardsaliou/Documents/epita/ing3/visualObjectTracking/tp2-3/ADL-Rundle-6/img1/000067.jpg: 384x640 10 persons, 2 backpacks, 1 handbag, 1 tv, 72.1ms\n",
      "Speed: 1.4ms preprocess, 72.1ms inference, 1.8ms postprocess per image at shape (1, 3, 384, 640)\n"
     ]
    },
    {
     "name": "stderr",
     "output_type": "stream",
     "text": [
      "Detecting:  13%|█▎        | 67/525 [00:06<00:41, 11.12it/s]"
     ]
    },
    {
     "name": "stdout",
     "output_type": "stream",
     "text": [
      "\n",
      "image 1/1 /Users/gaspardsaliou/Documents/epita/ing3/visualObjectTracking/tp2-3/ADL-Rundle-6/img1/000068.jpg: 384x640 10 persons, 1 backpack, 1 handbag, 2 tvs, 77.8ms\n",
      "Speed: 1.4ms preprocess, 77.8ms inference, 0.4ms postprocess per image at shape (1, 3, 384, 640)\n",
      "\n",
      "image 1/1 /Users/gaspardsaliou/Documents/epita/ing3/visualObjectTracking/tp2-3/ADL-Rundle-6/img1/000069.jpg: 384x640 10 persons, 1 backpack, 1 handbag, 2 tvs, 75.0ms\n",
      "Speed: 1.4ms preprocess, 75.0ms inference, 1.0ms postprocess per image at shape (1, 3, 384, 640)\n"
     ]
    },
    {
     "name": "stderr",
     "output_type": "stream",
     "text": [
      "Detecting:  13%|█▎        | 69/525 [00:06<00:40, 11.20it/s]"
     ]
    },
    {
     "name": "stdout",
     "output_type": "stream",
     "text": [
      "\n",
      "image 1/1 /Users/gaspardsaliou/Documents/epita/ing3/visualObjectTracking/tp2-3/ADL-Rundle-6/img1/000070.jpg: 384x640 9 persons, 1 backpack, 2 handbags, 2 tvs, 67.7ms\n",
      "Speed: 1.9ms preprocess, 67.7ms inference, 0.9ms postprocess per image at shape (1, 3, 384, 640)\n",
      "\n",
      "image 1/1 /Users/gaspardsaliou/Documents/epita/ing3/visualObjectTracking/tp2-3/ADL-Rundle-6/img1/000071.jpg: 384x640 9 persons, 1 backpack, 2 handbags, 2 tvs, 72.0ms\n",
      "Speed: 1.4ms preprocess, 72.0ms inference, 1.0ms postprocess per image at shape (1, 3, 384, 640)\n"
     ]
    },
    {
     "name": "stderr",
     "output_type": "stream",
     "text": [
      "Detecting:  14%|█▎        | 71/525 [00:06<00:39, 11.48it/s]"
     ]
    },
    {
     "name": "stdout",
     "output_type": "stream",
     "text": [
      "\n",
      "image 1/1 /Users/gaspardsaliou/Documents/epita/ing3/visualObjectTracking/tp2-3/ADL-Rundle-6/img1/000072.jpg: 384x640 11 persons, 3 backpacks, 2 handbags, 1 tv, 70.9ms\n",
      "Speed: 2.0ms preprocess, 70.9ms inference, 0.4ms postprocess per image at shape (1, 3, 384, 640)\n",
      "\n",
      "image 1/1 /Users/gaspardsaliou/Documents/epita/ing3/visualObjectTracking/tp2-3/ADL-Rundle-6/img1/000073.jpg: 384x640 10 persons, 3 backpacks, 1 handbag, 2 tvs, 64.6ms\n",
      "Speed: 1.8ms preprocess, 64.6ms inference, 0.6ms postprocess per image at shape (1, 3, 384, 640)\n"
     ]
    },
    {
     "name": "stderr",
     "output_type": "stream",
     "text": [
      "Detecting:  14%|█▍        | 73/525 [00:07<00:38, 11.73it/s]"
     ]
    },
    {
     "name": "stdout",
     "output_type": "stream",
     "text": [
      "\n",
      "image 1/1 /Users/gaspardsaliou/Documents/epita/ing3/visualObjectTracking/tp2-3/ADL-Rundle-6/img1/000074.jpg: 384x640 9 persons, 1 backpack, 2 handbags, 2 tvs, 75.2ms\n",
      "Speed: 2.1ms preprocess, 75.2ms inference, 0.4ms postprocess per image at shape (1, 3, 384, 640)\n",
      "\n",
      "image 1/1 /Users/gaspardsaliou/Documents/epita/ing3/visualObjectTracking/tp2-3/ADL-Rundle-6/img1/000075.jpg: 384x640 10 persons, 1 backpack, 2 handbags, 2 tvs, 68.4ms\n",
      "Speed: 1.2ms preprocess, 68.4ms inference, 0.5ms postprocess per image at shape (1, 3, 384, 640)\n"
     ]
    },
    {
     "name": "stderr",
     "output_type": "stream",
     "text": [
      "Detecting:  14%|█▍        | 75/525 [00:07<00:38, 11.78it/s]"
     ]
    },
    {
     "name": "stdout",
     "output_type": "stream",
     "text": [
      "\n",
      "image 1/1 /Users/gaspardsaliou/Documents/epita/ing3/visualObjectTracking/tp2-3/ADL-Rundle-6/img1/000076.jpg: 384x640 10 persons, 1 backpack, 2 handbags, 2 tvs, 75.1ms\n",
      "Speed: 1.5ms preprocess, 75.1ms inference, 0.4ms postprocess per image at shape (1, 3, 384, 640)\n",
      "\n",
      "image 1/1 /Users/gaspardsaliou/Documents/epita/ing3/visualObjectTracking/tp2-3/ADL-Rundle-6/img1/000077.jpg: 384x640 11 persons, 2 backpacks, 2 handbags, 1 tv, 71.5ms\n",
      "Speed: 2.0ms preprocess, 71.5ms inference, 0.4ms postprocess per image at shape (1, 3, 384, 640)\n"
     ]
    },
    {
     "name": "stderr",
     "output_type": "stream",
     "text": [
      "Detecting:  15%|█▍        | 77/525 [00:07<00:38, 11.72it/s]"
     ]
    },
    {
     "name": "stdout",
     "output_type": "stream",
     "text": [
      "\n",
      "image 1/1 /Users/gaspardsaliou/Documents/epita/ing3/visualObjectTracking/tp2-3/ADL-Rundle-6/img1/000078.jpg: 384x640 11 persons, 2 backpacks, 1 handbag, 1 tv, 63.9ms\n",
      "Speed: 1.3ms preprocess, 63.9ms inference, 0.3ms postprocess per image at shape (1, 3, 384, 640)\n",
      "\n",
      "image 1/1 /Users/gaspardsaliou/Documents/epita/ing3/visualObjectTracking/tp2-3/ADL-Rundle-6/img1/000079.jpg: 384x640 11 persons, 1 backpack, 1 handbag, 1 tv, 56.5ms\n",
      "Speed: 1.7ms preprocess, 56.5ms inference, 0.4ms postprocess per image at shape (1, 3, 384, 640)\n"
     ]
    },
    {
     "name": "stderr",
     "output_type": "stream",
     "text": [
      "Detecting:  15%|█▌        | 79/525 [00:07<00:36, 12.32it/s]"
     ]
    },
    {
     "name": "stdout",
     "output_type": "stream",
     "text": [
      "\n",
      "image 1/1 /Users/gaspardsaliou/Documents/epita/ing3/visualObjectTracking/tp2-3/ADL-Rundle-6/img1/000080.jpg: 384x640 11 persons, 2 backpacks, 1 handbag, 1 tv, 64.7ms\n",
      "Speed: 1.3ms preprocess, 64.7ms inference, 0.9ms postprocess per image at shape (1, 3, 384, 640)\n",
      "\n",
      "image 1/1 /Users/gaspardsaliou/Documents/epita/ing3/visualObjectTracking/tp2-3/ADL-Rundle-6/img1/000081.jpg: 384x640 10 persons, 3 backpacks, 1 handbag, 1 tv, 58.5ms\n",
      "Speed: 1.2ms preprocess, 58.5ms inference, 0.3ms postprocess per image at shape (1, 3, 384, 640)\n"
     ]
    },
    {
     "name": "stderr",
     "output_type": "stream",
     "text": [
      "Detecting:  15%|█▌        | 81/525 [00:07<00:34, 12.75it/s]"
     ]
    },
    {
     "name": "stdout",
     "output_type": "stream",
     "text": [
      "\n",
      "image 1/1 /Users/gaspardsaliou/Documents/epita/ing3/visualObjectTracking/tp2-3/ADL-Rundle-6/img1/000082.jpg: 384x640 10 persons, 2 backpacks, 2 handbags, 1 tv, 63.8ms\n",
      "Speed: 1.2ms preprocess, 63.8ms inference, 0.4ms postprocess per image at shape (1, 3, 384, 640)\n",
      "\n",
      "image 1/1 /Users/gaspardsaliou/Documents/epita/ing3/visualObjectTracking/tp2-3/ADL-Rundle-6/img1/000083.jpg: 384x640 10 persons, 1 backpack, 1 handbag, 1 tv, 58.9ms\n",
      "Speed: 1.4ms preprocess, 58.9ms inference, 0.4ms postprocess per image at shape (1, 3, 384, 640)\n"
     ]
    },
    {
     "name": "stderr",
     "output_type": "stream",
     "text": [
      "Detecting:  16%|█▌        | 83/525 [00:07<00:33, 13.04it/s]"
     ]
    },
    {
     "name": "stdout",
     "output_type": "stream",
     "text": [
      "\n",
      "image 1/1 /Users/gaspardsaliou/Documents/epita/ing3/visualObjectTracking/tp2-3/ADL-Rundle-6/img1/000084.jpg: 384x640 10 persons, 1 backpack, 2 handbags, 1 tv, 60.7ms\n",
      "Speed: 1.2ms preprocess, 60.7ms inference, 0.3ms postprocess per image at shape (1, 3, 384, 640)\n",
      "\n",
      "image 1/1 /Users/gaspardsaliou/Documents/epita/ing3/visualObjectTracking/tp2-3/ADL-Rundle-6/img1/000085.jpg: 384x640 11 persons, 1 backpack, 3 handbags, 1 tv, 55.8ms\n",
      "Speed: 1.3ms preprocess, 55.8ms inference, 0.4ms postprocess per image at shape (1, 3, 384, 640)\n"
     ]
    },
    {
     "name": "stderr",
     "output_type": "stream",
     "text": [
      "Detecting:  16%|█▌        | 85/525 [00:08<00:32, 13.45it/s]"
     ]
    },
    {
     "name": "stdout",
     "output_type": "stream",
     "text": [
      "\n",
      "image 1/1 /Users/gaspardsaliou/Documents/epita/ing3/visualObjectTracking/tp2-3/ADL-Rundle-6/img1/000086.jpg: 384x640 10 persons, 1 backpack, 3 handbags, 1 tv, 55.9ms\n",
      "Speed: 1.2ms preprocess, 55.9ms inference, 0.4ms postprocess per image at shape (1, 3, 384, 640)\n",
      "\n",
      "image 1/1 /Users/gaspardsaliou/Documents/epita/ing3/visualObjectTracking/tp2-3/ADL-Rundle-6/img1/000087.jpg: 384x640 11 persons, 1 backpack, 3 handbags, 1 tv, 63.2ms\n",
      "Speed: 1.3ms preprocess, 63.2ms inference, 0.4ms postprocess per image at shape (1, 3, 384, 640)\n"
     ]
    },
    {
     "name": "stderr",
     "output_type": "stream",
     "text": [
      "Detecting:  17%|█▋        | 87/525 [00:08<00:32, 13.68it/s]"
     ]
    },
    {
     "name": "stdout",
     "output_type": "stream",
     "text": [
      "\n",
      "image 1/1 /Users/gaspardsaliou/Documents/epita/ing3/visualObjectTracking/tp2-3/ADL-Rundle-6/img1/000088.jpg: 384x640 11 persons, 1 backpack, 3 handbags, 1 tv, 58.5ms\n",
      "Speed: 1.2ms preprocess, 58.5ms inference, 0.3ms postprocess per image at shape (1, 3, 384, 640)\n",
      "\n",
      "image 1/1 /Users/gaspardsaliou/Documents/epita/ing3/visualObjectTracking/tp2-3/ADL-Rundle-6/img1/000089.jpg: 384x640 11 persons, 3 handbags, 1 tv, 58.8ms\n",
      "Speed: 1.3ms preprocess, 58.8ms inference, 0.3ms postprocess per image at shape (1, 3, 384, 640)\n"
     ]
    },
    {
     "name": "stderr",
     "output_type": "stream",
     "text": [
      "Detecting:  17%|█▋        | 89/525 [00:08<00:31, 13.87it/s]"
     ]
    },
    {
     "name": "stdout",
     "output_type": "stream",
     "text": [
      "\n",
      "image 1/1 /Users/gaspardsaliou/Documents/epita/ing3/visualObjectTracking/tp2-3/ADL-Rundle-6/img1/000090.jpg: 384x640 10 persons, 3 backpacks, 2 handbags, 1 tv, 62.2ms\n",
      "Speed: 1.3ms preprocess, 62.2ms inference, 0.4ms postprocess per image at shape (1, 3, 384, 640)\n",
      "\n",
      "image 1/1 /Users/gaspardsaliou/Documents/epita/ing3/visualObjectTracking/tp2-3/ADL-Rundle-6/img1/000091.jpg: 384x640 10 persons, 2 backpacks, 2 handbags, 1 tv, 61.6ms\n",
      "Speed: 1.2ms preprocess, 61.6ms inference, 0.3ms postprocess per image at shape (1, 3, 384, 640)\n"
     ]
    },
    {
     "name": "stderr",
     "output_type": "stream",
     "text": [
      "Detecting:  17%|█▋        | 91/525 [00:08<00:31, 13.79it/s]"
     ]
    },
    {
     "name": "stdout",
     "output_type": "stream",
     "text": [
      "\n",
      "image 1/1 /Users/gaspardsaliou/Documents/epita/ing3/visualObjectTracking/tp2-3/ADL-Rundle-6/img1/000092.jpg: 384x640 9 persons, 1 backpack, 2 handbags, 1 tv, 64.2ms\n",
      "Speed: 1.8ms preprocess, 64.2ms inference, 1.4ms postprocess per image at shape (1, 3, 384, 640)\n",
      "\n",
      "image 1/1 /Users/gaspardsaliou/Documents/epita/ing3/visualObjectTracking/tp2-3/ADL-Rundle-6/img1/000093.jpg: 384x640 9 persons, 1 backpack, 2 handbags, 92.7ms\n",
      "Speed: 1.8ms preprocess, 92.7ms inference, 0.5ms postprocess per image at shape (1, 3, 384, 640)\n"
     ]
    },
    {
     "name": "stderr",
     "output_type": "stream",
     "text": [
      "Detecting:  18%|█▊        | 93/525 [00:08<00:33, 12.81it/s]"
     ]
    },
    {
     "name": "stdout",
     "output_type": "stream",
     "text": [
      "\n",
      "image 1/1 /Users/gaspardsaliou/Documents/epita/ing3/visualObjectTracking/tp2-3/ADL-Rundle-6/img1/000094.jpg: 384x640 9 persons, 2 handbags, 1 tv, 76.4ms\n",
      "Speed: 1.6ms preprocess, 76.4ms inference, 1.1ms postprocess per image at shape (1, 3, 384, 640)\n",
      "\n",
      "image 1/1 /Users/gaspardsaliou/Documents/epita/ing3/visualObjectTracking/tp2-3/ADL-Rundle-6/img1/000095.jpg: 384x640 8 persons, 2 handbags, 1 tv, 77.9ms\n",
      "Speed: 1.3ms preprocess, 77.9ms inference, 0.4ms postprocess per image at shape (1, 3, 384, 640)\n"
     ]
    },
    {
     "name": "stderr",
     "output_type": "stream",
     "text": [
      "Detecting:  18%|█▊        | 95/525 [00:08<00:34, 12.30it/s]"
     ]
    },
    {
     "name": "stdout",
     "output_type": "stream",
     "text": [
      "\n",
      "image 1/1 /Users/gaspardsaliou/Documents/epita/ing3/visualObjectTracking/tp2-3/ADL-Rundle-6/img1/000096.jpg: 384x640 8 persons, 3 handbags, 153.0ms\n",
      "Speed: 1.4ms preprocess, 153.0ms inference, 0.5ms postprocess per image at shape (1, 3, 384, 640)\n",
      "\n",
      "image 1/1 /Users/gaspardsaliou/Documents/epita/ing3/visualObjectTracking/tp2-3/ADL-Rundle-6/img1/000097.jpg: 384x640 8 persons, 1 bench, 2 handbags, 75.4ms\n",
      "Speed: 1.8ms preprocess, 75.4ms inference, 0.4ms postprocess per image at shape (1, 3, 384, 640)\n"
     ]
    },
    {
     "name": "stderr",
     "output_type": "stream",
     "text": [
      "Detecting:  18%|█▊        | 97/525 [00:09<00:40, 10.54it/s]"
     ]
    },
    {
     "name": "stdout",
     "output_type": "stream",
     "text": [
      "\n",
      "image 1/1 /Users/gaspardsaliou/Documents/epita/ing3/visualObjectTracking/tp2-3/ADL-Rundle-6/img1/000098.jpg: 384x640 9 persons, 1 backpack, 3 handbags, 80.1ms\n",
      "Speed: 1.8ms preprocess, 80.1ms inference, 0.8ms postprocess per image at shape (1, 3, 384, 640)\n",
      "\n",
      "image 1/1 /Users/gaspardsaliou/Documents/epita/ing3/visualObjectTracking/tp2-3/ADL-Rundle-6/img1/000099.jpg: 384x640 8 persons, 1 bench, 2 backpacks, 2 handbags, 81.5ms\n",
      "Speed: 1.3ms preprocess, 81.5ms inference, 1.0ms postprocess per image at shape (1, 3, 384, 640)\n"
     ]
    },
    {
     "name": "stderr",
     "output_type": "stream",
     "text": [
      "Detecting:  19%|█▉        | 99/525 [00:09<00:40, 10.63it/s]"
     ]
    },
    {
     "name": "stdout",
     "output_type": "stream",
     "text": [
      "\n",
      "image 1/1 /Users/gaspardsaliou/Documents/epita/ing3/visualObjectTracking/tp2-3/ADL-Rundle-6/img1/000100.jpg: 384x640 8 persons, 2 backpacks, 3 handbags, 73.1ms\n",
      "Speed: 1.3ms preprocess, 73.1ms inference, 0.4ms postprocess per image at shape (1, 3, 384, 640)\n",
      "\n",
      "image 1/1 /Users/gaspardsaliou/Documents/epita/ing3/visualObjectTracking/tp2-3/ADL-Rundle-6/img1/000101.jpg: 384x640 8 persons, 1 backpack, 5 handbags, 1 tv, 69.5ms\n",
      "Speed: 1.3ms preprocess, 69.5ms inference, 1.1ms postprocess per image at shape (1, 3, 384, 640)\n"
     ]
    },
    {
     "name": "stderr",
     "output_type": "stream",
     "text": [
      "Detecting:  19%|█▉        | 101/525 [00:09<00:38, 11.02it/s]"
     ]
    },
    {
     "name": "stdout",
     "output_type": "stream",
     "text": [
      "\n",
      "image 1/1 /Users/gaspardsaliou/Documents/epita/ing3/visualObjectTracking/tp2-3/ADL-Rundle-6/img1/000102.jpg: 384x640 8 persons, 4 handbags, 75.9ms\n",
      "Speed: 1.4ms preprocess, 75.9ms inference, 0.4ms postprocess per image at shape (1, 3, 384, 640)\n",
      "\n",
      "image 1/1 /Users/gaspardsaliou/Documents/epita/ing3/visualObjectTracking/tp2-3/ADL-Rundle-6/img1/000103.jpg: 384x640 8 persons, 2 backpacks, 1 handbag, 72.2ms\n",
      "Speed: 1.4ms preprocess, 72.2ms inference, 0.4ms postprocess per image at shape (1, 3, 384, 640)\n"
     ]
    },
    {
     "name": "stderr",
     "output_type": "stream",
     "text": [
      "Detecting:  20%|█▉        | 103/525 [00:09<00:37, 11.23it/s]"
     ]
    },
    {
     "name": "stdout",
     "output_type": "stream",
     "text": [
      "\n",
      "image 1/1 /Users/gaspardsaliou/Documents/epita/ing3/visualObjectTracking/tp2-3/ADL-Rundle-6/img1/000104.jpg: 384x640 7 persons, 1 handbag, 80.5ms\n",
      "Speed: 1.5ms preprocess, 80.5ms inference, 0.6ms postprocess per image at shape (1, 3, 384, 640)\n",
      "\n",
      "image 1/1 /Users/gaspardsaliou/Documents/epita/ing3/visualObjectTracking/tp2-3/ADL-Rundle-6/img1/000105.jpg: 384x640 7 persons, 1 backpack, 3 handbags, 1 kite, 70.1ms\n",
      "Speed: 1.3ms preprocess, 70.1ms inference, 0.8ms postprocess per image at shape (1, 3, 384, 640)\n"
     ]
    },
    {
     "name": "stderr",
     "output_type": "stream",
     "text": [
      "Detecting:  20%|██        | 105/525 [00:09<00:37, 11.26it/s]"
     ]
    },
    {
     "name": "stdout",
     "output_type": "stream",
     "text": [
      "\n",
      "image 1/1 /Users/gaspardsaliou/Documents/epita/ing3/visualObjectTracking/tp2-3/ADL-Rundle-6/img1/000106.jpg: 384x640 7 persons, 2 handbags, 78.3ms\n",
      "Speed: 1.4ms preprocess, 78.3ms inference, 0.4ms postprocess per image at shape (1, 3, 384, 640)\n",
      "\n",
      "image 1/1 /Users/gaspardsaliou/Documents/epita/ing3/visualObjectTracking/tp2-3/ADL-Rundle-6/img1/000107.jpg: 384x640 6 persons, 2 handbags, 74.0ms\n",
      "Speed: 1.8ms preprocess, 74.0ms inference, 0.4ms postprocess per image at shape (1, 3, 384, 640)\n"
     ]
    },
    {
     "name": "stderr",
     "output_type": "stream",
     "text": [
      "Detecting:  20%|██        | 107/525 [00:09<00:37, 11.26it/s]"
     ]
    },
    {
     "name": "stdout",
     "output_type": "stream",
     "text": [
      "\n",
      "image 1/1 /Users/gaspardsaliou/Documents/epita/ing3/visualObjectTracking/tp2-3/ADL-Rundle-6/img1/000108.jpg: 384x640 6 persons, 2 handbags, 74.9ms\n",
      "Speed: 1.3ms preprocess, 74.9ms inference, 0.4ms postprocess per image at shape (1, 3, 384, 640)\n",
      "\n",
      "image 1/1 /Users/gaspardsaliou/Documents/epita/ing3/visualObjectTracking/tp2-3/ADL-Rundle-6/img1/000109.jpg: 384x640 7 persons, 1 handbag, 68.0ms\n",
      "Speed: 1.4ms preprocess, 68.0ms inference, 0.5ms postprocess per image at shape (1, 3, 384, 640)\n"
     ]
    },
    {
     "name": "stderr",
     "output_type": "stream",
     "text": [
      "Detecting:  21%|██        | 109/525 [00:10<00:36, 11.47it/s]"
     ]
    },
    {
     "name": "stdout",
     "output_type": "stream",
     "text": [
      "\n",
      "image 1/1 /Users/gaspardsaliou/Documents/epita/ing3/visualObjectTracking/tp2-3/ADL-Rundle-6/img1/000110.jpg: 384x640 7 persons, 1 backpack, 2 handbags, 74.0ms\n",
      "Speed: 1.3ms preprocess, 74.0ms inference, 0.4ms postprocess per image at shape (1, 3, 384, 640)\n",
      "\n",
      "image 1/1 /Users/gaspardsaliou/Documents/epita/ing3/visualObjectTracking/tp2-3/ADL-Rundle-6/img1/000111.jpg: 384x640 7 persons, 1 handbag, 73.2ms\n",
      "Speed: 1.4ms preprocess, 73.2ms inference, 0.5ms postprocess per image at shape (1, 3, 384, 640)\n"
     ]
    },
    {
     "name": "stderr",
     "output_type": "stream",
     "text": [
      "Detecting:  21%|██        | 111/525 [00:10<00:36, 11.46it/s]"
     ]
    },
    {
     "name": "stdout",
     "output_type": "stream",
     "text": [
      "\n",
      "image 1/1 /Users/gaspardsaliou/Documents/epita/ing3/visualObjectTracking/tp2-3/ADL-Rundle-6/img1/000112.jpg: 384x640 7 persons, 2 handbags, 87.9ms\n",
      "Speed: 1.5ms preprocess, 87.9ms inference, 0.6ms postprocess per image at shape (1, 3, 384, 640)\n",
      "\n",
      "image 1/1 /Users/gaspardsaliou/Documents/epita/ing3/visualObjectTracking/tp2-3/ADL-Rundle-6/img1/000113.jpg: 384x640 7 persons, 1 backpack, 1 handbag, 66.5ms\n",
      "Speed: 1.7ms preprocess, 66.5ms inference, 0.9ms postprocess per image at shape (1, 3, 384, 640)\n"
     ]
    },
    {
     "name": "stderr",
     "output_type": "stream",
     "text": [
      "Detecting:  22%|██▏       | 113/525 [00:10<00:36, 11.35it/s]"
     ]
    },
    {
     "name": "stdout",
     "output_type": "stream",
     "text": [
      "\n",
      "image 1/1 /Users/gaspardsaliou/Documents/epita/ing3/visualObjectTracking/tp2-3/ADL-Rundle-6/img1/000114.jpg: 384x640 8 persons, 1 handbag, 80.6ms\n",
      "Speed: 1.4ms preprocess, 80.6ms inference, 0.5ms postprocess per image at shape (1, 3, 384, 640)\n",
      "\n",
      "image 1/1 /Users/gaspardsaliou/Documents/epita/ing3/visualObjectTracking/tp2-3/ADL-Rundle-6/img1/000115.jpg: 384x640 7 persons, 95.0ms\n",
      "Speed: 1.3ms preprocess, 95.0ms inference, 0.7ms postprocess per image at shape (1, 3, 384, 640)\n"
     ]
    },
    {
     "name": "stderr",
     "output_type": "stream",
     "text": [
      "Detecting:  22%|██▏       | 115/525 [00:10<00:37, 10.89it/s]"
     ]
    },
    {
     "name": "stdout",
     "output_type": "stream",
     "text": [
      "\n",
      "image 1/1 /Users/gaspardsaliou/Documents/epita/ing3/visualObjectTracking/tp2-3/ADL-Rundle-6/img1/000116.jpg: 384x640 6 persons, 1 handbag, 85.9ms\n",
      "Speed: 1.8ms preprocess, 85.9ms inference, 0.6ms postprocess per image at shape (1, 3, 384, 640)\n",
      "\n",
      "image 1/1 /Users/gaspardsaliou/Documents/epita/ing3/visualObjectTracking/tp2-3/ADL-Rundle-6/img1/000117.jpg: 384x640 7 persons, 1 handbag, 86.2ms\n",
      "Speed: 1.3ms preprocess, 86.2ms inference, 0.5ms postprocess per image at shape (1, 3, 384, 640)\n"
     ]
    },
    {
     "name": "stderr",
     "output_type": "stream",
     "text": [
      "Detecting:  22%|██▏       | 117/525 [00:10<00:38, 10.65it/s]"
     ]
    },
    {
     "name": "stdout",
     "output_type": "stream",
     "text": [
      "\n",
      "image 1/1 /Users/gaspardsaliou/Documents/epita/ing3/visualObjectTracking/tp2-3/ADL-Rundle-6/img1/000118.jpg: 384x640 6 persons, 1 handbag, 93.2ms\n",
      "Speed: 1.5ms preprocess, 93.2ms inference, 0.4ms postprocess per image at shape (1, 3, 384, 640)\n",
      "\n",
      "image 1/1 /Users/gaspardsaliou/Documents/epita/ing3/visualObjectTracking/tp2-3/ADL-Rundle-6/img1/000119.jpg: 384x640 6 persons, 1 handbag, 80.4ms\n",
      "Speed: 1.2ms preprocess, 80.4ms inference, 0.7ms postprocess per image at shape (1, 3, 384, 640)\n"
     ]
    },
    {
     "name": "stderr",
     "output_type": "stream",
     "text": [
      "Detecting:  23%|██▎       | 119/525 [00:11<00:38, 10.48it/s]"
     ]
    },
    {
     "name": "stdout",
     "output_type": "stream",
     "text": [
      "\n",
      "image 1/1 /Users/gaspardsaliou/Documents/epita/ing3/visualObjectTracking/tp2-3/ADL-Rundle-6/img1/000120.jpg: 384x640 6 persons, 1 handbag, 90.4ms\n",
      "Speed: 1.3ms preprocess, 90.4ms inference, 0.3ms postprocess per image at shape (1, 3, 384, 640)\n",
      "\n",
      "image 1/1 /Users/gaspardsaliou/Documents/epita/ing3/visualObjectTracking/tp2-3/ADL-Rundle-6/img1/000121.jpg: 384x640 5 persons, 1 handbag, 67.2ms\n",
      "Speed: 1.9ms preprocess, 67.2ms inference, 0.5ms postprocess per image at shape (1, 3, 384, 640)\n"
     ]
    },
    {
     "name": "stderr",
     "output_type": "stream",
     "text": [
      "Detecting:  23%|██▎       | 121/525 [00:11<00:37, 10.67it/s]"
     ]
    },
    {
     "name": "stdout",
     "output_type": "stream",
     "text": [
      "\n",
      "image 1/1 /Users/gaspardsaliou/Documents/epita/ing3/visualObjectTracking/tp2-3/ADL-Rundle-6/img1/000122.jpg: 384x640 5 persons, 63.8ms\n",
      "Speed: 1.3ms preprocess, 63.8ms inference, 0.4ms postprocess per image at shape (1, 3, 384, 640)\n",
      "\n",
      "image 1/1 /Users/gaspardsaliou/Documents/epita/ing3/visualObjectTracking/tp2-3/ADL-Rundle-6/img1/000123.jpg: 384x640 6 persons, 1 handbag, 60.4ms\n",
      "Speed: 1.2ms preprocess, 60.4ms inference, 0.4ms postprocess per image at shape (1, 3, 384, 640)\n"
     ]
    },
    {
     "name": "stderr",
     "output_type": "stream",
     "text": [
      "Detecting:  23%|██▎       | 123/525 [00:11<00:35, 11.41it/s]"
     ]
    },
    {
     "name": "stdout",
     "output_type": "stream",
     "text": [
      "\n",
      "image 1/1 /Users/gaspardsaliou/Documents/epita/ing3/visualObjectTracking/tp2-3/ADL-Rundle-6/img1/000124.jpg: 384x640 6 persons, 1 backpack, 146.4ms\n",
      "Speed: 1.3ms preprocess, 146.4ms inference, 0.9ms postprocess per image at shape (1, 3, 384, 640)\n",
      "\n",
      "image 1/1 /Users/gaspardsaliou/Documents/epita/ing3/visualObjectTracking/tp2-3/ADL-Rundle-6/img1/000125.jpg: 384x640 6 persons, 1 backpack, 1 handbag, 58.6ms\n",
      "Speed: 1.3ms preprocess, 58.6ms inference, 0.5ms postprocess per image at shape (1, 3, 384, 640)\n"
     ]
    },
    {
     "name": "stderr",
     "output_type": "stream",
     "text": [
      "Detecting:  24%|██▍       | 125/525 [00:11<00:38, 10.46it/s]"
     ]
    },
    {
     "name": "stdout",
     "output_type": "stream",
     "text": [
      "\n",
      "image 1/1 /Users/gaspardsaliou/Documents/epita/ing3/visualObjectTracking/tp2-3/ADL-Rundle-6/img1/000126.jpg: 384x640 7 persons, 1 car, 1 backpack, 68.2ms\n",
      "Speed: 1.3ms preprocess, 68.2ms inference, 0.3ms postprocess per image at shape (1, 3, 384, 640)\n",
      "\n",
      "image 1/1 /Users/gaspardsaliou/Documents/epita/ing3/visualObjectTracking/tp2-3/ADL-Rundle-6/img1/000127.jpg: 384x640 6 persons, 1 car, 1 backpack, 1 handbag, 59.2ms\n",
      "Speed: 1.3ms preprocess, 59.2ms inference, 0.3ms postprocess per image at shape (1, 3, 384, 640)\n"
     ]
    },
    {
     "name": "stderr",
     "output_type": "stream",
     "text": [
      "Detecting:  24%|██▍       | 127/525 [00:11<00:35, 11.24it/s]"
     ]
    },
    {
     "name": "stdout",
     "output_type": "stream",
     "text": [
      "\n",
      "image 1/1 /Users/gaspardsaliou/Documents/epita/ing3/visualObjectTracking/tp2-3/ADL-Rundle-6/img1/000128.jpg: 384x640 7 persons, 2 handbags, 61.1ms\n",
      "Speed: 1.3ms preprocess, 61.1ms inference, 0.3ms postprocess per image at shape (1, 3, 384, 640)\n",
      "\n",
      "image 1/1 /Users/gaspardsaliou/Documents/epita/ing3/visualObjectTracking/tp2-3/ADL-Rundle-6/img1/000129.jpg: 384x640 9 persons, 1 backpack, 60.4ms\n",
      "Speed: 1.4ms preprocess, 60.4ms inference, 0.3ms postprocess per image at shape (1, 3, 384, 640)\n"
     ]
    },
    {
     "name": "stderr",
     "output_type": "stream",
     "text": [
      "Detecting:  25%|██▍       | 129/525 [00:11<00:33, 11.94it/s]"
     ]
    },
    {
     "name": "stdout",
     "output_type": "stream",
     "text": [
      "\n",
      "image 1/1 /Users/gaspardsaliou/Documents/epita/ing3/visualObjectTracking/tp2-3/ADL-Rundle-6/img1/000130.jpg: 384x640 7 persons, 1 backpack, 1 handbag, 84.4ms\n",
      "Speed: 1.2ms preprocess, 84.4ms inference, 0.3ms postprocess per image at shape (1, 3, 384, 640)\n",
      "\n",
      "image 1/1 /Users/gaspardsaliou/Documents/epita/ing3/visualObjectTracking/tp2-3/ADL-Rundle-6/img1/000131.jpg: 384x640 8 persons, 2 backpacks, 67.0ms\n",
      "Speed: 1.3ms preprocess, 67.0ms inference, 0.3ms postprocess per image at shape (1, 3, 384, 640)\n"
     ]
    },
    {
     "name": "stderr",
     "output_type": "stream",
     "text": [
      "Detecting:  25%|██▍       | 131/525 [00:12<00:33, 11.80it/s]"
     ]
    },
    {
     "name": "stdout",
     "output_type": "stream",
     "text": [
      "\n",
      "image 1/1 /Users/gaspardsaliou/Documents/epita/ing3/visualObjectTracking/tp2-3/ADL-Rundle-6/img1/000132.jpg: 384x640 8 persons, 2 backpacks, 1 umbrella, 69.1ms\n",
      "Speed: 1.1ms preprocess, 69.1ms inference, 0.3ms postprocess per image at shape (1, 3, 384, 640)\n",
      "\n",
      "image 1/1 /Users/gaspardsaliou/Documents/epita/ing3/visualObjectTracking/tp2-3/ADL-Rundle-6/img1/000133.jpg: 384x640 7 persons, 2 backpacks, 1 umbrella, 62.1ms\n",
      "Speed: 1.1ms preprocess, 62.1ms inference, 0.3ms postprocess per image at shape (1, 3, 384, 640)\n"
     ]
    },
    {
     "name": "stderr",
     "output_type": "stream",
     "text": [
      "Detecting:  25%|██▌       | 133/525 [00:12<00:32, 12.21it/s]"
     ]
    },
    {
     "name": "stdout",
     "output_type": "stream",
     "text": [
      "\n",
      "image 1/1 /Users/gaspardsaliou/Documents/epita/ing3/visualObjectTracking/tp2-3/ADL-Rundle-6/img1/000134.jpg: 384x640 7 persons, 1 backpack, 59.5ms\n",
      "Speed: 1.7ms preprocess, 59.5ms inference, 0.3ms postprocess per image at shape (1, 3, 384, 640)\n",
      "\n",
      "image 1/1 /Users/gaspardsaliou/Documents/epita/ing3/visualObjectTracking/tp2-3/ADL-Rundle-6/img1/000135.jpg: 384x640 8 persons, 1 backpack, 1 handbag, 59.4ms\n",
      "Speed: 1.2ms preprocess, 59.4ms inference, 0.4ms postprocess per image at shape (1, 3, 384, 640)\n"
     ]
    },
    {
     "name": "stderr",
     "output_type": "stream",
     "text": [
      "Detecting:  26%|██▌       | 135/525 [00:12<00:30, 12.75it/s]"
     ]
    },
    {
     "name": "stdout",
     "output_type": "stream",
     "text": [
      "\n",
      "image 1/1 /Users/gaspardsaliou/Documents/epita/ing3/visualObjectTracking/tp2-3/ADL-Rundle-6/img1/000136.jpg: 384x640 8 persons, 1 backpack, 1 handbag, 60.0ms\n",
      "Speed: 1.6ms preprocess, 60.0ms inference, 0.4ms postprocess per image at shape (1, 3, 384, 640)\n",
      "\n",
      "image 1/1 /Users/gaspardsaliou/Documents/epita/ing3/visualObjectTracking/tp2-3/ADL-Rundle-6/img1/000137.jpg: 384x640 7 persons, 1 backpack, 1 handbag, 59.0ms\n",
      "Speed: 1.3ms preprocess, 59.0ms inference, 0.3ms postprocess per image at shape (1, 3, 384, 640)\n"
     ]
    },
    {
     "name": "stderr",
     "output_type": "stream",
     "text": [
      "Detecting:  26%|██▌       | 137/525 [00:12<00:29, 13.10it/s]"
     ]
    },
    {
     "name": "stdout",
     "output_type": "stream",
     "text": [
      "\n",
      "image 1/1 /Users/gaspardsaliou/Documents/epita/ing3/visualObjectTracking/tp2-3/ADL-Rundle-6/img1/000138.jpg: 384x640 7 persons, 2 handbags, 67.2ms\n",
      "Speed: 1.2ms preprocess, 67.2ms inference, 0.4ms postprocess per image at shape (1, 3, 384, 640)\n",
      "\n",
      "image 1/1 /Users/gaspardsaliou/Documents/epita/ing3/visualObjectTracking/tp2-3/ADL-Rundle-6/img1/000139.jpg: 384x640 6 persons, 1 backpack, 2 handbags, 56.9ms\n",
      "Speed: 1.2ms preprocess, 56.9ms inference, 0.3ms postprocess per image at shape (1, 3, 384, 640)\n"
     ]
    },
    {
     "name": "stderr",
     "output_type": "stream",
     "text": [
      "Detecting:  26%|██▋       | 139/525 [00:12<00:29, 13.28it/s]"
     ]
    },
    {
     "name": "stdout",
     "output_type": "stream",
     "text": [
      "\n",
      "image 1/1 /Users/gaspardsaliou/Documents/epita/ing3/visualObjectTracking/tp2-3/ADL-Rundle-6/img1/000140.jpg: 384x640 7 persons, 1 backpack, 1 handbag, 62.0ms\n",
      "Speed: 1.4ms preprocess, 62.0ms inference, 0.3ms postprocess per image at shape (1, 3, 384, 640)\n",
      "\n",
      "image 1/1 /Users/gaspardsaliou/Documents/epita/ing3/visualObjectTracking/tp2-3/ADL-Rundle-6/img1/000141.jpg: 384x640 7 persons, 2 umbrellas, 3 handbags, 76.4ms\n",
      "Speed: 1.3ms preprocess, 76.4ms inference, 0.4ms postprocess per image at shape (1, 3, 384, 640)\n"
     ]
    },
    {
     "name": "stderr",
     "output_type": "stream",
     "text": [
      "Detecting:  27%|██▋       | 141/525 [00:12<00:29, 13.03it/s]"
     ]
    },
    {
     "name": "stdout",
     "output_type": "stream",
     "text": [
      "\n",
      "image 1/1 /Users/gaspardsaliou/Documents/epita/ing3/visualObjectTracking/tp2-3/ADL-Rundle-6/img1/000142.jpg: 384x640 7 persons, 1 backpack, 2 handbags, 76.1ms\n",
      "Speed: 2.0ms preprocess, 76.1ms inference, 0.4ms postprocess per image at shape (1, 3, 384, 640)\n",
      "\n",
      "image 1/1 /Users/gaspardsaliou/Documents/epita/ing3/visualObjectTracking/tp2-3/ADL-Rundle-6/img1/000143.jpg: 384x640 6 persons, 1 backpack, 3 handbags, 92.5ms\n",
      "Speed: 1.3ms preprocess, 92.5ms inference, 0.4ms postprocess per image at shape (1, 3, 384, 640)\n"
     ]
    },
    {
     "name": "stderr",
     "output_type": "stream",
     "text": [
      "Detecting:  27%|██▋       | 143/525 [00:12<00:31, 12.18it/s]"
     ]
    },
    {
     "name": "stdout",
     "output_type": "stream",
     "text": [
      "\n",
      "image 1/1 /Users/gaspardsaliou/Documents/epita/ing3/visualObjectTracking/tp2-3/ADL-Rundle-6/img1/000144.jpg: 384x640 6 persons, 3 handbags, 77.8ms\n",
      "Speed: 1.4ms preprocess, 77.8ms inference, 0.4ms postprocess per image at shape (1, 3, 384, 640)\n",
      "\n",
      "image 1/1 /Users/gaspardsaliou/Documents/epita/ing3/visualObjectTracking/tp2-3/ADL-Rundle-6/img1/000145.jpg: 384x640 7 persons, 1 backpack, 2 handbags, 67.9ms\n",
      "Speed: 1.5ms preprocess, 67.9ms inference, 0.4ms postprocess per image at shape (1, 3, 384, 640)\n"
     ]
    },
    {
     "name": "stderr",
     "output_type": "stream",
     "text": [
      "Detecting:  28%|██▊       | 145/525 [00:13<00:31, 12.16it/s]"
     ]
    },
    {
     "name": "stdout",
     "output_type": "stream",
     "text": [
      "\n",
      "image 1/1 /Users/gaspardsaliou/Documents/epita/ing3/visualObjectTracking/tp2-3/ADL-Rundle-6/img1/000146.jpg: 384x640 7 persons, 1 backpack, 95.9ms\n",
      "Speed: 1.2ms preprocess, 95.9ms inference, 1.3ms postprocess per image at shape (1, 3, 384, 640)\n",
      "\n",
      "image 1/1 /Users/gaspardsaliou/Documents/epita/ing3/visualObjectTracking/tp2-3/ADL-Rundle-6/img1/000147.jpg: 384x640 7 persons, 1 backpack, 67.7ms\n",
      "Speed: 1.2ms preprocess, 67.7ms inference, 0.3ms postprocess per image at shape (1, 3, 384, 640)\n"
     ]
    },
    {
     "name": "stderr",
     "output_type": "stream",
     "text": [
      "Detecting:  28%|██▊       | 147/525 [00:13<00:32, 11.70it/s]"
     ]
    },
    {
     "name": "stdout",
     "output_type": "stream",
     "text": [
      "\n",
      "image 1/1 /Users/gaspardsaliou/Documents/epita/ing3/visualObjectTracking/tp2-3/ADL-Rundle-6/img1/000148.jpg: 384x640 8 persons, 1 backpack, 90.2ms\n",
      "Speed: 1.5ms preprocess, 90.2ms inference, 0.3ms postprocess per image at shape (1, 3, 384, 640)\n",
      "\n",
      "image 1/1 /Users/gaspardsaliou/Documents/epita/ing3/visualObjectTracking/tp2-3/ADL-Rundle-6/img1/000149.jpg: 384x640 9 persons, 1 backpack, 77.3ms\n",
      "Speed: 1.3ms preprocess, 77.3ms inference, 0.3ms postprocess per image at shape (1, 3, 384, 640)\n"
     ]
    },
    {
     "name": "stderr",
     "output_type": "stream",
     "text": [
      "Detecting:  28%|██▊       | 149/525 [00:13<00:33, 11.30it/s]"
     ]
    },
    {
     "name": "stdout",
     "output_type": "stream",
     "text": [
      "\n",
      "image 1/1 /Users/gaspardsaliou/Documents/epita/ing3/visualObjectTracking/tp2-3/ADL-Rundle-6/img1/000150.jpg: 384x640 7 persons, 78.0ms\n",
      "Speed: 1.3ms preprocess, 78.0ms inference, 0.3ms postprocess per image at shape (1, 3, 384, 640)\n",
      "\n",
      "image 1/1 /Users/gaspardsaliou/Documents/epita/ing3/visualObjectTracking/tp2-3/ADL-Rundle-6/img1/000151.jpg: 384x640 9 persons, 1 backpack, 1 handbag, 78.4ms\n",
      "Speed: 1.2ms preprocess, 78.4ms inference, 0.3ms postprocess per image at shape (1, 3, 384, 640)\n"
     ]
    },
    {
     "name": "stderr",
     "output_type": "stream",
     "text": [
      "Detecting:  29%|██▉       | 151/525 [00:13<00:33, 11.27it/s]"
     ]
    },
    {
     "name": "stdout",
     "output_type": "stream",
     "text": [
      "\n",
      "image 1/1 /Users/gaspardsaliou/Documents/epita/ing3/visualObjectTracking/tp2-3/ADL-Rundle-6/img1/000152.jpg: 384x640 8 persons, 1 backpack, 1 handbag, 91.3ms\n",
      "Speed: 1.4ms preprocess, 91.3ms inference, 0.3ms postprocess per image at shape (1, 3, 384, 640)\n",
      "\n",
      "image 1/1 /Users/gaspardsaliou/Documents/epita/ing3/visualObjectTracking/tp2-3/ADL-Rundle-6/img1/000153.jpg: 384x640 9 persons, 1 backpack, 1 handbag, 53.8ms\n",
      "Speed: 7.5ms preprocess, 53.8ms inference, 0.4ms postprocess per image at shape (1, 3, 384, 640)\n"
     ]
    },
    {
     "name": "stderr",
     "output_type": "stream",
     "text": [
      "Detecting:  29%|██▉       | 153/525 [00:13<00:32, 11.35it/s]"
     ]
    },
    {
     "name": "stdout",
     "output_type": "stream",
     "text": [
      "\n",
      "image 1/1 /Users/gaspardsaliou/Documents/epita/ing3/visualObjectTracking/tp2-3/ADL-Rundle-6/img1/000154.jpg: 384x640 8 persons, 1 handbag, 149.9ms\n",
      "Speed: 1.2ms preprocess, 149.9ms inference, 0.4ms postprocess per image at shape (1, 3, 384, 640)\n",
      "\n",
      "image 1/1 /Users/gaspardsaliou/Documents/epita/ing3/visualObjectTracking/tp2-3/ADL-Rundle-6/img1/000155.jpg: 384x640 8 persons, 1 handbag, 56.4ms\n",
      "Speed: 1.3ms preprocess, 56.4ms inference, 0.3ms postprocess per image at shape (1, 3, 384, 640)\n"
     ]
    },
    {
     "name": "stderr",
     "output_type": "stream",
     "text": [
      "Detecting:  30%|██▉       | 155/525 [00:14<00:35, 10.41it/s]"
     ]
    },
    {
     "name": "stdout",
     "output_type": "stream",
     "text": [
      "\n",
      "image 1/1 /Users/gaspardsaliou/Documents/epita/ing3/visualObjectTracking/tp2-3/ADL-Rundle-6/img1/000156.jpg: 384x640 7 persons, 1 handbag, 62.8ms\n",
      "Speed: 1.3ms preprocess, 62.8ms inference, 0.5ms postprocess per image at shape (1, 3, 384, 640)\n",
      "\n",
      "image 1/1 /Users/gaspardsaliou/Documents/epita/ing3/visualObjectTracking/tp2-3/ADL-Rundle-6/img1/000157.jpg: 384x640 7 persons, 1 handbag, 129.4ms\n",
      "Speed: 1.2ms preprocess, 129.4ms inference, 0.3ms postprocess per image at shape (1, 3, 384, 640)\n"
     ]
    },
    {
     "name": "stderr",
     "output_type": "stream",
     "text": [
      "Detecting:  30%|██▉       | 157/525 [00:14<00:36, 10.06it/s]"
     ]
    },
    {
     "name": "stdout",
     "output_type": "stream",
     "text": [
      "\n",
      "image 1/1 /Users/gaspardsaliou/Documents/epita/ing3/visualObjectTracking/tp2-3/ADL-Rundle-6/img1/000158.jpg: 384x640 8 persons, 1 backpack, 2 handbags, 72.6ms\n",
      "Speed: 2.0ms preprocess, 72.6ms inference, 0.3ms postprocess per image at shape (1, 3, 384, 640)\n",
      "\n",
      "image 1/1 /Users/gaspardsaliou/Documents/epita/ing3/visualObjectTracking/tp2-3/ADL-Rundle-6/img1/000159.jpg: 384x640 8 persons, 1 umbrella, 2 handbags, 61.3ms\n",
      "Speed: 1.3ms preprocess, 61.3ms inference, 0.3ms postprocess per image at shape (1, 3, 384, 640)\n"
     ]
    },
    {
     "name": "stderr",
     "output_type": "stream",
     "text": [
      "Detecting:  30%|███       | 159/525 [00:14<00:34, 10.76it/s]"
     ]
    },
    {
     "name": "stdout",
     "output_type": "stream",
     "text": [
      "\n",
      "image 1/1 /Users/gaspardsaliou/Documents/epita/ing3/visualObjectTracking/tp2-3/ADL-Rundle-6/img1/000160.jpg: 384x640 9 persons, 1 backpack, 1 umbrella, 2 handbags, 74.4ms\n",
      "Speed: 1.3ms preprocess, 74.4ms inference, 0.5ms postprocess per image at shape (1, 3, 384, 640)\n",
      "\n",
      "image 1/1 /Users/gaspardsaliou/Documents/epita/ing3/visualObjectTracking/tp2-3/ADL-Rundle-6/img1/000161.jpg: 384x640 9 persons, 1 backpack, 2 handbags, 71.7ms\n",
      "Speed: 2.3ms preprocess, 71.7ms inference, 1.0ms postprocess per image at shape (1, 3, 384, 640)\n"
     ]
    },
    {
     "name": "stderr",
     "output_type": "stream",
     "text": [
      "Detecting:  31%|███       | 161/525 [00:14<00:33, 11.01it/s]"
     ]
    },
    {
     "name": "stdout",
     "output_type": "stream",
     "text": [
      "\n",
      "image 1/1 /Users/gaspardsaliou/Documents/epita/ing3/visualObjectTracking/tp2-3/ADL-Rundle-6/img1/000162.jpg: 384x640 9 persons, 1 backpack, 1 handbag, 67.8ms\n",
      "Speed: 1.8ms preprocess, 67.8ms inference, 0.5ms postprocess per image at shape (1, 3, 384, 640)\n",
      "\n",
      "image 1/1 /Users/gaspardsaliou/Documents/epita/ing3/visualObjectTracking/tp2-3/ADL-Rundle-6/img1/000163.jpg: 384x640 9 persons, 1 handbag, 69.7ms\n",
      "Speed: 1.5ms preprocess, 69.7ms inference, 0.5ms postprocess per image at shape (1, 3, 384, 640)\n"
     ]
    },
    {
     "name": "stderr",
     "output_type": "stream",
     "text": [
      "Detecting:  31%|███       | 163/525 [00:14<00:31, 11.33it/s]"
     ]
    },
    {
     "name": "stdout",
     "output_type": "stream",
     "text": [
      "\n",
      "image 1/1 /Users/gaspardsaliou/Documents/epita/ing3/visualObjectTracking/tp2-3/ADL-Rundle-6/img1/000164.jpg: 384x640 8 persons, 1 handbag, 71.2ms\n",
      "Speed: 1.4ms preprocess, 71.2ms inference, 0.5ms postprocess per image at shape (1, 3, 384, 640)\n",
      "\n",
      "image 1/1 /Users/gaspardsaliou/Documents/epita/ing3/visualObjectTracking/tp2-3/ADL-Rundle-6/img1/000165.jpg: 384x640 9 persons, 2 backpacks, 2 handbags, 73.1ms\n",
      "Speed: 1.4ms preprocess, 73.1ms inference, 0.5ms postprocess per image at shape (1, 3, 384, 640)\n"
     ]
    },
    {
     "name": "stderr",
     "output_type": "stream",
     "text": [
      "Detecting:  31%|███▏      | 165/525 [00:14<00:31, 11.51it/s]"
     ]
    },
    {
     "name": "stdout",
     "output_type": "stream",
     "text": [
      "\n",
      "image 1/1 /Users/gaspardsaliou/Documents/epita/ing3/visualObjectTracking/tp2-3/ADL-Rundle-6/img1/000166.jpg: 384x640 10 persons, 1 handbag, 78.2ms\n",
      "Speed: 1.6ms preprocess, 78.2ms inference, 0.4ms postprocess per image at shape (1, 3, 384, 640)\n",
      "\n",
      "image 1/1 /Users/gaspardsaliou/Documents/epita/ing3/visualObjectTracking/tp2-3/ADL-Rundle-6/img1/000167.jpg: 384x640 7 persons, 1 backpack, 1 umbrella, 1 handbag, 69.6ms\n",
      "Speed: 1.4ms preprocess, 69.6ms inference, 1.0ms postprocess per image at shape (1, 3, 384, 640)\n"
     ]
    },
    {
     "name": "stderr",
     "output_type": "stream",
     "text": [
      "Detecting:  32%|███▏      | 167/525 [00:15<00:30, 11.58it/s]"
     ]
    },
    {
     "name": "stdout",
     "output_type": "stream",
     "text": [
      "\n",
      "image 1/1 /Users/gaspardsaliou/Documents/epita/ing3/visualObjectTracking/tp2-3/ADL-Rundle-6/img1/000168.jpg: 384x640 10 persons, 1 backpack, 1 handbag, 74.3ms\n",
      "Speed: 1.3ms preprocess, 74.3ms inference, 0.3ms postprocess per image at shape (1, 3, 384, 640)\n",
      "\n",
      "image 1/1 /Users/gaspardsaliou/Documents/epita/ing3/visualObjectTracking/tp2-3/ADL-Rundle-6/img1/000169.jpg: 384x640 9 persons, 1 backpack, 3 handbags, 74.3ms\n",
      "Speed: 1.2ms preprocess, 74.3ms inference, 0.9ms postprocess per image at shape (1, 3, 384, 640)\n"
     ]
    },
    {
     "name": "stderr",
     "output_type": "stream",
     "text": [
      "Detecting:  32%|███▏      | 169/525 [00:15<00:30, 11.62it/s]"
     ]
    },
    {
     "name": "stdout",
     "output_type": "stream",
     "text": [
      "\n",
      "image 1/1 /Users/gaspardsaliou/Documents/epita/ing3/visualObjectTracking/tp2-3/ADL-Rundle-6/img1/000170.jpg: 384x640 8 persons, 1 backpack, 1 handbag, 78.2ms\n",
      "Speed: 1.4ms preprocess, 78.2ms inference, 0.4ms postprocess per image at shape (1, 3, 384, 640)\n",
      "\n",
      "image 1/1 /Users/gaspardsaliou/Documents/epita/ing3/visualObjectTracking/tp2-3/ADL-Rundle-6/img1/000171.jpg: 384x640 10 persons, 2 backpacks, 2 handbags, 70.1ms\n",
      "Speed: 1.3ms preprocess, 70.1ms inference, 0.4ms postprocess per image at shape (1, 3, 384, 640)\n"
     ]
    },
    {
     "name": "stderr",
     "output_type": "stream",
     "text": [
      "Detecting:  33%|███▎      | 171/525 [00:15<00:30, 11.67it/s]"
     ]
    },
    {
     "name": "stdout",
     "output_type": "stream",
     "text": [
      "\n",
      "image 1/1 /Users/gaspardsaliou/Documents/epita/ing3/visualObjectTracking/tp2-3/ADL-Rundle-6/img1/000172.jpg: 384x640 12 persons, 3 backpacks, 2 handbags, 77.5ms\n",
      "Speed: 1.2ms preprocess, 77.5ms inference, 0.3ms postprocess per image at shape (1, 3, 384, 640)\n",
      "\n",
      "image 1/1 /Users/gaspardsaliou/Documents/epita/ing3/visualObjectTracking/tp2-3/ADL-Rundle-6/img1/000173.jpg: 384x640 10 persons, 1 backpack, 2 handbags, 1 skateboard, 69.1ms\n",
      "Speed: 1.7ms preprocess, 69.1ms inference, 0.4ms postprocess per image at shape (1, 3, 384, 640)\n"
     ]
    },
    {
     "name": "stderr",
     "output_type": "stream",
     "text": [
      "Detecting:  33%|███▎      | 173/525 [00:15<00:29, 11.74it/s]"
     ]
    },
    {
     "name": "stdout",
     "output_type": "stream",
     "text": [
      "\n",
      "image 1/1 /Users/gaspardsaliou/Documents/epita/ing3/visualObjectTracking/tp2-3/ADL-Rundle-6/img1/000174.jpg: 384x640 9 persons, 3 handbags, 90.3ms\n",
      "Speed: 1.2ms preprocess, 90.3ms inference, 0.4ms postprocess per image at shape (1, 3, 384, 640)\n",
      "\n",
      "image 1/1 /Users/gaspardsaliou/Documents/epita/ing3/visualObjectTracking/tp2-3/ADL-Rundle-6/img1/000175.jpg: 384x640 10 persons, 1 backpack, 2 handbags, 76.4ms\n",
      "Speed: 1.3ms preprocess, 76.4ms inference, 0.5ms postprocess per image at shape (1, 3, 384, 640)\n"
     ]
    },
    {
     "name": "stderr",
     "output_type": "stream",
     "text": [
      "Detecting:  33%|███▎      | 175/525 [00:15<00:30, 11.36it/s]"
     ]
    },
    {
     "name": "stdout",
     "output_type": "stream",
     "text": [
      "\n",
      "image 1/1 /Users/gaspardsaliou/Documents/epita/ing3/visualObjectTracking/tp2-3/ADL-Rundle-6/img1/000176.jpg: 384x640 12 persons, 1 backpack, 2 handbags, 76.2ms\n",
      "Speed: 1.3ms preprocess, 76.2ms inference, 1.0ms postprocess per image at shape (1, 3, 384, 640)\n",
      "\n",
      "image 1/1 /Users/gaspardsaliou/Documents/epita/ing3/visualObjectTracking/tp2-3/ADL-Rundle-6/img1/000177.jpg: 384x640 11 persons, 3 handbags, 79.4ms\n",
      "Speed: 1.8ms preprocess, 79.4ms inference, 0.4ms postprocess per image at shape (1, 3, 384, 640)\n"
     ]
    },
    {
     "name": "stderr",
     "output_type": "stream",
     "text": [
      "Detecting:  34%|███▎      | 177/525 [00:16<00:30, 11.30it/s]"
     ]
    },
    {
     "name": "stdout",
     "output_type": "stream",
     "text": [
      "\n",
      "image 1/1 /Users/gaspardsaliou/Documents/epita/ing3/visualObjectTracking/tp2-3/ADL-Rundle-6/img1/000178.jpg: 384x640 11 persons, 1 handbag, 76.9ms\n",
      "Speed: 2.2ms preprocess, 76.9ms inference, 0.4ms postprocess per image at shape (1, 3, 384, 640)\n",
      "\n",
      "image 1/1 /Users/gaspardsaliou/Documents/epita/ing3/visualObjectTracking/tp2-3/ADL-Rundle-6/img1/000179.jpg: 384x640 11 persons, 1 handbag, 68.3ms\n",
      "Speed: 1.3ms preprocess, 68.3ms inference, 1.7ms postprocess per image at shape (1, 3, 384, 640)\n"
     ]
    },
    {
     "name": "stderr",
     "output_type": "stream",
     "text": [
      "Detecting:  34%|███▍      | 179/525 [00:16<00:30, 11.45it/s]"
     ]
    },
    {
     "name": "stdout",
     "output_type": "stream",
     "text": [
      "\n",
      "image 1/1 /Users/gaspardsaliou/Documents/epita/ing3/visualObjectTracking/tp2-3/ADL-Rundle-6/img1/000180.jpg: 384x640 11 persons, 1 handbag, 76.6ms\n",
      "Speed: 1.2ms preprocess, 76.6ms inference, 4.7ms postprocess per image at shape (1, 3, 384, 640)\n",
      "\n",
      "image 1/1 /Users/gaspardsaliou/Documents/epita/ing3/visualObjectTracking/tp2-3/ADL-Rundle-6/img1/000181.jpg: 384x640 11 persons, 1 backpack, 69.9ms\n",
      "Speed: 1.4ms preprocess, 69.9ms inference, 1.2ms postprocess per image at shape (1, 3, 384, 640)\n"
     ]
    },
    {
     "name": "stderr",
     "output_type": "stream",
     "text": [
      "Detecting:  34%|███▍      | 181/525 [00:16<00:29, 11.47it/s]"
     ]
    },
    {
     "name": "stdout",
     "output_type": "stream",
     "text": [
      "\n",
      "image 1/1 /Users/gaspardsaliou/Documents/epita/ing3/visualObjectTracking/tp2-3/ADL-Rundle-6/img1/000182.jpg: 384x640 12 persons, 1 handbag, 1 tv, 79.7ms\n",
      "Speed: 1.4ms preprocess, 79.7ms inference, 0.4ms postprocess per image at shape (1, 3, 384, 640)\n",
      "\n",
      "image 1/1 /Users/gaspardsaliou/Documents/epita/ing3/visualObjectTracking/tp2-3/ADL-Rundle-6/img1/000183.jpg: 384x640 11 persons, 1 backpack, 1 handbag, 1 tv, 77.7ms\n",
      "Speed: 1.5ms preprocess, 77.7ms inference, 1.0ms postprocess per image at shape (1, 3, 384, 640)\n"
     ]
    },
    {
     "name": "stderr",
     "output_type": "stream",
     "text": [
      "Detecting:  35%|███▍      | 183/525 [00:16<00:30, 11.34it/s]"
     ]
    },
    {
     "name": "stdout",
     "output_type": "stream",
     "text": [
      "\n",
      "image 1/1 /Users/gaspardsaliou/Documents/epita/ing3/visualObjectTracking/tp2-3/ADL-Rundle-6/img1/000184.jpg: 384x640 10 persons, 2 backpacks, 1 handbag, 1 tv, 162.4ms\n",
      "Speed: 1.3ms preprocess, 162.4ms inference, 1.0ms postprocess per image at shape (1, 3, 384, 640)\n",
      "\n",
      "image 1/1 /Users/gaspardsaliou/Documents/epita/ing3/visualObjectTracking/tp2-3/ADL-Rundle-6/img1/000185.jpg: 384x640 11 persons, 2 backpacks, 2 handbags, 1 tv, 62.5ms\n",
      "Speed: 1.4ms preprocess, 62.5ms inference, 0.4ms postprocess per image at shape (1, 3, 384, 640)\n"
     ]
    },
    {
     "name": "stderr",
     "output_type": "stream",
     "text": [
      "Detecting:  35%|███▌      | 185/525 [00:16<00:33, 10.10it/s]"
     ]
    },
    {
     "name": "stdout",
     "output_type": "stream",
     "text": [
      "\n",
      "image 1/1 /Users/gaspardsaliou/Documents/epita/ing3/visualObjectTracking/tp2-3/ADL-Rundle-6/img1/000186.jpg: 384x640 12 persons, 2 backpacks, 2 handbags, 1 tv, 85.6ms\n",
      "Speed: 1.3ms preprocess, 85.6ms inference, 2.1ms postprocess per image at shape (1, 3, 384, 640)\n",
      "\n",
      "image 1/1 /Users/gaspardsaliou/Documents/epita/ing3/visualObjectTracking/tp2-3/ADL-Rundle-6/img1/000187.jpg: 384x640 12 persons, 1 backpack, 1 handbag, 1 tv, 84.8ms\n",
      "Speed: 1.3ms preprocess, 84.8ms inference, 0.5ms postprocess per image at shape (1, 3, 384, 640)\n"
     ]
    },
    {
     "name": "stderr",
     "output_type": "stream",
     "text": [
      "Detecting:  36%|███▌      | 187/525 [00:16<00:33, 10.12it/s]"
     ]
    },
    {
     "name": "stdout",
     "output_type": "stream",
     "text": [
      "\n",
      "image 1/1 /Users/gaspardsaliou/Documents/epita/ing3/visualObjectTracking/tp2-3/ADL-Rundle-6/img1/000188.jpg: 384x640 14 persons, 1 backpack, 2 handbags, 1 tv, 76.5ms\n",
      "Speed: 1.5ms preprocess, 76.5ms inference, 0.4ms postprocess per image at shape (1, 3, 384, 640)\n",
      "\n",
      "image 1/1 /Users/gaspardsaliou/Documents/epita/ing3/visualObjectTracking/tp2-3/ADL-Rundle-6/img1/000189.jpg: 384x640 13 persons, 1 handbag, 1 tv, 111.3ms\n",
      "Speed: 1.5ms preprocess, 111.3ms inference, 0.4ms postprocess per image at shape (1, 3, 384, 640)\n"
     ]
    },
    {
     "name": "stderr",
     "output_type": "stream",
     "text": [
      "Detecting:  36%|███▌      | 189/525 [00:17<00:33,  9.90it/s]"
     ]
    },
    {
     "name": "stdout",
     "output_type": "stream",
     "text": [
      "\n",
      "image 1/1 /Users/gaspardsaliou/Documents/epita/ing3/visualObjectTracking/tp2-3/ADL-Rundle-6/img1/000190.jpg: 384x640 12 persons, 1 backpack, 1 handbag, 1 tv, 1 cell phone, 74.4ms\n",
      "Speed: 1.2ms preprocess, 74.4ms inference, 0.4ms postprocess per image at shape (1, 3, 384, 640)\n",
      "\n",
      "image 1/1 /Users/gaspardsaliou/Documents/epita/ing3/visualObjectTracking/tp2-3/ADL-Rundle-6/img1/000191.jpg: 384x640 11 persons, 3 backpacks, 1 handbag, 1 tv, 107.5ms\n",
      "Speed: 1.3ms preprocess, 107.5ms inference, 1.0ms postprocess per image at shape (1, 3, 384, 640)\n"
     ]
    },
    {
     "name": "stderr",
     "output_type": "stream",
     "text": [
      "Detecting:  36%|███▋      | 191/525 [00:17<00:33,  9.87it/s]"
     ]
    },
    {
     "name": "stdout",
     "output_type": "stream",
     "text": [
      "\n",
      "image 1/1 /Users/gaspardsaliou/Documents/epita/ing3/visualObjectTracking/tp2-3/ADL-Rundle-6/img1/000192.jpg: 384x640 12 persons, 1 backpack, 1 tv, 77.2ms\n",
      "Speed: 1.3ms preprocess, 77.2ms inference, 0.4ms postprocess per image at shape (1, 3, 384, 640)\n",
      "\n",
      "image 1/1 /Users/gaspardsaliou/Documents/epita/ing3/visualObjectTracking/tp2-3/ADL-Rundle-6/img1/000193.jpg: 384x640 10 persons, 3 handbags, 1 tv, 67.0ms\n",
      "Speed: 1.3ms preprocess, 67.0ms inference, 0.4ms postprocess per image at shape (1, 3, 384, 640)\n"
     ]
    },
    {
     "name": "stderr",
     "output_type": "stream",
     "text": [
      "Detecting:  37%|███▋      | 193/525 [00:17<00:31, 10.43it/s]"
     ]
    },
    {
     "name": "stdout",
     "output_type": "stream",
     "text": [
      "\n",
      "image 1/1 /Users/gaspardsaliou/Documents/epita/ing3/visualObjectTracking/tp2-3/ADL-Rundle-6/img1/000194.jpg: 384x640 8 persons, 1 backpack, 1 handbag, 1 tv, 100.2ms\n",
      "Speed: 1.6ms preprocess, 100.2ms inference, 0.7ms postprocess per image at shape (1, 3, 384, 640)\n",
      "\n",
      "image 1/1 /Users/gaspardsaliou/Documents/epita/ing3/visualObjectTracking/tp2-3/ADL-Rundle-6/img1/000195.jpg: 384x640 10 persons, 2 backpacks, 1 handbag, 1 tv, 70.0ms\n",
      "Speed: 5.0ms preprocess, 70.0ms inference, 0.4ms postprocess per image at shape (1, 3, 384, 640)\n"
     ]
    },
    {
     "name": "stderr",
     "output_type": "stream",
     "text": [
      "Detecting:  37%|███▋      | 195/525 [00:17<00:31, 10.32it/s]"
     ]
    },
    {
     "name": "stdout",
     "output_type": "stream",
     "text": [
      "\n",
      "image 1/1 /Users/gaspardsaliou/Documents/epita/ing3/visualObjectTracking/tp2-3/ADL-Rundle-6/img1/000196.jpg: 384x640 11 persons, 2 backpacks, 4 handbags, 1 tv, 72.4ms\n",
      "Speed: 1.5ms preprocess, 72.4ms inference, 0.9ms postprocess per image at shape (1, 3, 384, 640)\n",
      "\n",
      "image 1/1 /Users/gaspardsaliou/Documents/epita/ing3/visualObjectTracking/tp2-3/ADL-Rundle-6/img1/000197.jpg: 384x640 11 persons, 5 handbags, 1 tv, 70.1ms\n",
      "Speed: 1.6ms preprocess, 70.1ms inference, 0.4ms postprocess per image at shape (1, 3, 384, 640)\n"
     ]
    },
    {
     "name": "stderr",
     "output_type": "stream",
     "text": [
      "Detecting:  38%|███▊      | 197/525 [00:17<00:30, 10.77it/s]"
     ]
    },
    {
     "name": "stdout",
     "output_type": "stream",
     "text": [
      "\n",
      "image 1/1 /Users/gaspardsaliou/Documents/epita/ing3/visualObjectTracking/tp2-3/ADL-Rundle-6/img1/000198.jpg: 384x640 9 persons, 5 handbags, 1 tv, 76.0ms\n",
      "Speed: 1.3ms preprocess, 76.0ms inference, 0.4ms postprocess per image at shape (1, 3, 384, 640)\n",
      "\n",
      "image 1/1 /Users/gaspardsaliou/Documents/epita/ing3/visualObjectTracking/tp2-3/ADL-Rundle-6/img1/000199.jpg: 384x640 9 persons, 1 backpack, 1 handbag, 1 tv, 66.4ms\n",
      "Speed: 1.3ms preprocess, 66.4ms inference, 0.5ms postprocess per image at shape (1, 3, 384, 640)\n"
     ]
    },
    {
     "name": "stderr",
     "output_type": "stream",
     "text": [
      "Detecting:  38%|███▊      | 199/525 [00:18<00:29, 11.15it/s]"
     ]
    },
    {
     "name": "stdout",
     "output_type": "stream",
     "text": [
      "\n",
      "image 1/1 /Users/gaspardsaliou/Documents/epita/ing3/visualObjectTracking/tp2-3/ADL-Rundle-6/img1/000200.jpg: 384x640 9 persons, 1 tv, 73.1ms\n",
      "Speed: 1.3ms preprocess, 73.1ms inference, 0.3ms postprocess per image at shape (1, 3, 384, 640)\n",
      "\n",
      "image 1/1 /Users/gaspardsaliou/Documents/epita/ing3/visualObjectTracking/tp2-3/ADL-Rundle-6/img1/000201.jpg: 384x640 9 persons, 1 backpack, 1 handbag, 1 tv, 58.6ms\n",
      "Speed: 1.2ms preprocess, 58.6ms inference, 0.4ms postprocess per image at shape (1, 3, 384, 640)\n"
     ]
    },
    {
     "name": "stderr",
     "output_type": "stream",
     "text": [
      "Detecting:  38%|███▊      | 201/525 [00:18<00:27, 11.65it/s]"
     ]
    },
    {
     "name": "stdout",
     "output_type": "stream",
     "text": [
      "\n",
      "image 1/1 /Users/gaspardsaliou/Documents/epita/ing3/visualObjectTracking/tp2-3/ADL-Rundle-6/img1/000202.jpg: 384x640 10 persons, 1 handbag, 1 tv, 64.4ms\n",
      "Speed: 1.2ms preprocess, 64.4ms inference, 0.6ms postprocess per image at shape (1, 3, 384, 640)\n",
      "\n",
      "image 1/1 /Users/gaspardsaliou/Documents/epita/ing3/visualObjectTracking/tp2-3/ADL-Rundle-6/img1/000203.jpg: 384x640 10 persons, 1 umbrella, 1 handbag, 1 tv, 63.0ms\n",
      "Speed: 1.4ms preprocess, 63.0ms inference, 0.4ms postprocess per image at shape (1, 3, 384, 640)\n"
     ]
    },
    {
     "name": "stderr",
     "output_type": "stream",
     "text": [
      "Detecting:  39%|███▊      | 203/525 [00:18<00:26, 12.14it/s]"
     ]
    },
    {
     "name": "stdout",
     "output_type": "stream",
     "text": [
      "\n",
      "image 1/1 /Users/gaspardsaliou/Documents/epita/ing3/visualObjectTracking/tp2-3/ADL-Rundle-6/img1/000204.jpg: 384x640 11 persons, 1 backpack, 1 umbrella, 1 handbag, 1 tv, 59.3ms\n",
      "Speed: 1.3ms preprocess, 59.3ms inference, 0.4ms postprocess per image at shape (1, 3, 384, 640)\n",
      "\n",
      "image 1/1 /Users/gaspardsaliou/Documents/epita/ing3/visualObjectTracking/tp2-3/ADL-Rundle-6/img1/000205.jpg: 384x640 10 persons, 1 backpack, 1 handbag, 1 tv, 74.1ms\n",
      "Speed: 1.8ms preprocess, 74.1ms inference, 0.3ms postprocess per image at shape (1, 3, 384, 640)\n"
     ]
    },
    {
     "name": "stderr",
     "output_type": "stream",
     "text": [
      "Detecting:  39%|███▉      | 205/525 [00:18<00:25, 12.35it/s]"
     ]
    },
    {
     "name": "stdout",
     "output_type": "stream",
     "text": [
      "\n",
      "image 1/1 /Users/gaspardsaliou/Documents/epita/ing3/visualObjectTracking/tp2-3/ADL-Rundle-6/img1/000206.jpg: 384x640 10 persons, 3 handbags, 1 tv, 75.2ms\n",
      "Speed: 1.4ms preprocess, 75.2ms inference, 0.4ms postprocess per image at shape (1, 3, 384, 640)\n",
      "\n",
      "image 1/1 /Users/gaspardsaliou/Documents/epita/ing3/visualObjectTracking/tp2-3/ADL-Rundle-6/img1/000207.jpg: 384x640 12 persons, 1 umbrella, 2 handbags, 1 tv, 69.7ms\n",
      "Speed: 1.6ms preprocess, 69.7ms inference, 1.2ms postprocess per image at shape (1, 3, 384, 640)\n"
     ]
    },
    {
     "name": "stderr",
     "output_type": "stream",
     "text": [
      "Detecting:  39%|███▉      | 207/525 [00:18<00:25, 12.23it/s]"
     ]
    },
    {
     "name": "stdout",
     "output_type": "stream",
     "text": [
      "\n",
      "image 1/1 /Users/gaspardsaliou/Documents/epita/ing3/visualObjectTracking/tp2-3/ADL-Rundle-6/img1/000208.jpg: 384x640 10 persons, 1 handbag, 1 tv, 64.8ms\n",
      "Speed: 1.3ms preprocess, 64.8ms inference, 0.3ms postprocess per image at shape (1, 3, 384, 640)\n",
      "\n",
      "image 1/1 /Users/gaspardsaliou/Documents/epita/ing3/visualObjectTracking/tp2-3/ADL-Rundle-6/img1/000209.jpg: 384x640 12 persons, 1 umbrella, 2 handbags, 1 tv, 57.7ms\n",
      "Speed: 1.3ms preprocess, 57.7ms inference, 1.7ms postprocess per image at shape (1, 3, 384, 640)\n"
     ]
    },
    {
     "name": "stderr",
     "output_type": "stream",
     "text": [
      "Detecting:  40%|███▉      | 209/525 [00:18<00:24, 12.70it/s]"
     ]
    },
    {
     "name": "stdout",
     "output_type": "stream",
     "text": [
      "\n",
      "image 1/1 /Users/gaspardsaliou/Documents/epita/ing3/visualObjectTracking/tp2-3/ADL-Rundle-6/img1/000210.jpg: 384x640 12 persons, 2 backpacks, 1 handbag, 62.5ms\n",
      "Speed: 1.6ms preprocess, 62.5ms inference, 0.3ms postprocess per image at shape (1, 3, 384, 640)\n",
      "\n",
      "image 1/1 /Users/gaspardsaliou/Documents/epita/ing3/visualObjectTracking/tp2-3/ADL-Rundle-6/img1/000211.jpg: 384x640 10 persons, 3 backpacks, 1 handbag, 1 tv, 72.3ms\n",
      "Speed: 1.3ms preprocess, 72.3ms inference, 0.7ms postprocess per image at shape (1, 3, 384, 640)\n"
     ]
    },
    {
     "name": "stderr",
     "output_type": "stream",
     "text": [
      "Detecting:  40%|████      | 211/525 [00:19<00:24, 12.70it/s]"
     ]
    },
    {
     "name": "stdout",
     "output_type": "stream",
     "text": [
      "\n",
      "image 1/1 /Users/gaspardsaliou/Documents/epita/ing3/visualObjectTracking/tp2-3/ADL-Rundle-6/img1/000212.jpg: 384x640 11 persons, 1 backpack, 1 handbag, 161.2ms\n",
      "Speed: 1.3ms preprocess, 161.2ms inference, 0.5ms postprocess per image at shape (1, 3, 384, 640)\n",
      "\n",
      "image 1/1 /Users/gaspardsaliou/Documents/epita/ing3/visualObjectTracking/tp2-3/ADL-Rundle-6/img1/000213.jpg: 384x640 11 persons, 1 handbag, 74.1ms\n",
      "Speed: 1.4ms preprocess, 74.1ms inference, 0.9ms postprocess per image at shape (1, 3, 384, 640)\n"
     ]
    },
    {
     "name": "stderr",
     "output_type": "stream",
     "text": [
      "Detecting:  41%|████      | 213/525 [00:19<00:29, 10.68it/s]"
     ]
    },
    {
     "name": "stdout",
     "output_type": "stream",
     "text": [
      "\n",
      "image 1/1 /Users/gaspardsaliou/Documents/epita/ing3/visualObjectTracking/tp2-3/ADL-Rundle-6/img1/000214.jpg: 384x640 10 persons, 1 backpack, 1 handbag, 60.7ms\n",
      "Speed: 1.2ms preprocess, 60.7ms inference, 0.4ms postprocess per image at shape (1, 3, 384, 640)\n",
      "\n",
      "image 1/1 /Users/gaspardsaliou/Documents/epita/ing3/visualObjectTracking/tp2-3/ADL-Rundle-6/img1/000215.jpg: 384x640 10 persons, 1 handbag, 58.2ms\n",
      "Speed: 1.2ms preprocess, 58.2ms inference, 0.3ms postprocess per image at shape (1, 3, 384, 640)\n"
     ]
    },
    {
     "name": "stderr",
     "output_type": "stream",
     "text": [
      "Detecting:  41%|████      | 215/525 [00:19<00:26, 11.52it/s]"
     ]
    },
    {
     "name": "stdout",
     "output_type": "stream",
     "text": [
      "\n",
      "image 1/1 /Users/gaspardsaliou/Documents/epita/ing3/visualObjectTracking/tp2-3/ADL-Rundle-6/img1/000216.jpg: 384x640 10 persons, 1 backpack, 2 handbags, 65.7ms\n",
      "Speed: 1.2ms preprocess, 65.7ms inference, 0.4ms postprocess per image at shape (1, 3, 384, 640)\n",
      "\n",
      "image 1/1 /Users/gaspardsaliou/Documents/epita/ing3/visualObjectTracking/tp2-3/ADL-Rundle-6/img1/000217.jpg: 384x640 12 persons, 3 handbags, 63.8ms\n",
      "Speed: 1.2ms preprocess, 63.8ms inference, 0.3ms postprocess per image at shape (1, 3, 384, 640)\n"
     ]
    },
    {
     "name": "stderr",
     "output_type": "stream",
     "text": [
      "Detecting:  41%|████▏     | 217/525 [00:19<00:25, 12.02it/s]"
     ]
    },
    {
     "name": "stdout",
     "output_type": "stream",
     "text": [
      "\n",
      "image 1/1 /Users/gaspardsaliou/Documents/epita/ing3/visualObjectTracking/tp2-3/ADL-Rundle-6/img1/000218.jpg: 384x640 11 persons, 2 handbags, 76.0ms\n",
      "Speed: 1.2ms preprocess, 76.0ms inference, 0.4ms postprocess per image at shape (1, 3, 384, 640)\n",
      "\n",
      "image 1/1 /Users/gaspardsaliou/Documents/epita/ing3/visualObjectTracking/tp2-3/ADL-Rundle-6/img1/000219.jpg: 384x640 13 persons, 2 handbags, 64.0ms\n",
      "Speed: 1.7ms preprocess, 64.0ms inference, 0.4ms postprocess per image at shape (1, 3, 384, 640)\n"
     ]
    },
    {
     "name": "stderr",
     "output_type": "stream",
     "text": [
      "Detecting:  42%|████▏     | 219/525 [00:19<00:25, 12.10it/s]"
     ]
    },
    {
     "name": "stdout",
     "output_type": "stream",
     "text": [
      "\n",
      "image 1/1 /Users/gaspardsaliou/Documents/epita/ing3/visualObjectTracking/tp2-3/ADL-Rundle-6/img1/000220.jpg: 384x640 13 persons, 1 handbag, 62.2ms\n",
      "Speed: 1.2ms preprocess, 62.2ms inference, 0.3ms postprocess per image at shape (1, 3, 384, 640)\n",
      "\n",
      "image 1/1 /Users/gaspardsaliou/Documents/epita/ing3/visualObjectTracking/tp2-3/ADL-Rundle-6/img1/000221.jpg: 384x640 13 persons, 1 handbag, 61.7ms\n",
      "Speed: 1.2ms preprocess, 61.7ms inference, 0.4ms postprocess per image at shape (1, 3, 384, 640)\n"
     ]
    },
    {
     "name": "stderr",
     "output_type": "stream",
     "text": [
      "Detecting:  42%|████▏     | 221/525 [00:19<00:24, 12.59it/s]"
     ]
    },
    {
     "name": "stdout",
     "output_type": "stream",
     "text": [
      "\n",
      "image 1/1 /Users/gaspardsaliou/Documents/epita/ing3/visualObjectTracking/tp2-3/ADL-Rundle-6/img1/000222.jpg: 384x640 15 persons, 1 backpack, 1 handbag, 69.6ms\n",
      "Speed: 1.2ms preprocess, 69.6ms inference, 0.4ms postprocess per image at shape (1, 3, 384, 640)\n",
      "\n",
      "image 1/1 /Users/gaspardsaliou/Documents/epita/ing3/visualObjectTracking/tp2-3/ADL-Rundle-6/img1/000223.jpg: 384x640 12 persons, 1 handbag, 78.5ms\n",
      "Speed: 1.5ms preprocess, 78.5ms inference, 0.4ms postprocess per image at shape (1, 3, 384, 640)\n"
     ]
    },
    {
     "name": "stderr",
     "output_type": "stream",
     "text": [
      "Detecting:  42%|████▏     | 223/525 [00:20<00:24, 12.30it/s]"
     ]
    },
    {
     "name": "stdout",
     "output_type": "stream",
     "text": [
      "\n",
      "image 1/1 /Users/gaspardsaliou/Documents/epita/ing3/visualObjectTracking/tp2-3/ADL-Rundle-6/img1/000224.jpg: 384x640 13 persons, 1 umbrella, 1 handbag, 90.4ms\n",
      "Speed: 1.4ms preprocess, 90.4ms inference, 0.4ms postprocess per image at shape (1, 3, 384, 640)\n",
      "\n",
      "image 1/1 /Users/gaspardsaliou/Documents/epita/ing3/visualObjectTracking/tp2-3/ADL-Rundle-6/img1/000225.jpg: 384x640 11 persons, 3 umbrellas, 1 handbag, 72.9ms\n",
      "Speed: 1.3ms preprocess, 72.9ms inference, 0.6ms postprocess per image at shape (1, 3, 384, 640)\n"
     ]
    },
    {
     "name": "stderr",
     "output_type": "stream",
     "text": [
      "Detecting:  43%|████▎     | 225/525 [00:20<00:25, 11.75it/s]"
     ]
    },
    {
     "name": "stdout",
     "output_type": "stream",
     "text": [
      "\n",
      "image 1/1 /Users/gaspardsaliou/Documents/epita/ing3/visualObjectTracking/tp2-3/ADL-Rundle-6/img1/000226.jpg: 384x640 12 persons, 1 handbag, 72.5ms\n",
      "Speed: 1.4ms preprocess, 72.5ms inference, 0.5ms postprocess per image at shape (1, 3, 384, 640)\n",
      "\n",
      "image 1/1 /Users/gaspardsaliou/Documents/epita/ing3/visualObjectTracking/tp2-3/ADL-Rundle-6/img1/000227.jpg: 384x640 11 persons, 68.8ms\n",
      "Speed: 1.4ms preprocess, 68.8ms inference, 0.4ms postprocess per image at shape (1, 3, 384, 640)\n"
     ]
    },
    {
     "name": "stderr",
     "output_type": "stream",
     "text": [
      "Detecting:  43%|████▎     | 227/525 [00:20<00:24, 11.92it/s]"
     ]
    },
    {
     "name": "stdout",
     "output_type": "stream",
     "text": [
      "\n",
      "image 1/1 /Users/gaspardsaliou/Documents/epita/ing3/visualObjectTracking/tp2-3/ADL-Rundle-6/img1/000228.jpg: 384x640 13 persons, 62.2ms\n",
      "Speed: 1.3ms preprocess, 62.2ms inference, 0.3ms postprocess per image at shape (1, 3, 384, 640)\n",
      "\n",
      "image 1/1 /Users/gaspardsaliou/Documents/epita/ing3/visualObjectTracking/tp2-3/ADL-Rundle-6/img1/000229.jpg: 384x640 11 persons, 61.2ms\n",
      "Speed: 1.3ms preprocess, 61.2ms inference, 0.5ms postprocess per image at shape (1, 3, 384, 640)\n"
     ]
    },
    {
     "name": "stderr",
     "output_type": "stream",
     "text": [
      "Detecting:  44%|████▎     | 229/525 [00:20<00:23, 12.40it/s]"
     ]
    },
    {
     "name": "stdout",
     "output_type": "stream",
     "text": [
      "\n",
      "image 1/1 /Users/gaspardsaliou/Documents/epita/ing3/visualObjectTracking/tp2-3/ADL-Rundle-6/img1/000230.jpg: 384x640 11 persons, 78.4ms\n",
      "Speed: 2.3ms preprocess, 78.4ms inference, 0.6ms postprocess per image at shape (1, 3, 384, 640)\n",
      "\n",
      "image 1/1 /Users/gaspardsaliou/Documents/epita/ing3/visualObjectTracking/tp2-3/ADL-Rundle-6/img1/000231.jpg: 384x640 11 persons, 66.8ms\n",
      "Speed: 1.3ms preprocess, 66.8ms inference, 0.9ms postprocess per image at shape (1, 3, 384, 640)\n"
     ]
    },
    {
     "name": "stderr",
     "output_type": "stream",
     "text": [
      "Detecting:  44%|████▍     | 231/525 [00:20<00:24, 12.21it/s]"
     ]
    },
    {
     "name": "stdout",
     "output_type": "stream",
     "text": [
      "\n",
      "image 1/1 /Users/gaspardsaliou/Documents/epita/ing3/visualObjectTracking/tp2-3/ADL-Rundle-6/img1/000232.jpg: 384x640 12 persons, 1 umbrella, 1 handbag, 73.5ms\n",
      "Speed: 1.5ms preprocess, 73.5ms inference, 0.4ms postprocess per image at shape (1, 3, 384, 640)\n",
      "\n",
      "image 1/1 /Users/gaspardsaliou/Documents/epita/ing3/visualObjectTracking/tp2-3/ADL-Rundle-6/img1/000233.jpg: 384x640 12 persons, 1 handbag, 69.4ms\n",
      "Speed: 1.3ms preprocess, 69.4ms inference, 0.4ms postprocess per image at shape (1, 3, 384, 640)\n"
     ]
    },
    {
     "name": "stderr",
     "output_type": "stream",
     "text": [
      "Detecting:  44%|████▍     | 233/525 [00:20<00:23, 12.17it/s]"
     ]
    },
    {
     "name": "stdout",
     "output_type": "stream",
     "text": [
      "\n",
      "image 1/1 /Users/gaspardsaliou/Documents/epita/ing3/visualObjectTracking/tp2-3/ADL-Rundle-6/img1/000234.jpg: 384x640 12 persons, 1 umbrella, 64.3ms\n",
      "Speed: 1.3ms preprocess, 64.3ms inference, 0.4ms postprocess per image at shape (1, 3, 384, 640)\n",
      "\n",
      "image 1/1 /Users/gaspardsaliou/Documents/epita/ing3/visualObjectTracking/tp2-3/ADL-Rundle-6/img1/000235.jpg: 384x640 12 persons, 1 backpack, 69.6ms\n",
      "Speed: 1.3ms preprocess, 69.6ms inference, 0.5ms postprocess per image at shape (1, 3, 384, 640)\n"
     ]
    },
    {
     "name": "stderr",
     "output_type": "stream",
     "text": [
      "Detecting:  45%|████▍     | 235/525 [00:21<00:23, 12.36it/s]"
     ]
    },
    {
     "name": "stdout",
     "output_type": "stream",
     "text": [
      "\n",
      "image 1/1 /Users/gaspardsaliou/Documents/epita/ing3/visualObjectTracking/tp2-3/ADL-Rundle-6/img1/000236.jpg: 384x640 13 persons, 1 backpack, 1 umbrella, 1 handbag, 83.6ms\n",
      "Speed: 1.5ms preprocess, 83.6ms inference, 0.4ms postprocess per image at shape (1, 3, 384, 640)\n",
      "\n",
      "image 1/1 /Users/gaspardsaliou/Documents/epita/ing3/visualObjectTracking/tp2-3/ADL-Rundle-6/img1/000237.jpg: 384x640 13 persons, 1 backpack, 1 handbag, 1 chair, 75.9ms\n",
      "Speed: 1.4ms preprocess, 75.9ms inference, 0.5ms postprocess per image at shape (1, 3, 384, 640)\n"
     ]
    },
    {
     "name": "stderr",
     "output_type": "stream",
     "text": [
      "Detecting:  45%|████▌     | 237/525 [00:21<00:24, 11.88it/s]"
     ]
    },
    {
     "name": "stdout",
     "output_type": "stream",
     "text": [
      "\n",
      "image 1/1 /Users/gaspardsaliou/Documents/epita/ing3/visualObjectTracking/tp2-3/ADL-Rundle-6/img1/000238.jpg: 384x640 14 persons, 1 umbrella, 1 chair, 81.8ms\n",
      "Speed: 2.1ms preprocess, 81.8ms inference, 1.2ms postprocess per image at shape (1, 3, 384, 640)\n",
      "\n",
      "image 1/1 /Users/gaspardsaliou/Documents/epita/ing3/visualObjectTracking/tp2-3/ADL-Rundle-6/img1/000239.jpg: 384x640 15 persons, 1 sports ball, 72.9ms\n",
      "Speed: 1.3ms preprocess, 72.9ms inference, 0.4ms postprocess per image at shape (1, 3, 384, 640)\n"
     ]
    },
    {
     "name": "stderr",
     "output_type": "stream",
     "text": [
      "Detecting:  46%|████▌     | 239/525 [00:21<00:24, 11.69it/s]"
     ]
    },
    {
     "name": "stdout",
     "output_type": "stream",
     "text": [
      "\n",
      "image 1/1 /Users/gaspardsaliou/Documents/epita/ing3/visualObjectTracking/tp2-3/ADL-Rundle-6/img1/000240.jpg: 384x640 14 persons, 145.3ms\n",
      "Speed: 1.3ms preprocess, 145.3ms inference, 0.4ms postprocess per image at shape (1, 3, 384, 640)\n",
      "\n",
      "image 1/1 /Users/gaspardsaliou/Documents/epita/ing3/visualObjectTracking/tp2-3/ADL-Rundle-6/img1/000241.jpg: 384x640 13 persons, 63.5ms\n",
      "Speed: 1.2ms preprocess, 63.5ms inference, 0.5ms postprocess per image at shape (1, 3, 384, 640)\n"
     ]
    },
    {
     "name": "stderr",
     "output_type": "stream",
     "text": [
      "Detecting:  46%|████▌     | 241/525 [00:21<00:26, 10.57it/s]"
     ]
    },
    {
     "name": "stdout",
     "output_type": "stream",
     "text": [
      "\n",
      "image 1/1 /Users/gaspardsaliou/Documents/epita/ing3/visualObjectTracking/tp2-3/ADL-Rundle-6/img1/000242.jpg: 384x640 12 persons, 1 backpack, 63.6ms\n",
      "Speed: 1.6ms preprocess, 63.6ms inference, 0.4ms postprocess per image at shape (1, 3, 384, 640)\n",
      "\n",
      "image 1/1 /Users/gaspardsaliou/Documents/epita/ing3/visualObjectTracking/tp2-3/ADL-Rundle-6/img1/000243.jpg: 384x640 13 persons, 1 backpack, 66.1ms\n",
      "Speed: 1.2ms preprocess, 66.1ms inference, 0.4ms postprocess per image at shape (1, 3, 384, 640)\n"
     ]
    },
    {
     "name": "stderr",
     "output_type": "stream",
     "text": [
      "Detecting:  46%|████▋     | 243/525 [00:21<00:25, 11.23it/s]"
     ]
    },
    {
     "name": "stdout",
     "output_type": "stream",
     "text": [
      "\n",
      "image 1/1 /Users/gaspardsaliou/Documents/epita/ing3/visualObjectTracking/tp2-3/ADL-Rundle-6/img1/000244.jpg: 384x640 14 persons, 77.6ms\n",
      "Speed: 1.2ms preprocess, 77.6ms inference, 0.4ms postprocess per image at shape (1, 3, 384, 640)\n",
      "\n",
      "image 1/1 /Users/gaspardsaliou/Documents/epita/ing3/visualObjectTracking/tp2-3/ADL-Rundle-6/img1/000245.jpg: 384x640 15 persons, 1 tv, 61.3ms\n",
      "Speed: 1.2ms preprocess, 61.3ms inference, 0.4ms postprocess per image at shape (1, 3, 384, 640)\n"
     ]
    },
    {
     "name": "stderr",
     "output_type": "stream",
     "text": [
      "Detecting:  47%|████▋     | 245/525 [00:21<00:24, 11.56it/s]"
     ]
    },
    {
     "name": "stdout",
     "output_type": "stream",
     "text": [
      "\n",
      "image 1/1 /Users/gaspardsaliou/Documents/epita/ing3/visualObjectTracking/tp2-3/ADL-Rundle-6/img1/000246.jpg: 384x640 14 persons, 66.2ms\n",
      "Speed: 1.4ms preprocess, 66.2ms inference, 0.4ms postprocess per image at shape (1, 3, 384, 640)\n",
      "\n",
      "image 1/1 /Users/gaspardsaliou/Documents/epita/ing3/visualObjectTracking/tp2-3/ADL-Rundle-6/img1/000247.jpg: 384x640 15 persons, 58.5ms\n",
      "Speed: 1.3ms preprocess, 58.5ms inference, 0.4ms postprocess per image at shape (1, 3, 384, 640)\n"
     ]
    },
    {
     "name": "stderr",
     "output_type": "stream",
     "text": [
      "Detecting:  47%|████▋     | 247/525 [00:22<00:22, 12.15it/s]"
     ]
    },
    {
     "name": "stdout",
     "output_type": "stream",
     "text": [
      "\n",
      "image 1/1 /Users/gaspardsaliou/Documents/epita/ing3/visualObjectTracking/tp2-3/ADL-Rundle-6/img1/000248.jpg: 384x640 15 persons, 63.4ms\n",
      "Speed: 1.3ms preprocess, 63.4ms inference, 0.4ms postprocess per image at shape (1, 3, 384, 640)\n",
      "\n",
      "image 1/1 /Users/gaspardsaliou/Documents/epita/ing3/visualObjectTracking/tp2-3/ADL-Rundle-6/img1/000249.jpg: 384x640 17 persons, 57.4ms\n",
      "Speed: 1.2ms preprocess, 57.4ms inference, 0.4ms postprocess per image at shape (1, 3, 384, 640)\n"
     ]
    },
    {
     "name": "stderr",
     "output_type": "stream",
     "text": [
      "Detecting:  47%|████▋     | 249/525 [00:22<00:21, 12.65it/s]"
     ]
    },
    {
     "name": "stdout",
     "output_type": "stream",
     "text": [
      "\n",
      "image 1/1 /Users/gaspardsaliou/Documents/epita/ing3/visualObjectTracking/tp2-3/ADL-Rundle-6/img1/000250.jpg: 384x640 15 persons, 65.5ms\n",
      "Speed: 1.2ms preprocess, 65.5ms inference, 0.4ms postprocess per image at shape (1, 3, 384, 640)\n",
      "\n",
      "image 1/1 /Users/gaspardsaliou/Documents/epita/ing3/visualObjectTracking/tp2-3/ADL-Rundle-6/img1/000251.jpg: 384x640 17 persons, 63.0ms\n",
      "Speed: 1.2ms preprocess, 63.0ms inference, 0.4ms postprocess per image at shape (1, 3, 384, 640)\n"
     ]
    },
    {
     "name": "stderr",
     "output_type": "stream",
     "text": [
      "Detecting:  48%|████▊     | 251/525 [00:22<00:21, 12.90it/s]"
     ]
    },
    {
     "name": "stdout",
     "output_type": "stream",
     "text": [
      "\n",
      "image 1/1 /Users/gaspardsaliou/Documents/epita/ing3/visualObjectTracking/tp2-3/ADL-Rundle-6/img1/000252.jpg: 384x640 15 persons, 85.5ms\n",
      "Speed: 1.7ms preprocess, 85.5ms inference, 0.4ms postprocess per image at shape (1, 3, 384, 640)\n",
      "\n",
      "image 1/1 /Users/gaspardsaliou/Documents/epita/ing3/visualObjectTracking/tp2-3/ADL-Rundle-6/img1/000253.jpg: 384x640 13 persons, 66.7ms\n",
      "Speed: 1.2ms preprocess, 66.7ms inference, 0.3ms postprocess per image at shape (1, 3, 384, 640)\n"
     ]
    },
    {
     "name": "stderr",
     "output_type": "stream",
     "text": [
      "Detecting:  48%|████▊     | 253/525 [00:22<00:21, 12.41it/s]"
     ]
    },
    {
     "name": "stdout",
     "output_type": "stream",
     "text": [
      "\n",
      "image 1/1 /Users/gaspardsaliou/Documents/epita/ing3/visualObjectTracking/tp2-3/ADL-Rundle-6/img1/000254.jpg: 384x640 15 persons, 63.5ms\n",
      "Speed: 1.3ms preprocess, 63.5ms inference, 0.4ms postprocess per image at shape (1, 3, 384, 640)\n",
      "\n",
      "image 1/1 /Users/gaspardsaliou/Documents/epita/ing3/visualObjectTracking/tp2-3/ADL-Rundle-6/img1/000255.jpg: 384x640 14 persons, 62.2ms\n",
      "Speed: 1.2ms preprocess, 62.2ms inference, 0.4ms postprocess per image at shape (1, 3, 384, 640)\n"
     ]
    },
    {
     "name": "stderr",
     "output_type": "stream",
     "text": [
      "Detecting:  49%|████▊     | 255/525 [00:22<00:21, 12.71it/s]"
     ]
    },
    {
     "name": "stdout",
     "output_type": "stream",
     "text": [
      "\n",
      "image 1/1 /Users/gaspardsaliou/Documents/epita/ing3/visualObjectTracking/tp2-3/ADL-Rundle-6/img1/000256.jpg: 384x640 14 persons, 60.5ms\n",
      "Speed: 1.1ms preprocess, 60.5ms inference, 0.9ms postprocess per image at shape (1, 3, 384, 640)\n",
      "\n",
      "image 1/1 /Users/gaspardsaliou/Documents/epita/ing3/visualObjectTracking/tp2-3/ADL-Rundle-6/img1/000257.jpg: 384x640 15 persons, 143.4ms\n",
      "Speed: 1.3ms preprocess, 143.4ms inference, 0.4ms postprocess per image at shape (1, 3, 384, 640)\n"
     ]
    },
    {
     "name": "stderr",
     "output_type": "stream",
     "text": [
      "Detecting:  49%|████▉     | 257/525 [00:22<00:23, 11.25it/s]"
     ]
    },
    {
     "name": "stdout",
     "output_type": "stream",
     "text": [
      "\n",
      "image 1/1 /Users/gaspardsaliou/Documents/epita/ing3/visualObjectTracking/tp2-3/ADL-Rundle-6/img1/000258.jpg: 384x640 15 persons, 174.6ms\n",
      "Speed: 2.0ms preprocess, 174.6ms inference, 2.1ms postprocess per image at shape (1, 3, 384, 640)\n",
      "\n",
      "image 1/1 /Users/gaspardsaliou/Documents/epita/ing3/visualObjectTracking/tp2-3/ADL-Rundle-6/img1/000259.jpg: 384x640 12 persons, 72.0ms\n",
      "Speed: 1.2ms preprocess, 72.0ms inference, 0.3ms postprocess per image at shape (1, 3, 384, 640)\n"
     ]
    },
    {
     "name": "stderr",
     "output_type": "stream",
     "text": [
      "Detecting:  49%|████▉     | 259/525 [00:23<00:27,  9.72it/s]"
     ]
    },
    {
     "name": "stdout",
     "output_type": "stream",
     "text": [
      "\n",
      "image 1/1 /Users/gaspardsaliou/Documents/epita/ing3/visualObjectTracking/tp2-3/ADL-Rundle-6/img1/000260.jpg: 384x640 11 persons, 71.0ms\n",
      "Speed: 1.2ms preprocess, 71.0ms inference, 0.3ms postprocess per image at shape (1, 3, 384, 640)\n",
      "\n",
      "image 1/1 /Users/gaspardsaliou/Documents/epita/ing3/visualObjectTracking/tp2-3/ADL-Rundle-6/img1/000261.jpg: 384x640 12 persons, 72.7ms\n",
      "Speed: 2.1ms preprocess, 72.7ms inference, 0.9ms postprocess per image at shape (1, 3, 384, 640)\n"
     ]
    },
    {
     "name": "stderr",
     "output_type": "stream",
     "text": [
      "Detecting:  50%|████▉     | 261/525 [00:23<00:25, 10.33it/s]"
     ]
    },
    {
     "name": "stdout",
     "output_type": "stream",
     "text": [
      "\n",
      "image 1/1 /Users/gaspardsaliou/Documents/epita/ing3/visualObjectTracking/tp2-3/ADL-Rundle-6/img1/000262.jpg: 384x640 11 persons, 67.1ms\n",
      "Speed: 1.2ms preprocess, 67.1ms inference, 0.3ms postprocess per image at shape (1, 3, 384, 640)\n",
      "\n",
      "image 1/1 /Users/gaspardsaliou/Documents/epita/ing3/visualObjectTracking/tp2-3/ADL-Rundle-6/img1/000263.jpg: 384x640 12 persons, 77.3ms\n",
      "Speed: 1.6ms preprocess, 77.3ms inference, 0.4ms postprocess per image at shape (1, 3, 384, 640)\n"
     ]
    },
    {
     "name": "stderr",
     "output_type": "stream",
     "text": [
      "Detecting:  50%|█████     | 263/525 [00:23<00:24, 10.79it/s]"
     ]
    },
    {
     "name": "stdout",
     "output_type": "stream",
     "text": [
      "\n",
      "image 1/1 /Users/gaspardsaliou/Documents/epita/ing3/visualObjectTracking/tp2-3/ADL-Rundle-6/img1/000264.jpg: 384x640 12 persons, 63.1ms\n",
      "Speed: 1.8ms preprocess, 63.1ms inference, 0.4ms postprocess per image at shape (1, 3, 384, 640)\n",
      "\n",
      "image 1/1 /Users/gaspardsaliou/Documents/epita/ing3/visualObjectTracking/tp2-3/ADL-Rundle-6/img1/000265.jpg: 384x640 12 persons, 1 backpack, 64.0ms\n",
      "Speed: 1.2ms preprocess, 64.0ms inference, 0.4ms postprocess per image at shape (1, 3, 384, 640)\n"
     ]
    },
    {
     "name": "stderr",
     "output_type": "stream",
     "text": [
      "Detecting:  50%|█████     | 265/525 [00:23<00:22, 11.46it/s]"
     ]
    },
    {
     "name": "stdout",
     "output_type": "stream",
     "text": [
      "\n",
      "image 1/1 /Users/gaspardsaliou/Documents/epita/ing3/visualObjectTracking/tp2-3/ADL-Rundle-6/img1/000266.jpg: 384x640 11 persons, 64.8ms\n",
      "Speed: 1.2ms preprocess, 64.8ms inference, 0.4ms postprocess per image at shape (1, 3, 384, 640)\n",
      "\n",
      "image 1/1 /Users/gaspardsaliou/Documents/epita/ing3/visualObjectTracking/tp2-3/ADL-Rundle-6/img1/000267.jpg: 384x640 12 persons, 60.4ms\n",
      "Speed: 1.2ms preprocess, 60.4ms inference, 0.4ms postprocess per image at shape (1, 3, 384, 640)\n"
     ]
    },
    {
     "name": "stderr",
     "output_type": "stream",
     "text": [
      "Detecting:  51%|█████     | 267/525 [00:23<00:21, 12.05it/s]"
     ]
    },
    {
     "name": "stdout",
     "output_type": "stream",
     "text": [
      "\n",
      "image 1/1 /Users/gaspardsaliou/Documents/epita/ing3/visualObjectTracking/tp2-3/ADL-Rundle-6/img1/000268.jpg: 384x640 10 persons, 66.1ms\n",
      "Speed: 1.3ms preprocess, 66.1ms inference, 0.6ms postprocess per image at shape (1, 3, 384, 640)\n",
      "\n",
      "image 1/1 /Users/gaspardsaliou/Documents/epita/ing3/visualObjectTracking/tp2-3/ADL-Rundle-6/img1/000269.jpg: 384x640 10 persons, 65.8ms\n",
      "Speed: 1.2ms preprocess, 65.8ms inference, 0.4ms postprocess per image at shape (1, 3, 384, 640)\n"
     ]
    },
    {
     "name": "stderr",
     "output_type": "stream",
     "text": [
      "Detecting:  51%|█████     | 269/525 [00:23<00:20, 12.32it/s]"
     ]
    },
    {
     "name": "stdout",
     "output_type": "stream",
     "text": [
      "\n",
      "image 1/1 /Users/gaspardsaliou/Documents/epita/ing3/visualObjectTracking/tp2-3/ADL-Rundle-6/img1/000270.jpg: 384x640 10 persons, 146.2ms\n",
      "Speed: 1.2ms preprocess, 146.2ms inference, 0.3ms postprocess per image at shape (1, 3, 384, 640)\n",
      "\n",
      "image 1/1 /Users/gaspardsaliou/Documents/epita/ing3/visualObjectTracking/tp2-3/ADL-Rundle-6/img1/000271.jpg: 384x640 12 persons, 60.5ms\n",
      "Speed: 1.2ms preprocess, 60.5ms inference, 0.4ms postprocess per image at shape (1, 3, 384, 640)\n"
     ]
    },
    {
     "name": "stderr",
     "output_type": "stream",
     "text": [
      "Detecting:  52%|█████▏    | 271/525 [00:24<00:23, 10.98it/s]"
     ]
    },
    {
     "name": "stdout",
     "output_type": "stream",
     "text": [
      "\n",
      "image 1/1 /Users/gaspardsaliou/Documents/epita/ing3/visualObjectTracking/tp2-3/ADL-Rundle-6/img1/000272.jpg: 384x640 11 persons, 66.1ms\n",
      "Speed: 1.2ms preprocess, 66.1ms inference, 0.4ms postprocess per image at shape (1, 3, 384, 640)\n",
      "\n",
      "image 1/1 /Users/gaspardsaliou/Documents/epita/ing3/visualObjectTracking/tp2-3/ADL-Rundle-6/img1/000273.jpg: 384x640 11 persons, 69.0ms\n",
      "Speed: 1.2ms preprocess, 69.0ms inference, 0.5ms postprocess per image at shape (1, 3, 384, 640)\n"
     ]
    },
    {
     "name": "stderr",
     "output_type": "stream",
     "text": [
      "Detecting:  52%|█████▏    | 273/525 [00:24<00:21, 11.46it/s]"
     ]
    },
    {
     "name": "stdout",
     "output_type": "stream",
     "text": [
      "\n",
      "image 1/1 /Users/gaspardsaliou/Documents/epita/ing3/visualObjectTracking/tp2-3/ADL-Rundle-6/img1/000274.jpg: 384x640 12 persons, 81.2ms\n",
      "Speed: 1.6ms preprocess, 81.2ms inference, 0.5ms postprocess per image at shape (1, 3, 384, 640)\n",
      "\n",
      "image 1/1 /Users/gaspardsaliou/Documents/epita/ing3/visualObjectTracking/tp2-3/ADL-Rundle-6/img1/000275.jpg: 384x640 11 persons, 74.9ms\n",
      "Speed: 1.4ms preprocess, 74.9ms inference, 0.4ms postprocess per image at shape (1, 3, 384, 640)\n"
     ]
    },
    {
     "name": "stderr",
     "output_type": "stream",
     "text": [
      "Detecting:  52%|█████▏    | 275/525 [00:24<00:21, 11.39it/s]"
     ]
    },
    {
     "name": "stdout",
     "output_type": "stream",
     "text": [
      "\n",
      "image 1/1 /Users/gaspardsaliou/Documents/epita/ing3/visualObjectTracking/tp2-3/ADL-Rundle-6/img1/000276.jpg: 384x640 11 persons, 72.7ms\n",
      "Speed: 1.6ms preprocess, 72.7ms inference, 0.4ms postprocess per image at shape (1, 3, 384, 640)\n",
      "\n",
      "image 1/1 /Users/gaspardsaliou/Documents/epita/ing3/visualObjectTracking/tp2-3/ADL-Rundle-6/img1/000277.jpg: 384x640 11 persons, 76.0ms\n",
      "Speed: 1.9ms preprocess, 76.0ms inference, 0.4ms postprocess per image at shape (1, 3, 384, 640)\n"
     ]
    },
    {
     "name": "stderr",
     "output_type": "stream",
     "text": [
      "Detecting:  53%|█████▎    | 277/525 [00:24<00:21, 11.48it/s]"
     ]
    },
    {
     "name": "stdout",
     "output_type": "stream",
     "text": [
      "\n",
      "image 1/1 /Users/gaspardsaliou/Documents/epita/ing3/visualObjectTracking/tp2-3/ADL-Rundle-6/img1/000278.jpg: 384x640 12 persons, 73.5ms\n",
      "Speed: 1.2ms preprocess, 73.5ms inference, 0.4ms postprocess per image at shape (1, 3, 384, 640)\n",
      "\n",
      "image 1/1 /Users/gaspardsaliou/Documents/epita/ing3/visualObjectTracking/tp2-3/ADL-Rundle-6/img1/000279.jpg: 384x640 14 persons, 73.2ms\n",
      "Speed: 1.9ms preprocess, 73.2ms inference, 0.7ms postprocess per image at shape (1, 3, 384, 640)\n"
     ]
    },
    {
     "name": "stderr",
     "output_type": "stream",
     "text": [
      "Detecting:  53%|█████▎    | 279/525 [00:24<00:21, 11.59it/s]"
     ]
    },
    {
     "name": "stdout",
     "output_type": "stream",
     "text": [
      "\n",
      "image 1/1 /Users/gaspardsaliou/Documents/epita/ing3/visualObjectTracking/tp2-3/ADL-Rundle-6/img1/000280.jpg: 384x640 12 persons, 1 handbag, 73.1ms\n",
      "Speed: 1.4ms preprocess, 73.1ms inference, 1.0ms postprocess per image at shape (1, 3, 384, 640)\n",
      "\n",
      "image 1/1 /Users/gaspardsaliou/Documents/epita/ing3/visualObjectTracking/tp2-3/ADL-Rundle-6/img1/000281.jpg: 384x640 11 persons, 2 handbags, 66.4ms\n",
      "Speed: 1.6ms preprocess, 66.4ms inference, 0.7ms postprocess per image at shape (1, 3, 384, 640)\n"
     ]
    },
    {
     "name": "stderr",
     "output_type": "stream",
     "text": [
      "Detecting:  54%|█████▎    | 281/525 [00:25<00:20, 11.77it/s]"
     ]
    },
    {
     "name": "stdout",
     "output_type": "stream",
     "text": [
      "\n",
      "image 1/1 /Users/gaspardsaliou/Documents/epita/ing3/visualObjectTracking/tp2-3/ADL-Rundle-6/img1/000282.jpg: 384x640 11 persons, 74.4ms\n",
      "Speed: 1.3ms preprocess, 74.4ms inference, 0.4ms postprocess per image at shape (1, 3, 384, 640)\n",
      "\n",
      "image 1/1 /Users/gaspardsaliou/Documents/epita/ing3/visualObjectTracking/tp2-3/ADL-Rundle-6/img1/000283.jpg: 384x640 11 persons, 1 handbag, 74.4ms\n",
      "Speed: 1.2ms preprocess, 74.4ms inference, 0.4ms postprocess per image at shape (1, 3, 384, 640)\n"
     ]
    },
    {
     "name": "stderr",
     "output_type": "stream",
     "text": [
      "Detecting:  54%|█████▍    | 283/525 [00:25<00:20, 11.76it/s]"
     ]
    },
    {
     "name": "stdout",
     "output_type": "stream",
     "text": [
      "\n",
      "image 1/1 /Users/gaspardsaliou/Documents/epita/ing3/visualObjectTracking/tp2-3/ADL-Rundle-6/img1/000284.jpg: 384x640 10 persons, 77.6ms\n",
      "Speed: 1.4ms preprocess, 77.6ms inference, 0.4ms postprocess per image at shape (1, 3, 384, 640)\n",
      "\n",
      "image 1/1 /Users/gaspardsaliou/Documents/epita/ing3/visualObjectTracking/tp2-3/ADL-Rundle-6/img1/000285.jpg: 384x640 11 persons, 63.5ms\n",
      "Speed: 1.7ms preprocess, 63.5ms inference, 0.3ms postprocess per image at shape (1, 3, 384, 640)\n"
     ]
    },
    {
     "name": "stderr",
     "output_type": "stream",
     "text": [
      "Detecting:  54%|█████▍    | 285/525 [00:25<00:20, 11.89it/s]"
     ]
    },
    {
     "name": "stdout",
     "output_type": "stream",
     "text": [
      "\n",
      "image 1/1 /Users/gaspardsaliou/Documents/epita/ing3/visualObjectTracking/tp2-3/ADL-Rundle-6/img1/000286.jpg: 384x640 9 persons, 77.0ms\n",
      "Speed: 1.3ms preprocess, 77.0ms inference, 0.3ms postprocess per image at shape (1, 3, 384, 640)\n",
      "\n",
      "image 1/1 /Users/gaspardsaliou/Documents/epita/ing3/visualObjectTracking/tp2-3/ADL-Rundle-6/img1/000287.jpg: 384x640 12 persons, 67.7ms\n",
      "Speed: 1.2ms preprocess, 67.7ms inference, 0.4ms postprocess per image at shape (1, 3, 384, 640)\n"
     ]
    },
    {
     "name": "stderr",
     "output_type": "stream",
     "text": [
      "Detecting:  55%|█████▍    | 287/525 [00:25<00:19, 11.92it/s]"
     ]
    },
    {
     "name": "stdout",
     "output_type": "stream",
     "text": [
      "\n",
      "image 1/1 /Users/gaspardsaliou/Documents/epita/ing3/visualObjectTracking/tp2-3/ADL-Rundle-6/img1/000288.jpg: 384x640 12 persons, 86.9ms\n",
      "Speed: 1.9ms preprocess, 86.9ms inference, 0.6ms postprocess per image at shape (1, 3, 384, 640)\n",
      "\n",
      "image 1/1 /Users/gaspardsaliou/Documents/epita/ing3/visualObjectTracking/tp2-3/ADL-Rundle-6/img1/000289.jpg: 384x640 12 persons, 78.2ms\n",
      "Speed: 1.3ms preprocess, 78.2ms inference, 0.4ms postprocess per image at shape (1, 3, 384, 640)\n"
     ]
    },
    {
     "name": "stderr",
     "output_type": "stream",
     "text": [
      "Detecting:  55%|█████▌    | 289/525 [00:25<00:20, 11.48it/s]"
     ]
    },
    {
     "name": "stdout",
     "output_type": "stream",
     "text": [
      "\n",
      "image 1/1 /Users/gaspardsaliou/Documents/epita/ing3/visualObjectTracking/tp2-3/ADL-Rundle-6/img1/000290.jpg: 384x640 11 persons, 68.9ms\n",
      "Speed: 1.5ms preprocess, 68.9ms inference, 0.4ms postprocess per image at shape (1, 3, 384, 640)\n",
      "\n",
      "image 1/1 /Users/gaspardsaliou/Documents/epita/ing3/visualObjectTracking/tp2-3/ADL-Rundle-6/img1/000291.jpg: 384x640 12 persons, 80.1ms\n",
      "Speed: 1.9ms preprocess, 80.1ms inference, 0.4ms postprocess per image at shape (1, 3, 384, 640)\n"
     ]
    },
    {
     "name": "stderr",
     "output_type": "stream",
     "text": [
      "Detecting:  55%|█████▌    | 291/525 [00:25<00:20, 11.49it/s]"
     ]
    },
    {
     "name": "stdout",
     "output_type": "stream",
     "text": [
      "\n",
      "image 1/1 /Users/gaspardsaliou/Documents/epita/ing3/visualObjectTracking/tp2-3/ADL-Rundle-6/img1/000292.jpg: 384x640 11 persons, 80.7ms\n",
      "Speed: 1.5ms preprocess, 80.7ms inference, 0.4ms postprocess per image at shape (1, 3, 384, 640)\n",
      "\n",
      "image 1/1 /Users/gaspardsaliou/Documents/epita/ing3/visualObjectTracking/tp2-3/ADL-Rundle-6/img1/000293.jpg: 384x640 11 persons, 73.3ms\n",
      "Speed: 1.4ms preprocess, 73.3ms inference, 1.2ms postprocess per image at shape (1, 3, 384, 640)\n"
     ]
    },
    {
     "name": "stderr",
     "output_type": "stream",
     "text": [
      "Detecting:  56%|█████▌    | 293/525 [00:26<00:20, 11.41it/s]"
     ]
    },
    {
     "name": "stdout",
     "output_type": "stream",
     "text": [
      "\n",
      "image 1/1 /Users/gaspardsaliou/Documents/epita/ing3/visualObjectTracking/tp2-3/ADL-Rundle-6/img1/000294.jpg: 384x640 11 persons, 79.0ms\n",
      "Speed: 1.2ms preprocess, 79.0ms inference, 0.8ms postprocess per image at shape (1, 3, 384, 640)\n",
      "\n",
      "image 1/1 /Users/gaspardsaliou/Documents/epita/ing3/visualObjectTracking/tp2-3/ADL-Rundle-6/img1/000295.jpg: 384x640 12 persons, 77.9ms\n",
      "Speed: 1.5ms preprocess, 77.9ms inference, 0.3ms postprocess per image at shape (1, 3, 384, 640)\n"
     ]
    },
    {
     "name": "stderr",
     "output_type": "stream",
     "text": [
      "Detecting:  56%|█████▌    | 295/525 [00:26<00:20, 11.32it/s]"
     ]
    },
    {
     "name": "stdout",
     "output_type": "stream",
     "text": [
      "\n",
      "image 1/1 /Users/gaspardsaliou/Documents/epita/ing3/visualObjectTracking/tp2-3/ADL-Rundle-6/img1/000296.jpg: 384x640 13 persons, 76.7ms\n",
      "Speed: 2.2ms preprocess, 76.7ms inference, 0.7ms postprocess per image at shape (1, 3, 384, 640)\n",
      "\n",
      "image 1/1 /Users/gaspardsaliou/Documents/epita/ing3/visualObjectTracking/tp2-3/ADL-Rundle-6/img1/000297.jpg: 384x640 12 persons, 70.7ms\n",
      "Speed: 1.3ms preprocess, 70.7ms inference, 0.6ms postprocess per image at shape (1, 3, 384, 640)\n"
     ]
    },
    {
     "name": "stderr",
     "output_type": "stream",
     "text": [
      "Detecting:  57%|█████▋    | 297/525 [00:26<00:19, 11.44it/s]"
     ]
    },
    {
     "name": "stdout",
     "output_type": "stream",
     "text": [
      "\n",
      "image 1/1 /Users/gaspardsaliou/Documents/epita/ing3/visualObjectTracking/tp2-3/ADL-Rundle-6/img1/000298.jpg: 384x640 10 persons, 1 handbag, 149.2ms\n",
      "Speed: 1.2ms preprocess, 149.2ms inference, 0.4ms postprocess per image at shape (1, 3, 384, 640)\n",
      "\n",
      "image 1/1 /Users/gaspardsaliou/Documents/epita/ing3/visualObjectTracking/tp2-3/ADL-Rundle-6/img1/000299.jpg: 384x640 9 persons, 69.0ms\n",
      "Speed: 1.4ms preprocess, 69.0ms inference, 0.4ms postprocess per image at shape (1, 3, 384, 640)\n"
     ]
    },
    {
     "name": "stderr",
     "output_type": "stream",
     "text": [
      "Detecting:  57%|█████▋    | 299/525 [00:26<00:22, 10.27it/s]"
     ]
    },
    {
     "name": "stdout",
     "output_type": "stream",
     "text": [
      "\n",
      "image 1/1 /Users/gaspardsaliou/Documents/epita/ing3/visualObjectTracking/tp2-3/ADL-Rundle-6/img1/000300.jpg: 384x640 11 persons, 86.7ms\n",
      "Speed: 1.2ms preprocess, 86.7ms inference, 0.3ms postprocess per image at shape (1, 3, 384, 640)\n",
      "\n",
      "image 1/1 /Users/gaspardsaliou/Documents/epita/ing3/visualObjectTracking/tp2-3/ADL-Rundle-6/img1/000301.jpg: 384x640 9 persons, 64.8ms\n",
      "Speed: 1.3ms preprocess, 64.8ms inference, 0.4ms postprocess per image at shape (1, 3, 384, 640)\n"
     ]
    },
    {
     "name": "stderr",
     "output_type": "stream",
     "text": [
      "Detecting:  57%|█████▋    | 301/525 [00:26<00:21, 10.62it/s]"
     ]
    },
    {
     "name": "stdout",
     "output_type": "stream",
     "text": [
      "\n",
      "image 1/1 /Users/gaspardsaliou/Documents/epita/ing3/visualObjectTracking/tp2-3/ADL-Rundle-6/img1/000302.jpg: 384x640 11 persons, 2 handbags, 67.2ms\n",
      "Speed: 1.2ms preprocess, 67.2ms inference, 0.3ms postprocess per image at shape (1, 3, 384, 640)\n",
      "\n",
      "image 1/1 /Users/gaspardsaliou/Documents/epita/ing3/visualObjectTracking/tp2-3/ADL-Rundle-6/img1/000303.jpg: 384x640 11 persons, 59.7ms\n",
      "Speed: 1.2ms preprocess, 59.7ms inference, 0.4ms postprocess per image at shape (1, 3, 384, 640)\n"
     ]
    },
    {
     "name": "stderr",
     "output_type": "stream",
     "text": [
      "Detecting:  58%|█████▊    | 303/525 [00:27<00:19, 11.31it/s]"
     ]
    },
    {
     "name": "stdout",
     "output_type": "stream",
     "text": [
      "\n",
      "image 1/1 /Users/gaspardsaliou/Documents/epita/ing3/visualObjectTracking/tp2-3/ADL-Rundle-6/img1/000304.jpg: 384x640 12 persons, 65.6ms\n",
      "Speed: 1.2ms preprocess, 65.6ms inference, 0.4ms postprocess per image at shape (1, 3, 384, 640)\n",
      "\n",
      "image 1/1 /Users/gaspardsaliou/Documents/epita/ing3/visualObjectTracking/tp2-3/ADL-Rundle-6/img1/000305.jpg: 384x640 13 persons, 60.8ms\n",
      "Speed: 1.9ms preprocess, 60.8ms inference, 0.4ms postprocess per image at shape (1, 3, 384, 640)\n"
     ]
    },
    {
     "name": "stderr",
     "output_type": "stream",
     "text": [
      "Detecting:  58%|█████▊    | 305/525 [00:27<00:18, 11.85it/s]"
     ]
    },
    {
     "name": "stdout",
     "output_type": "stream",
     "text": [
      "\n",
      "image 1/1 /Users/gaspardsaliou/Documents/epita/ing3/visualObjectTracking/tp2-3/ADL-Rundle-6/img1/000306.jpg: 384x640 9 persons, 66.7ms\n",
      "Speed: 1.2ms preprocess, 66.7ms inference, 0.4ms postprocess per image at shape (1, 3, 384, 640)\n",
      "\n",
      "image 1/1 /Users/gaspardsaliou/Documents/epita/ing3/visualObjectTracking/tp2-3/ADL-Rundle-6/img1/000307.jpg: 384x640 10 persons, 61.5ms\n",
      "Speed: 1.2ms preprocess, 61.5ms inference, 0.4ms postprocess per image at shape (1, 3, 384, 640)\n"
     ]
    },
    {
     "name": "stderr",
     "output_type": "stream",
     "text": [
      "Detecting:  58%|█████▊    | 307/525 [00:27<00:17, 12.23it/s]"
     ]
    },
    {
     "name": "stdout",
     "output_type": "stream",
     "text": [
      "\n",
      "image 1/1 /Users/gaspardsaliou/Documents/epita/ing3/visualObjectTracking/tp2-3/ADL-Rundle-6/img1/000308.jpg: 384x640 11 persons, 76.9ms\n",
      "Speed: 1.2ms preprocess, 76.9ms inference, 0.4ms postprocess per image at shape (1, 3, 384, 640)\n",
      "\n",
      "image 1/1 /Users/gaspardsaliou/Documents/epita/ing3/visualObjectTracking/tp2-3/ADL-Rundle-6/img1/000309.jpg: 384x640 12 persons, 64.2ms\n",
      "Speed: 1.4ms preprocess, 64.2ms inference, 0.3ms postprocess per image at shape (1, 3, 384, 640)\n"
     ]
    },
    {
     "name": "stderr",
     "output_type": "stream",
     "text": [
      "Detecting:  59%|█████▉    | 309/525 [00:27<00:17, 12.25it/s]"
     ]
    },
    {
     "name": "stdout",
     "output_type": "stream",
     "text": [
      "\n",
      "image 1/1 /Users/gaspardsaliou/Documents/epita/ing3/visualObjectTracking/tp2-3/ADL-Rundle-6/img1/000310.jpg: 384x640 11 persons, 85.1ms\n",
      "Speed: 1.2ms preprocess, 85.1ms inference, 1.5ms postprocess per image at shape (1, 3, 384, 640)\n",
      "\n",
      "image 1/1 /Users/gaspardsaliou/Documents/epita/ing3/visualObjectTracking/tp2-3/ADL-Rundle-6/img1/000311.jpg: 384x640 11 persons, 1 kite, 75.9ms\n",
      "Speed: 1.3ms preprocess, 75.9ms inference, 1.0ms postprocess per image at shape (1, 3, 384, 640)\n"
     ]
    },
    {
     "name": "stderr",
     "output_type": "stream",
     "text": [
      "Detecting:  59%|█████▉    | 311/525 [00:27<00:18, 11.75it/s]"
     ]
    },
    {
     "name": "stdout",
     "output_type": "stream",
     "text": [
      "\n",
      "image 1/1 /Users/gaspardsaliou/Documents/epita/ing3/visualObjectTracking/tp2-3/ADL-Rundle-6/img1/000312.jpg: 384x640 10 persons, 79.8ms\n",
      "Speed: 1.5ms preprocess, 79.8ms inference, 1.5ms postprocess per image at shape (1, 3, 384, 640)\n",
      "\n",
      "image 1/1 /Users/gaspardsaliou/Documents/epita/ing3/visualObjectTracking/tp2-3/ADL-Rundle-6/img1/000313.jpg: 384x640 11 persons, 1 kite, 1 tv, 77.7ms\n",
      "Speed: 1.4ms preprocess, 77.7ms inference, 0.5ms postprocess per image at shape (1, 3, 384, 640)\n"
     ]
    },
    {
     "name": "stderr",
     "output_type": "stream",
     "text": [
      "Detecting:  60%|█████▉    | 313/525 [00:27<00:18, 11.50it/s]"
     ]
    },
    {
     "name": "stdout",
     "output_type": "stream",
     "text": [
      "\n",
      "image 1/1 /Users/gaspardsaliou/Documents/epita/ing3/visualObjectTracking/tp2-3/ADL-Rundle-6/img1/000314.jpg: 384x640 10 persons, 1 kite, 1 tv, 80.8ms\n",
      "Speed: 1.4ms preprocess, 80.8ms inference, 0.8ms postprocess per image at shape (1, 3, 384, 640)\n",
      "\n",
      "image 1/1 /Users/gaspardsaliou/Documents/epita/ing3/visualObjectTracking/tp2-3/ADL-Rundle-6/img1/000315.jpg: 384x640 10 persons, 1 kite, 1 tv, 74.9ms\n",
      "Speed: 1.4ms preprocess, 74.9ms inference, 0.5ms postprocess per image at shape (1, 3, 384, 640)\n"
     ]
    },
    {
     "name": "stderr",
     "output_type": "stream",
     "text": [
      "Detecting:  60%|██████    | 315/525 [00:28<00:18, 11.40it/s]"
     ]
    },
    {
     "name": "stdout",
     "output_type": "stream",
     "text": [
      "\n",
      "image 1/1 /Users/gaspardsaliou/Documents/epita/ing3/visualObjectTracking/tp2-3/ADL-Rundle-6/img1/000316.jpg: 384x640 11 persons, 1 tv, 100.4ms\n",
      "Speed: 1.2ms preprocess, 100.4ms inference, 1.3ms postprocess per image at shape (1, 3, 384, 640)\n",
      "\n",
      "image 1/1 /Users/gaspardsaliou/Documents/epita/ing3/visualObjectTracking/tp2-3/ADL-Rundle-6/img1/000317.jpg: 384x640 11 persons, 77.4ms\n",
      "Speed: 3.1ms preprocess, 77.4ms inference, 0.4ms postprocess per image at shape (1, 3, 384, 640)\n"
     ]
    },
    {
     "name": "stderr",
     "output_type": "stream",
     "text": [
      "Detecting:  60%|██████    | 317/525 [00:28<00:19, 10.87it/s]"
     ]
    },
    {
     "name": "stdout",
     "output_type": "stream",
     "text": [
      "\n",
      "image 1/1 /Users/gaspardsaliou/Documents/epita/ing3/visualObjectTracking/tp2-3/ADL-Rundle-6/img1/000318.jpg: 384x640 12 persons, 68.6ms\n",
      "Speed: 1.3ms preprocess, 68.6ms inference, 0.4ms postprocess per image at shape (1, 3, 384, 640)\n",
      "\n",
      "image 1/1 /Users/gaspardsaliou/Documents/epita/ing3/visualObjectTracking/tp2-3/ADL-Rundle-6/img1/000319.jpg: 384x640 13 persons, 1 handbag, 69.2ms\n",
      "Speed: 1.3ms preprocess, 69.2ms inference, 0.4ms postprocess per image at shape (1, 3, 384, 640)\n"
     ]
    },
    {
     "name": "stderr",
     "output_type": "stream",
     "text": [
      "Detecting:  61%|██████    | 319/525 [00:28<00:18, 11.30it/s]"
     ]
    },
    {
     "name": "stdout",
     "output_type": "stream",
     "text": [
      "\n",
      "image 1/1 /Users/gaspardsaliou/Documents/epita/ing3/visualObjectTracking/tp2-3/ADL-Rundle-6/img1/000320.jpg: 384x640 13 persons, 1 handbag, 61.6ms\n",
      "Speed: 1.3ms preprocess, 61.6ms inference, 1.1ms postprocess per image at shape (1, 3, 384, 640)\n",
      "\n",
      "image 1/1 /Users/gaspardsaliou/Documents/epita/ing3/visualObjectTracking/tp2-3/ADL-Rundle-6/img1/000321.jpg: 384x640 11 persons, 2 handbags, 69.3ms\n",
      "Speed: 1.2ms preprocess, 69.3ms inference, 0.4ms postprocess per image at shape (1, 3, 384, 640)\n"
     ]
    },
    {
     "name": "stderr",
     "output_type": "stream",
     "text": [
      "Detecting:  61%|██████    | 321/525 [00:28<00:17, 11.80it/s]"
     ]
    },
    {
     "name": "stdout",
     "output_type": "stream",
     "text": [
      "\n",
      "image 1/1 /Users/gaspardsaliou/Documents/epita/ing3/visualObjectTracking/tp2-3/ADL-Rundle-6/img1/000322.jpg: 384x640 12 persons, 2 handbags, 64.8ms\n",
      "Speed: 1.7ms preprocess, 64.8ms inference, 0.4ms postprocess per image at shape (1, 3, 384, 640)\n",
      "\n",
      "image 1/1 /Users/gaspardsaliou/Documents/epita/ing3/visualObjectTracking/tp2-3/ADL-Rundle-6/img1/000323.jpg: 384x640 12 persons, 1 handbag, 62.6ms\n",
      "Speed: 1.2ms preprocess, 62.6ms inference, 0.6ms postprocess per image at shape (1, 3, 384, 640)\n"
     ]
    },
    {
     "name": "stderr",
     "output_type": "stream",
     "text": [
      "Detecting:  62%|██████▏   | 323/525 [00:28<00:16, 12.22it/s]"
     ]
    },
    {
     "name": "stdout",
     "output_type": "stream",
     "text": [
      "\n",
      "image 1/1 /Users/gaspardsaliou/Documents/epita/ing3/visualObjectTracking/tp2-3/ADL-Rundle-6/img1/000324.jpg: 384x640 13 persons, 2 handbags, 66.5ms\n",
      "Speed: 1.7ms preprocess, 66.5ms inference, 0.3ms postprocess per image at shape (1, 3, 384, 640)\n",
      "\n",
      "image 1/1 /Users/gaspardsaliou/Documents/epita/ing3/visualObjectTracking/tp2-3/ADL-Rundle-6/img1/000325.jpg: 384x640 13 persons, 2 handbags, 60.2ms\n",
      "Speed: 1.2ms preprocess, 60.2ms inference, 0.3ms postprocess per image at shape (1, 3, 384, 640)\n"
     ]
    },
    {
     "name": "stderr",
     "output_type": "stream",
     "text": [
      "Detecting:  62%|██████▏   | 325/525 [00:28<00:15, 12.55it/s]"
     ]
    },
    {
     "name": "stdout",
     "output_type": "stream",
     "text": [
      "\n",
      "image 1/1 /Users/gaspardsaliou/Documents/epita/ing3/visualObjectTracking/tp2-3/ADL-Rundle-6/img1/000326.jpg: 384x640 11 persons, 2 handbags, 146.9ms\n",
      "Speed: 1.3ms preprocess, 146.9ms inference, 0.9ms postprocess per image at shape (1, 3, 384, 640)\n",
      "\n",
      "image 1/1 /Users/gaspardsaliou/Documents/epita/ing3/visualObjectTracking/tp2-3/ADL-Rundle-6/img1/000327.jpg: 384x640 11 persons, 1 handbag, 60.3ms\n",
      "Speed: 1.2ms preprocess, 60.3ms inference, 0.3ms postprocess per image at shape (1, 3, 384, 640)\n"
     ]
    },
    {
     "name": "stderr",
     "output_type": "stream",
     "text": [
      "Detecting:  62%|██████▏   | 327/525 [00:29<00:17, 11.10it/s]"
     ]
    },
    {
     "name": "stdout",
     "output_type": "stream",
     "text": [
      "\n",
      "image 1/1 /Users/gaspardsaliou/Documents/epita/ing3/visualObjectTracking/tp2-3/ADL-Rundle-6/img1/000328.jpg: 384x640 11 persons, 1 handbag, 78.6ms\n",
      "Speed: 1.4ms preprocess, 78.6ms inference, 0.4ms postprocess per image at shape (1, 3, 384, 640)\n",
      "\n",
      "image 1/1 /Users/gaspardsaliou/Documents/epita/ing3/visualObjectTracking/tp2-3/ADL-Rundle-6/img1/000329.jpg: 384x640 11 persons, 2 handbags, 71.1ms\n",
      "Speed: 1.5ms preprocess, 71.1ms inference, 0.4ms postprocess per image at shape (1, 3, 384, 640)\n"
     ]
    },
    {
     "name": "stderr",
     "output_type": "stream",
     "text": [
      "Detecting:  63%|██████▎   | 329/525 [00:29<00:17, 11.25it/s]"
     ]
    },
    {
     "name": "stdout",
     "output_type": "stream",
     "text": [
      "\n",
      "image 1/1 /Users/gaspardsaliou/Documents/epita/ing3/visualObjectTracking/tp2-3/ADL-Rundle-6/img1/000330.jpg: 384x640 10 persons, 2 handbags, 63.4ms\n",
      "Speed: 1.2ms preprocess, 63.4ms inference, 0.3ms postprocess per image at shape (1, 3, 384, 640)\n",
      "\n",
      "image 1/1 /Users/gaspardsaliou/Documents/epita/ing3/visualObjectTracking/tp2-3/ADL-Rundle-6/img1/000331.jpg: 384x640 12 persons, 2 handbags, 64.2ms\n",
      "Speed: 1.2ms preprocess, 64.2ms inference, 0.3ms postprocess per image at shape (1, 3, 384, 640)\n"
     ]
    },
    {
     "name": "stderr",
     "output_type": "stream",
     "text": [
      "Detecting:  63%|██████▎   | 331/525 [00:29<00:16, 11.82it/s]"
     ]
    },
    {
     "name": "stdout",
     "output_type": "stream",
     "text": [
      "\n",
      "image 1/1 /Users/gaspardsaliou/Documents/epita/ing3/visualObjectTracking/tp2-3/ADL-Rundle-6/img1/000332.jpg: 384x640 11 persons, 2 handbags, 64.9ms\n",
      "Speed: 1.1ms preprocess, 64.9ms inference, 0.4ms postprocess per image at shape (1, 3, 384, 640)\n",
      "\n",
      "image 1/1 /Users/gaspardsaliou/Documents/epita/ing3/visualObjectTracking/tp2-3/ADL-Rundle-6/img1/000333.jpg: 384x640 11 persons, 1 handbag, 58.4ms\n",
      "Speed: 1.2ms preprocess, 58.4ms inference, 0.4ms postprocess per image at shape (1, 3, 384, 640)\n"
     ]
    },
    {
     "name": "stderr",
     "output_type": "stream",
     "text": [
      "Detecting:  63%|██████▎   | 333/525 [00:29<00:15, 12.40it/s]"
     ]
    },
    {
     "name": "stdout",
     "output_type": "stream",
     "text": [
      "\n",
      "image 1/1 /Users/gaspardsaliou/Documents/epita/ing3/visualObjectTracking/tp2-3/ADL-Rundle-6/img1/000334.jpg: 384x640 10 persons, 1 handbag, 1 kite, 71.6ms\n",
      "Speed: 1.9ms preprocess, 71.6ms inference, 0.4ms postprocess per image at shape (1, 3, 384, 640)\n",
      "\n",
      "image 1/1 /Users/gaspardsaliou/Documents/epita/ing3/visualObjectTracking/tp2-3/ADL-Rundle-6/img1/000335.jpg: 384x640 10 persons, 2 handbags, 70.7ms\n",
      "Speed: 1.4ms preprocess, 70.7ms inference, 0.3ms postprocess per image at shape (1, 3, 384, 640)\n"
     ]
    },
    {
     "name": "stderr",
     "output_type": "stream",
     "text": [
      "Detecting:  64%|██████▍   | 335/525 [00:29<00:15, 12.30it/s]"
     ]
    },
    {
     "name": "stdout",
     "output_type": "stream",
     "text": [
      "\n",
      "image 1/1 /Users/gaspardsaliou/Documents/epita/ing3/visualObjectTracking/tp2-3/ADL-Rundle-6/img1/000336.jpg: 384x640 10 persons, 2 handbags, 65.9ms\n",
      "Speed: 1.3ms preprocess, 65.9ms inference, 0.3ms postprocess per image at shape (1, 3, 384, 640)\n",
      "\n",
      "image 1/1 /Users/gaspardsaliou/Documents/epita/ing3/visualObjectTracking/tp2-3/ADL-Rundle-6/img1/000337.jpg: 384x640 10 persons, 2 handbags, 60.7ms\n",
      "Speed: 1.2ms preprocess, 60.7ms inference, 0.4ms postprocess per image at shape (1, 3, 384, 640)\n"
     ]
    },
    {
     "name": "stderr",
     "output_type": "stream",
     "text": [
      "Detecting:  64%|██████▍   | 337/525 [00:29<00:14, 12.65it/s]"
     ]
    },
    {
     "name": "stdout",
     "output_type": "stream",
     "text": [
      "\n",
      "image 1/1 /Users/gaspardsaliou/Documents/epita/ing3/visualObjectTracking/tp2-3/ADL-Rundle-6/img1/000338.jpg: 384x640 11 persons, 3 handbags, 78.7ms\n",
      "Speed: 1.2ms preprocess, 78.7ms inference, 0.4ms postprocess per image at shape (1, 3, 384, 640)\n",
      "\n",
      "image 1/1 /Users/gaspardsaliou/Documents/epita/ing3/visualObjectTracking/tp2-3/ADL-Rundle-6/img1/000339.jpg: 384x640 10 persons, 1 handbag, 67.0ms\n",
      "Speed: 4.9ms preprocess, 67.0ms inference, 0.9ms postprocess per image at shape (1, 3, 384, 640)\n"
     ]
    },
    {
     "name": "stderr",
     "output_type": "stream",
     "text": [
      "Detecting:  65%|██████▍   | 339/525 [00:30<00:15, 12.31it/s]"
     ]
    },
    {
     "name": "stdout",
     "output_type": "stream",
     "text": [
      "\n",
      "image 1/1 /Users/gaspardsaliou/Documents/epita/ing3/visualObjectTracking/tp2-3/ADL-Rundle-6/img1/000340.jpg: 384x640 12 persons, 1 handbag, 64.7ms\n",
      "Speed: 1.2ms preprocess, 64.7ms inference, 1.0ms postprocess per image at shape (1, 3, 384, 640)\n",
      "\n",
      "image 1/1 /Users/gaspardsaliou/Documents/epita/ing3/visualObjectTracking/tp2-3/ADL-Rundle-6/img1/000341.jpg: 384x640 11 persons, 2 handbags, 62.1ms\n",
      "Speed: 1.3ms preprocess, 62.1ms inference, 0.4ms postprocess per image at shape (1, 3, 384, 640)\n"
     ]
    },
    {
     "name": "stderr",
     "output_type": "stream",
     "text": [
      "Detecting:  65%|██████▍   | 341/525 [00:30<00:14, 12.61it/s]"
     ]
    },
    {
     "name": "stdout",
     "output_type": "stream",
     "text": [
      "\n",
      "image 1/1 /Users/gaspardsaliou/Documents/epita/ing3/visualObjectTracking/tp2-3/ADL-Rundle-6/img1/000342.jpg: 384x640 14 persons, 2 handbags, 66.1ms\n",
      "Speed: 1.9ms preprocess, 66.1ms inference, 0.4ms postprocess per image at shape (1, 3, 384, 640)\n",
      "\n",
      "image 1/1 /Users/gaspardsaliou/Documents/epita/ing3/visualObjectTracking/tp2-3/ADL-Rundle-6/img1/000343.jpg: 384x640 13 persons, 1 handbag, 64.4ms\n",
      "Speed: 1.2ms preprocess, 64.4ms inference, 0.3ms postprocess per image at shape (1, 3, 384, 640)\n"
     ]
    },
    {
     "name": "stderr",
     "output_type": "stream",
     "text": [
      "Detecting:  65%|██████▌   | 343/525 [00:30<00:14, 12.73it/s]"
     ]
    },
    {
     "name": "stdout",
     "output_type": "stream",
     "text": [
      "\n",
      "image 1/1 /Users/gaspardsaliou/Documents/epita/ing3/visualObjectTracking/tp2-3/ADL-Rundle-6/img1/000344.jpg: 384x640 11 persons, 1 handbag, 70.0ms\n",
      "Speed: 1.2ms preprocess, 70.0ms inference, 0.5ms postprocess per image at shape (1, 3, 384, 640)\n",
      "\n",
      "image 1/1 /Users/gaspardsaliou/Documents/epita/ing3/visualObjectTracking/tp2-3/ADL-Rundle-6/img1/000345.jpg: 384x640 10 persons, 1 handbag, 59.1ms\n",
      "Speed: 1.2ms preprocess, 59.1ms inference, 0.3ms postprocess per image at shape (1, 3, 384, 640)\n"
     ]
    },
    {
     "name": "stderr",
     "output_type": "stream",
     "text": [
      "Detecting:  66%|██████▌   | 345/525 [00:30<00:13, 12.87it/s]"
     ]
    },
    {
     "name": "stdout",
     "output_type": "stream",
     "text": [
      "\n",
      "image 1/1 /Users/gaspardsaliou/Documents/epita/ing3/visualObjectTracking/tp2-3/ADL-Rundle-6/img1/000346.jpg: 384x640 8 persons, 1 backpack, 1 handbag, 68.6ms\n",
      "Speed: 1.6ms preprocess, 68.6ms inference, 0.4ms postprocess per image at shape (1, 3, 384, 640)\n",
      "\n",
      "image 1/1 /Users/gaspardsaliou/Documents/epita/ing3/visualObjectTracking/tp2-3/ADL-Rundle-6/img1/000347.jpg: 384x640 10 persons, 1 backpack, 65.2ms\n",
      "Speed: 1.3ms preprocess, 65.2ms inference, 0.3ms postprocess per image at shape (1, 3, 384, 640)\n"
     ]
    },
    {
     "name": "stderr",
     "output_type": "stream",
     "text": [
      "Detecting:  66%|██████▌   | 347/525 [00:30<00:13, 12.92it/s]"
     ]
    },
    {
     "name": "stdout",
     "output_type": "stream",
     "text": [
      "\n",
      "image 1/1 /Users/gaspardsaliou/Documents/epita/ing3/visualObjectTracking/tp2-3/ADL-Rundle-6/img1/000348.jpg: 384x640 9 persons, 2 backpacks, 73.9ms\n",
      "Speed: 1.3ms preprocess, 73.9ms inference, 0.6ms postprocess per image at shape (1, 3, 384, 640)\n",
      "\n",
      "image 1/1 /Users/gaspardsaliou/Documents/epita/ing3/visualObjectTracking/tp2-3/ADL-Rundle-6/img1/000349.jpg: 384x640 11 persons, 2 backpacks, 1 handbag, 82.7ms\n",
      "Speed: 1.2ms preprocess, 82.7ms inference, 0.4ms postprocess per image at shape (1, 3, 384, 640)\n"
     ]
    },
    {
     "name": "stderr",
     "output_type": "stream",
     "text": [
      "Detecting:  66%|██████▋   | 349/525 [00:30<00:14, 12.39it/s]"
     ]
    },
    {
     "name": "stdout",
     "output_type": "stream",
     "text": [
      "\n",
      "image 1/1 /Users/gaspardsaliou/Documents/epita/ing3/visualObjectTracking/tp2-3/ADL-Rundle-6/img1/000350.jpg: 384x640 11 persons, 2 handbags, 64.9ms\n",
      "Speed: 1.3ms preprocess, 64.9ms inference, 0.4ms postprocess per image at shape (1, 3, 384, 640)\n",
      "\n",
      "image 1/1 /Users/gaspardsaliou/Documents/epita/ing3/visualObjectTracking/tp2-3/ADL-Rundle-6/img1/000351.jpg: 384x640 12 persons, 2 handbags, 61.9ms\n",
      "Speed: 1.2ms preprocess, 61.9ms inference, 0.4ms postprocess per image at shape (1, 3, 384, 640)\n"
     ]
    },
    {
     "name": "stderr",
     "output_type": "stream",
     "text": [
      "Detecting:  67%|██████▋   | 351/525 [00:30<00:13, 12.67it/s]"
     ]
    },
    {
     "name": "stdout",
     "output_type": "stream",
     "text": [
      "\n",
      "image 1/1 /Users/gaspardsaliou/Documents/epita/ing3/visualObjectTracking/tp2-3/ADL-Rundle-6/img1/000352.jpg: 384x640 11 persons, 1 handbag, 65.8ms\n",
      "Speed: 1.2ms preprocess, 65.8ms inference, 0.4ms postprocess per image at shape (1, 3, 384, 640)\n",
      "\n",
      "image 1/1 /Users/gaspardsaliou/Documents/epita/ing3/visualObjectTracking/tp2-3/ADL-Rundle-6/img1/000353.jpg: 384x640 11 persons, 1 backpack, 2 handbags, 62.1ms\n",
      "Speed: 1.3ms preprocess, 62.1ms inference, 0.4ms postprocess per image at shape (1, 3, 384, 640)\n"
     ]
    },
    {
     "name": "stderr",
     "output_type": "stream",
     "text": [
      "Detecting:  67%|██████▋   | 353/525 [00:31<00:13, 12.89it/s]"
     ]
    },
    {
     "name": "stdout",
     "output_type": "stream",
     "text": [
      "\n",
      "image 1/1 /Users/gaspardsaliou/Documents/epita/ing3/visualObjectTracking/tp2-3/ADL-Rundle-6/img1/000354.jpg: 384x640 11 persons, 2 handbags, 152.6ms\n",
      "Speed: 1.2ms preprocess, 152.6ms inference, 0.3ms postprocess per image at shape (1, 3, 384, 640)\n",
      "\n",
      "image 1/1 /Users/gaspardsaliou/Documents/epita/ing3/visualObjectTracking/tp2-3/ADL-Rundle-6/img1/000355.jpg: 384x640 13 persons, 3 handbags, 66.2ms\n",
      "Speed: 1.2ms preprocess, 66.2ms inference, 0.3ms postprocess per image at shape (1, 3, 384, 640)\n"
     ]
    },
    {
     "name": "stderr",
     "output_type": "stream",
     "text": [
      "Detecting:  68%|██████▊   | 355/525 [00:31<00:15, 11.06it/s]"
     ]
    },
    {
     "name": "stdout",
     "output_type": "stream",
     "text": [
      "\n",
      "image 1/1 /Users/gaspardsaliou/Documents/epita/ing3/visualObjectTracking/tp2-3/ADL-Rundle-6/img1/000356.jpg: 384x640 11 persons, 4 handbags, 70.3ms\n",
      "Speed: 1.6ms preprocess, 70.3ms inference, 0.4ms postprocess per image at shape (1, 3, 384, 640)\n",
      "\n",
      "image 1/1 /Users/gaspardsaliou/Documents/epita/ing3/visualObjectTracking/tp2-3/ADL-Rundle-6/img1/000357.jpg: 384x640 17 persons, 3 handbags, 66.9ms\n",
      "Speed: 1.2ms preprocess, 66.9ms inference, 0.4ms postprocess per image at shape (1, 3, 384, 640)\n"
     ]
    },
    {
     "name": "stderr",
     "output_type": "stream",
     "text": [
      "Detecting:  68%|██████▊   | 357/525 [00:31<00:14, 11.48it/s]"
     ]
    },
    {
     "name": "stdout",
     "output_type": "stream",
     "text": [
      "\n",
      "image 1/1 /Users/gaspardsaliou/Documents/epita/ing3/visualObjectTracking/tp2-3/ADL-Rundle-6/img1/000358.jpg: 384x640 14 persons, 3 handbags, 65.7ms\n",
      "Speed: 1.3ms preprocess, 65.7ms inference, 0.4ms postprocess per image at shape (1, 3, 384, 640)\n",
      "\n",
      "image 1/1 /Users/gaspardsaliou/Documents/epita/ing3/visualObjectTracking/tp2-3/ADL-Rundle-6/img1/000359.jpg: 384x640 13 persons, 1 backpack, 2 handbags, 1 skateboard, 60.8ms\n",
      "Speed: 1.3ms preprocess, 60.8ms inference, 0.4ms postprocess per image at shape (1, 3, 384, 640)\n"
     ]
    },
    {
     "name": "stderr",
     "output_type": "stream",
     "text": [
      "Detecting:  68%|██████▊   | 359/525 [00:31<00:13, 12.01it/s]"
     ]
    },
    {
     "name": "stdout",
     "output_type": "stream",
     "text": [
      "\n",
      "image 1/1 /Users/gaspardsaliou/Documents/epita/ing3/visualObjectTracking/tp2-3/ADL-Rundle-6/img1/000360.jpg: 384x640 15 persons, 1 handbag, 64.2ms\n",
      "Speed: 1.2ms preprocess, 64.2ms inference, 0.9ms postprocess per image at shape (1, 3, 384, 640)\n",
      "\n",
      "image 1/1 /Users/gaspardsaliou/Documents/epita/ing3/visualObjectTracking/tp2-3/ADL-Rundle-6/img1/000361.jpg: 384x640 14 persons, 2 handbags, 60.4ms\n",
      "Speed: 1.2ms preprocess, 60.4ms inference, 0.5ms postprocess per image at shape (1, 3, 384, 640)\n"
     ]
    },
    {
     "name": "stderr",
     "output_type": "stream",
     "text": [
      "Detecting:  69%|██████▉   | 361/525 [00:31<00:13, 12.47it/s]"
     ]
    },
    {
     "name": "stdout",
     "output_type": "stream",
     "text": [
      "\n",
      "image 1/1 /Users/gaspardsaliou/Documents/epita/ing3/visualObjectTracking/tp2-3/ADL-Rundle-6/img1/000362.jpg: 384x640 13 persons, 1 backpack, 2 handbags, 65.9ms\n",
      "Speed: 1.8ms preprocess, 65.9ms inference, 0.3ms postprocess per image at shape (1, 3, 384, 640)\n",
      "\n",
      "image 1/1 /Users/gaspardsaliou/Documents/epita/ing3/visualObjectTracking/tp2-3/ADL-Rundle-6/img1/000363.jpg: 384x640 10 persons, 2 handbags, 65.4ms\n",
      "Speed: 1.3ms preprocess, 65.4ms inference, 0.3ms postprocess per image at shape (1, 3, 384, 640)\n"
     ]
    },
    {
     "name": "stderr",
     "output_type": "stream",
     "text": [
      "Detecting:  69%|██████▉   | 363/525 [00:31<00:12, 12.65it/s]"
     ]
    },
    {
     "name": "stdout",
     "output_type": "stream",
     "text": [
      "\n",
      "image 1/1 /Users/gaspardsaliou/Documents/epita/ing3/visualObjectTracking/tp2-3/ADL-Rundle-6/img1/000364.jpg: 384x640 12 persons, 3 handbags, 67.5ms\n",
      "Speed: 1.2ms preprocess, 67.5ms inference, 0.4ms postprocess per image at shape (1, 3, 384, 640)\n",
      "\n",
      "image 1/1 /Users/gaspardsaliou/Documents/epita/ing3/visualObjectTracking/tp2-3/ADL-Rundle-6/img1/000365.jpg: 384x640 12 persons, 1 backpack, 3 handbags, 65.4ms\n",
      "Speed: 1.2ms preprocess, 65.4ms inference, 0.4ms postprocess per image at shape (1, 3, 384, 640)\n"
     ]
    },
    {
     "name": "stderr",
     "output_type": "stream",
     "text": [
      "Detecting:  70%|██████▉   | 365/525 [00:32<00:12, 12.72it/s]"
     ]
    },
    {
     "name": "stdout",
     "output_type": "stream",
     "text": [
      "\n",
      "image 1/1 /Users/gaspardsaliou/Documents/epita/ing3/visualObjectTracking/tp2-3/ADL-Rundle-6/img1/000366.jpg: 384x640 11 persons, 3 handbags, 67.2ms\n",
      "Speed: 1.8ms preprocess, 67.2ms inference, 0.4ms postprocess per image at shape (1, 3, 384, 640)\n",
      "\n",
      "image 1/1 /Users/gaspardsaliou/Documents/epita/ing3/visualObjectTracking/tp2-3/ADL-Rundle-6/img1/000367.jpg: 384x640 9 persons, 3 handbags, 59.4ms\n",
      "Speed: 1.2ms preprocess, 59.4ms inference, 0.4ms postprocess per image at shape (1, 3, 384, 640)\n"
     ]
    },
    {
     "name": "stderr",
     "output_type": "stream",
     "text": [
      "Detecting:  70%|██████▉   | 367/525 [00:32<00:12, 12.88it/s]"
     ]
    },
    {
     "name": "stdout",
     "output_type": "stream",
     "text": [
      "\n",
      "image 1/1 /Users/gaspardsaliou/Documents/epita/ing3/visualObjectTracking/tp2-3/ADL-Rundle-6/img1/000368.jpg: 384x640 13 persons, 2 handbags, 84.4ms\n",
      "Speed: 1.3ms preprocess, 84.4ms inference, 0.4ms postprocess per image at shape (1, 3, 384, 640)\n",
      "\n",
      "image 1/1 /Users/gaspardsaliou/Documents/epita/ing3/visualObjectTracking/tp2-3/ADL-Rundle-6/img1/000369.jpg: 384x640 12 persons, 2 handbags, 62.3ms\n",
      "Speed: 1.5ms preprocess, 62.3ms inference, 0.3ms postprocess per image at shape (1, 3, 384, 640)\n"
     ]
    },
    {
     "name": "stderr",
     "output_type": "stream",
     "text": [
      "Detecting:  70%|███████   | 369/525 [00:32<00:12, 12.53it/s]"
     ]
    },
    {
     "name": "stdout",
     "output_type": "stream",
     "text": [
      "\n",
      "image 1/1 /Users/gaspardsaliou/Documents/epita/ing3/visualObjectTracking/tp2-3/ADL-Rundle-6/img1/000370.jpg: 384x640 12 persons, 3 handbags, 63.9ms\n",
      "Speed: 1.2ms preprocess, 63.9ms inference, 0.3ms postprocess per image at shape (1, 3, 384, 640)\n",
      "\n",
      "image 1/1 /Users/gaspardsaliou/Documents/epita/ing3/visualObjectTracking/tp2-3/ADL-Rundle-6/img1/000371.jpg: 384x640 13 persons, 2 handbags, 1 tv, 62.3ms\n",
      "Speed: 1.2ms preprocess, 62.3ms inference, 0.3ms postprocess per image at shape (1, 3, 384, 640)\n"
     ]
    },
    {
     "name": "stderr",
     "output_type": "stream",
     "text": [
      "Detecting:  71%|███████   | 371/525 [00:32<00:12, 12.81it/s]"
     ]
    },
    {
     "name": "stdout",
     "output_type": "stream",
     "text": [
      "\n",
      "image 1/1 /Users/gaspardsaliou/Documents/epita/ing3/visualObjectTracking/tp2-3/ADL-Rundle-6/img1/000372.jpg: 384x640 13 persons, 3 handbags, 1 tv, 67.3ms\n",
      "Speed: 1.3ms preprocess, 67.3ms inference, 0.4ms postprocess per image at shape (1, 3, 384, 640)\n",
      "\n",
      "image 1/1 /Users/gaspardsaliou/Documents/epita/ing3/visualObjectTracking/tp2-3/ADL-Rundle-6/img1/000373.jpg: 384x640 11 persons, 4 handbags, 1 chair, 1 tv, 64.3ms\n",
      "Speed: 1.4ms preprocess, 64.3ms inference, 0.4ms postprocess per image at shape (1, 3, 384, 640)\n"
     ]
    },
    {
     "name": "stderr",
     "output_type": "stream",
     "text": [
      "Detecting:  71%|███████   | 373/525 [00:32<00:11, 12.83it/s]"
     ]
    },
    {
     "name": "stdout",
     "output_type": "stream",
     "text": [
      "\n",
      "image 1/1 /Users/gaspardsaliou/Documents/epita/ing3/visualObjectTracking/tp2-3/ADL-Rundle-6/img1/000374.jpg: 384x640 11 persons, 2 handbags, 1 tv, 89.6ms\n",
      "Speed: 1.6ms preprocess, 89.6ms inference, 0.4ms postprocess per image at shape (1, 3, 384, 640)\n",
      "\n",
      "image 1/1 /Users/gaspardsaliou/Documents/epita/ing3/visualObjectTracking/tp2-3/ADL-Rundle-6/img1/000375.jpg: 384x640 12 persons, 1 handbag, 64.0ms\n",
      "Speed: 1.4ms preprocess, 64.0ms inference, 0.7ms postprocess per image at shape (1, 3, 384, 640)\n"
     ]
    },
    {
     "name": "stderr",
     "output_type": "stream",
     "text": [
      "Detecting:  71%|███████▏  | 375/525 [00:32<00:12, 12.32it/s]"
     ]
    },
    {
     "name": "stdout",
     "output_type": "stream",
     "text": [
      "\n",
      "image 1/1 /Users/gaspardsaliou/Documents/epita/ing3/visualObjectTracking/tp2-3/ADL-Rundle-6/img1/000376.jpg: 384x640 12 persons, 1 backpack, 1 handbag, 1 tv, 67.3ms\n",
      "Speed: 1.2ms preprocess, 67.3ms inference, 0.4ms postprocess per image at shape (1, 3, 384, 640)\n",
      "\n",
      "image 1/1 /Users/gaspardsaliou/Documents/epita/ing3/visualObjectTracking/tp2-3/ADL-Rundle-6/img1/000377.jpg: 384x640 14 persons, 3 handbags, 1 chair, 1 tv, 60.7ms\n",
      "Speed: 1.4ms preprocess, 60.7ms inference, 0.4ms postprocess per image at shape (1, 3, 384, 640)\n"
     ]
    },
    {
     "name": "stderr",
     "output_type": "stream",
     "text": [
      "Detecting:  72%|███████▏  | 377/525 [00:33<00:11, 12.62it/s]"
     ]
    },
    {
     "name": "stdout",
     "output_type": "stream",
     "text": [
      "\n",
      "image 1/1 /Users/gaspardsaliou/Documents/epita/ing3/visualObjectTracking/tp2-3/ADL-Rundle-6/img1/000378.jpg: 384x640 12 persons, 3 handbags, 1 chair, 1 tv, 81.2ms\n",
      "Speed: 1.4ms preprocess, 81.2ms inference, 0.4ms postprocess per image at shape (1, 3, 384, 640)\n",
      "\n",
      "image 1/1 /Users/gaspardsaliou/Documents/epita/ing3/visualObjectTracking/tp2-3/ADL-Rundle-6/img1/000379.jpg: 384x640 13 persons, 2 handbags, 2 chairs, 1 tv, 61.5ms\n",
      "Speed: 1.2ms preprocess, 61.5ms inference, 0.5ms postprocess per image at shape (1, 3, 384, 640)\n"
     ]
    },
    {
     "name": "stderr",
     "output_type": "stream",
     "text": [
      "Detecting:  72%|███████▏  | 379/525 [00:33<00:11, 12.46it/s]"
     ]
    },
    {
     "name": "stdout",
     "output_type": "stream",
     "text": [
      "\n",
      "image 1/1 /Users/gaspardsaliou/Documents/epita/ing3/visualObjectTracking/tp2-3/ADL-Rundle-6/img1/000380.jpg: 384x640 13 persons, 3 handbags, 2 chairs, 1 tv, 64.4ms\n",
      "Speed: 1.2ms preprocess, 64.4ms inference, 0.7ms postprocess per image at shape (1, 3, 384, 640)\n",
      "\n",
      "image 1/1 /Users/gaspardsaliou/Documents/epita/ing3/visualObjectTracking/tp2-3/ADL-Rundle-6/img1/000381.jpg: 384x640 13 persons, 4 handbags, 1 tv, 62.9ms\n",
      "Speed: 1.3ms preprocess, 62.9ms inference, 0.5ms postprocess per image at shape (1, 3, 384, 640)\n"
     ]
    },
    {
     "name": "stderr",
     "output_type": "stream",
     "text": [
      "Detecting:  73%|███████▎  | 381/525 [00:33<00:11, 12.72it/s]"
     ]
    },
    {
     "name": "stdout",
     "output_type": "stream",
     "text": [
      "\n",
      "image 1/1 /Users/gaspardsaliou/Documents/epita/ing3/visualObjectTracking/tp2-3/ADL-Rundle-6/img1/000382.jpg: 384x640 12 persons, 5 handbags, 1 tv, 150.3ms\n",
      "Speed: 1.3ms preprocess, 150.3ms inference, 0.4ms postprocess per image at shape (1, 3, 384, 640)\n",
      "\n",
      "image 1/1 /Users/gaspardsaliou/Documents/epita/ing3/visualObjectTracking/tp2-3/ADL-Rundle-6/img1/000383.jpg: 384x640 11 persons, 4 handbags, 1 tv, 61.3ms\n",
      "Speed: 1.2ms preprocess, 61.3ms inference, 0.4ms postprocess per image at shape (1, 3, 384, 640)\n"
     ]
    },
    {
     "name": "stderr",
     "output_type": "stream",
     "text": [
      "Detecting:  73%|███████▎  | 383/525 [00:33<00:12, 11.10it/s]"
     ]
    },
    {
     "name": "stdout",
     "output_type": "stream",
     "text": [
      "\n",
      "image 1/1 /Users/gaspardsaliou/Documents/epita/ing3/visualObjectTracking/tp2-3/ADL-Rundle-6/img1/000384.jpg: 384x640 10 persons, 3 handbags, 1 tv, 65.3ms\n",
      "Speed: 1.3ms preprocess, 65.3ms inference, 0.4ms postprocess per image at shape (1, 3, 384, 640)\n",
      "\n",
      "image 1/1 /Users/gaspardsaliou/Documents/epita/ing3/visualObjectTracking/tp2-3/ADL-Rundle-6/img1/000385.jpg: 384x640 15 persons, 3 handbags, 1 chair, 2 tvs, 63.5ms\n",
      "Speed: 1.3ms preprocess, 63.5ms inference, 0.4ms postprocess per image at shape (1, 3, 384, 640)\n"
     ]
    },
    {
     "name": "stderr",
     "output_type": "stream",
     "text": [
      "Detecting:  73%|███████▎  | 385/525 [00:33<00:12, 11.64it/s]"
     ]
    },
    {
     "name": "stdout",
     "output_type": "stream",
     "text": [
      "\n",
      "image 1/1 /Users/gaspardsaliou/Documents/epita/ing3/visualObjectTracking/tp2-3/ADL-Rundle-6/img1/000386.jpg: 384x640 12 persons, 4 handbags, 1 tv, 68.2ms\n",
      "Speed: 1.2ms preprocess, 68.2ms inference, 0.3ms postprocess per image at shape (1, 3, 384, 640)\n",
      "\n",
      "image 1/1 /Users/gaspardsaliou/Documents/epita/ing3/visualObjectTracking/tp2-3/ADL-Rundle-6/img1/000387.jpg: 384x640 14 persons, 1 umbrella, 3 handbags, 1 tv, 61.3ms\n",
      "Speed: 1.3ms preprocess, 61.3ms inference, 0.4ms postprocess per image at shape (1, 3, 384, 640)\n"
     ]
    },
    {
     "name": "stderr",
     "output_type": "stream",
     "text": [
      "Detecting:  74%|███████▎  | 387/525 [00:33<00:11, 12.08it/s]"
     ]
    },
    {
     "name": "stdout",
     "output_type": "stream",
     "text": [
      "\n",
      "image 1/1 /Users/gaspardsaliou/Documents/epita/ing3/visualObjectTracking/tp2-3/ADL-Rundle-6/img1/000388.jpg: 384x640 13 persons, 1 umbrella, 3 handbags, 68.5ms\n",
      "Speed: 1.2ms preprocess, 68.5ms inference, 0.5ms postprocess per image at shape (1, 3, 384, 640)\n",
      "\n",
      "image 1/1 /Users/gaspardsaliou/Documents/epita/ing3/visualObjectTracking/tp2-3/ADL-Rundle-6/img1/000389.jpg: 384x640 13 persons, 2 handbags, 1 tv, 64.8ms\n",
      "Speed: 1.2ms preprocess, 64.8ms inference, 0.5ms postprocess per image at shape (1, 3, 384, 640)\n"
     ]
    },
    {
     "name": "stderr",
     "output_type": "stream",
     "text": [
      "Detecting:  74%|███████▍  | 389/525 [00:34<00:11, 12.30it/s]"
     ]
    },
    {
     "name": "stdout",
     "output_type": "stream",
     "text": [
      "\n",
      "image 1/1 /Users/gaspardsaliou/Documents/epita/ing3/visualObjectTracking/tp2-3/ADL-Rundle-6/img1/000390.jpg: 384x640 11 persons, 2 handbags, 1 tv, 69.2ms\n",
      "Speed: 1.2ms preprocess, 69.2ms inference, 0.4ms postprocess per image at shape (1, 3, 384, 640)\n",
      "\n",
      "image 1/1 /Users/gaspardsaliou/Documents/epita/ing3/visualObjectTracking/tp2-3/ADL-Rundle-6/img1/000391.jpg: 384x640 11 persons, 3 handbags, 1 cup, 1 tv, 60.3ms\n",
      "Speed: 1.3ms preprocess, 60.3ms inference, 0.9ms postprocess per image at shape (1, 3, 384, 640)\n"
     ]
    },
    {
     "name": "stderr",
     "output_type": "stream",
     "text": [
      "Detecting:  74%|███████▍  | 391/525 [00:34<00:10, 12.55it/s]"
     ]
    },
    {
     "name": "stdout",
     "output_type": "stream",
     "text": [
      "\n",
      "image 1/1 /Users/gaspardsaliou/Documents/epita/ing3/visualObjectTracking/tp2-3/ADL-Rundle-6/img1/000392.jpg: 384x640 11 persons, 4 handbags, 1 tv, 68.5ms\n",
      "Speed: 1.3ms preprocess, 68.5ms inference, 0.4ms postprocess per image at shape (1, 3, 384, 640)\n",
      "\n",
      "image 1/1 /Users/gaspardsaliou/Documents/epita/ing3/visualObjectTracking/tp2-3/ADL-Rundle-6/img1/000393.jpg: 384x640 11 persons, 3 handbags, 1 tv, 71.3ms\n",
      "Speed: 1.5ms preprocess, 71.3ms inference, 0.4ms postprocess per image at shape (1, 3, 384, 640)\n"
     ]
    },
    {
     "name": "stderr",
     "output_type": "stream",
     "text": [
      "Detecting:  75%|███████▍  | 393/525 [00:34<00:10, 12.50it/s]"
     ]
    },
    {
     "name": "stdout",
     "output_type": "stream",
     "text": [
      "\n",
      "image 1/1 /Users/gaspardsaliou/Documents/epita/ing3/visualObjectTracking/tp2-3/ADL-Rundle-6/img1/000394.jpg: 384x640 11 persons, 3 handbags, 1 tv, 89.5ms\n",
      "Speed: 2.3ms preprocess, 89.5ms inference, 0.6ms postprocess per image at shape (1, 3, 384, 640)\n",
      "\n",
      "image 1/1 /Users/gaspardsaliou/Documents/epita/ing3/visualObjectTracking/tp2-3/ADL-Rundle-6/img1/000395.jpg: 384x640 11 persons, 3 handbags, 1 tv, 62.7ms\n",
      "Speed: 1.3ms preprocess, 62.7ms inference, 1.2ms postprocess per image at shape (1, 3, 384, 640)\n"
     ]
    },
    {
     "name": "stderr",
     "output_type": "stream",
     "text": [
      "Detecting:  75%|███████▌  | 395/525 [00:34<00:10, 12.11it/s]"
     ]
    },
    {
     "name": "stdout",
     "output_type": "stream",
     "text": [
      "\n",
      "image 1/1 /Users/gaspardsaliou/Documents/epita/ing3/visualObjectTracking/tp2-3/ADL-Rundle-6/img1/000396.jpg: 384x640 12 persons, 5 handbags, 1 tv, 70.4ms\n",
      "Speed: 1.3ms preprocess, 70.4ms inference, 0.4ms postprocess per image at shape (1, 3, 384, 640)\n",
      "\n",
      "image 1/1 /Users/gaspardsaliou/Documents/epita/ing3/visualObjectTracking/tp2-3/ADL-Rundle-6/img1/000397.jpg: 384x640 11 persons, 3 handbags, 1 tv, 69.4ms\n",
      "Speed: 2.3ms preprocess, 69.4ms inference, 0.3ms postprocess per image at shape (1, 3, 384, 640)\n"
     ]
    },
    {
     "name": "stderr",
     "output_type": "stream",
     "text": [
      "Detecting:  76%|███████▌  | 397/525 [00:34<00:10, 12.14it/s]"
     ]
    },
    {
     "name": "stdout",
     "output_type": "stream",
     "text": [
      "\n",
      "image 1/1 /Users/gaspardsaliou/Documents/epita/ing3/visualObjectTracking/tp2-3/ADL-Rundle-6/img1/000398.jpg: 384x640 12 persons, 3 handbags, 1 tv, 71.7ms\n",
      "Speed: 1.3ms preprocess, 71.7ms inference, 0.5ms postprocess per image at shape (1, 3, 384, 640)\n",
      "\n",
      "image 1/1 /Users/gaspardsaliou/Documents/epita/ing3/visualObjectTracking/tp2-3/ADL-Rundle-6/img1/000399.jpg: 384x640 10 persons, 3 handbags, 1 tv, 85.2ms\n",
      "Speed: 1.5ms preprocess, 85.2ms inference, 0.4ms postprocess per image at shape (1, 3, 384, 640)\n"
     ]
    },
    {
     "name": "stderr",
     "output_type": "stream",
     "text": [
      "Detecting:  76%|███████▌  | 399/525 [00:34<00:10, 11.79it/s]"
     ]
    },
    {
     "name": "stdout",
     "output_type": "stream",
     "text": [
      "\n",
      "image 1/1 /Users/gaspardsaliou/Documents/epita/ing3/visualObjectTracking/tp2-3/ADL-Rundle-6/img1/000400.jpg: 384x640 11 persons, 2 handbags, 1 tv, 84.7ms\n",
      "Speed: 1.3ms preprocess, 84.7ms inference, 1.9ms postprocess per image at shape (1, 3, 384, 640)\n",
      "\n",
      "image 1/1 /Users/gaspardsaliou/Documents/epita/ing3/visualObjectTracking/tp2-3/ADL-Rundle-6/img1/000401.jpg: 384x640 9 persons, 3 handbags, 1 tv, 82.5ms\n",
      "Speed: 1.7ms preprocess, 82.5ms inference, 0.4ms postprocess per image at shape (1, 3, 384, 640)\n"
     ]
    },
    {
     "name": "stderr",
     "output_type": "stream",
     "text": [
      "Detecting:  76%|███████▋  | 401/525 [00:35<00:10, 11.34it/s]"
     ]
    },
    {
     "name": "stdout",
     "output_type": "stream",
     "text": [
      "\n",
      "image 1/1 /Users/gaspardsaliou/Documents/epita/ing3/visualObjectTracking/tp2-3/ADL-Rundle-6/img1/000402.jpg: 384x640 12 persons, 3 handbags, 1 tv, 81.3ms\n",
      "Speed: 1.2ms preprocess, 81.3ms inference, 0.4ms postprocess per image at shape (1, 3, 384, 640)\n",
      "\n",
      "image 1/1 /Users/gaspardsaliou/Documents/epita/ing3/visualObjectTracking/tp2-3/ADL-Rundle-6/img1/000403.jpg: 384x640 12 persons, 2 handbags, 1 tv, 77.8ms\n",
      "Speed: 1.4ms preprocess, 77.8ms inference, 1.0ms postprocess per image at shape (1, 3, 384, 640)\n"
     ]
    },
    {
     "name": "stderr",
     "output_type": "stream",
     "text": [
      "Detecting:  77%|███████▋  | 403/525 [00:35<00:10, 11.22it/s]"
     ]
    },
    {
     "name": "stdout",
     "output_type": "stream",
     "text": [
      "\n",
      "image 1/1 /Users/gaspardsaliou/Documents/epita/ing3/visualObjectTracking/tp2-3/ADL-Rundle-6/img1/000404.jpg: 384x640 13 persons, 3 handbags, 1 tv, 80.0ms\n",
      "Speed: 1.3ms preprocess, 80.0ms inference, 0.5ms postprocess per image at shape (1, 3, 384, 640)\n",
      "\n",
      "image 1/1 /Users/gaspardsaliou/Documents/epita/ing3/visualObjectTracking/tp2-3/ADL-Rundle-6/img1/000405.jpg: 384x640 12 persons, 1 handbag, 1 tv, 80.2ms\n",
      "Speed: 1.2ms preprocess, 80.2ms inference, 1.2ms postprocess per image at shape (1, 3, 384, 640)\n"
     ]
    },
    {
     "name": "stderr",
     "output_type": "stream",
     "text": [
      "Detecting:  77%|███████▋  | 405/525 [00:35<00:10, 11.11it/s]"
     ]
    },
    {
     "name": "stdout",
     "output_type": "stream",
     "text": [
      "\n",
      "image 1/1 /Users/gaspardsaliou/Documents/epita/ing3/visualObjectTracking/tp2-3/ADL-Rundle-6/img1/000406.jpg: 384x640 11 persons, 1 handbag, 1 tv, 70.6ms\n",
      "Speed: 1.3ms preprocess, 70.6ms inference, 0.4ms postprocess per image at shape (1, 3, 384, 640)\n",
      "\n",
      "image 1/1 /Users/gaspardsaliou/Documents/epita/ing3/visualObjectTracking/tp2-3/ADL-Rundle-6/img1/000407.jpg: 384x640 11 persons, 2 handbags, 1 tv, 68.5ms\n",
      "Speed: 1.2ms preprocess, 68.5ms inference, 0.4ms postprocess per image at shape (1, 3, 384, 640)\n"
     ]
    },
    {
     "name": "stderr",
     "output_type": "stream",
     "text": [
      "Detecting:  78%|███████▊  | 407/525 [00:35<00:10, 11.47it/s]"
     ]
    },
    {
     "name": "stdout",
     "output_type": "stream",
     "text": [
      "\n",
      "image 1/1 /Users/gaspardsaliou/Documents/epita/ing3/visualObjectTracking/tp2-3/ADL-Rundle-6/img1/000408.jpg: 384x640 11 persons, 3 handbags, 1 tv, 77.1ms\n",
      "Speed: 1.5ms preprocess, 77.1ms inference, 0.4ms postprocess per image at shape (1, 3, 384, 640)\n",
      "\n",
      "image 1/1 /Users/gaspardsaliou/Documents/epita/ing3/visualObjectTracking/tp2-3/ADL-Rundle-6/img1/000409.jpg: 384x640 12 persons, 1 handbag, 1 tv, 97.5ms\n",
      "Speed: 1.3ms preprocess, 97.5ms inference, 0.8ms postprocess per image at shape (1, 3, 384, 640)\n"
     ]
    },
    {
     "name": "stderr",
     "output_type": "stream",
     "text": [
      "Detecting:  78%|███████▊  | 409/525 [00:35<00:10, 11.01it/s]"
     ]
    },
    {
     "name": "stdout",
     "output_type": "stream",
     "text": [
      "\n",
      "image 1/1 /Users/gaspardsaliou/Documents/epita/ing3/visualObjectTracking/tp2-3/ADL-Rundle-6/img1/000410.jpg: 384x640 9 persons, 1 handbag, 1 tv, 183.2ms\n",
      "Speed: 1.8ms preprocess, 183.2ms inference, 0.5ms postprocess per image at shape (1, 3, 384, 640)\n",
      "\n",
      "image 1/1 /Users/gaspardsaliou/Documents/epita/ing3/visualObjectTracking/tp2-3/ADL-Rundle-6/img1/000411.jpg: 384x640 12 persons, 1 tv, 71.5ms\n",
      "Speed: 6.2ms preprocess, 71.5ms inference, 0.4ms postprocess per image at shape (1, 3, 384, 640)\n"
     ]
    },
    {
     "name": "stderr",
     "output_type": "stream",
     "text": [
      "Detecting:  78%|███████▊  | 411/525 [00:36<00:12,  9.41it/s]"
     ]
    },
    {
     "name": "stdout",
     "output_type": "stream",
     "text": [
      "\n",
      "image 1/1 /Users/gaspardsaliou/Documents/epita/ing3/visualObjectTracking/tp2-3/ADL-Rundle-6/img1/000412.jpg: 384x640 10 persons, 1 handbag, 1 tv, 79.7ms\n",
      "Speed: 1.5ms preprocess, 79.7ms inference, 0.4ms postprocess per image at shape (1, 3, 384, 640)\n",
      "\n",
      "image 1/1 /Users/gaspardsaliou/Documents/epita/ing3/visualObjectTracking/tp2-3/ADL-Rundle-6/img1/000413.jpg: 384x640 10 persons, 1 handbag, 1 tv, 66.7ms\n",
      "Speed: 1.2ms preprocess, 66.7ms inference, 0.5ms postprocess per image at shape (1, 3, 384, 640)\n"
     ]
    },
    {
     "name": "stderr",
     "output_type": "stream",
     "text": [
      "Detecting:  79%|███████▊  | 413/525 [00:36<00:11, 10.03it/s]"
     ]
    },
    {
     "name": "stdout",
     "output_type": "stream",
     "text": [
      "\n",
      "image 1/1 /Users/gaspardsaliou/Documents/epita/ing3/visualObjectTracking/tp2-3/ADL-Rundle-6/img1/000414.jpg: 384x640 10 persons, 1 handbag, 1 tv, 69.3ms\n",
      "Speed: 1.7ms preprocess, 69.3ms inference, 0.7ms postprocess per image at shape (1, 3, 384, 640)\n",
      "\n",
      "image 1/1 /Users/gaspardsaliou/Documents/epita/ing3/visualObjectTracking/tp2-3/ADL-Rundle-6/img1/000415.jpg: 384x640 12 persons, 1 handbag, 1 tv, 60.1ms\n",
      "Speed: 1.6ms preprocess, 60.1ms inference, 0.4ms postprocess per image at shape (1, 3, 384, 640)\n"
     ]
    },
    {
     "name": "stderr",
     "output_type": "stream",
     "text": [
      "Detecting:  79%|███████▉  | 415/525 [00:36<00:10, 10.78it/s]"
     ]
    },
    {
     "name": "stdout",
     "output_type": "stream",
     "text": [
      "\n",
      "image 1/1 /Users/gaspardsaliou/Documents/epita/ing3/visualObjectTracking/tp2-3/ADL-Rundle-6/img1/000416.jpg: 384x640 10 persons, 1 handbag, 1 tv, 68.9ms\n",
      "Speed: 1.2ms preprocess, 68.9ms inference, 0.3ms postprocess per image at shape (1, 3, 384, 640)\n",
      "\n",
      "image 1/1 /Users/gaspardsaliou/Documents/epita/ing3/visualObjectTracking/tp2-3/ADL-Rundle-6/img1/000417.jpg: 384x640 9 persons, 1 handbag, 1 tv, 71.5ms\n",
      "Speed: 1.4ms preprocess, 71.5ms inference, 0.5ms postprocess per image at shape (1, 3, 384, 640)\n"
     ]
    },
    {
     "name": "stderr",
     "output_type": "stream",
     "text": [
      "Detecting:  79%|███████▉  | 417/525 [00:36<00:09, 11.15it/s]"
     ]
    },
    {
     "name": "stdout",
     "output_type": "stream",
     "text": [
      "\n",
      "image 1/1 /Users/gaspardsaliou/Documents/epita/ing3/visualObjectTracking/tp2-3/ADL-Rundle-6/img1/000418.jpg: 384x640 9 persons, 2 handbags, 1 tv, 62.5ms\n",
      "Speed: 1.5ms preprocess, 62.5ms inference, 0.5ms postprocess per image at shape (1, 3, 384, 640)\n",
      "\n",
      "image 1/1 /Users/gaspardsaliou/Documents/epita/ing3/visualObjectTracking/tp2-3/ADL-Rundle-6/img1/000419.jpg: 384x640 8 persons, 2 handbags, 1 tv, 83.9ms\n",
      "Speed: 3.6ms preprocess, 83.9ms inference, 0.4ms postprocess per image at shape (1, 3, 384, 640)\n"
     ]
    },
    {
     "name": "stderr",
     "output_type": "stream",
     "text": [
      "Detecting:  80%|███████▉  | 419/525 [00:36<00:09, 11.32it/s]"
     ]
    },
    {
     "name": "stdout",
     "output_type": "stream",
     "text": [
      "\n",
      "image 1/1 /Users/gaspardsaliou/Documents/epita/ing3/visualObjectTracking/tp2-3/ADL-Rundle-6/img1/000420.jpg: 384x640 10 persons, 2 handbags, 1 tv, 66.9ms\n",
      "Speed: 1.6ms preprocess, 66.9ms inference, 0.5ms postprocess per image at shape (1, 3, 384, 640)\n",
      "\n",
      "image 1/1 /Users/gaspardsaliou/Documents/epita/ing3/visualObjectTracking/tp2-3/ADL-Rundle-6/img1/000421.jpg: 384x640 10 persons, 2 handbags, 1 tv, 62.4ms\n",
      "Speed: 1.5ms preprocess, 62.4ms inference, 0.4ms postprocess per image at shape (1, 3, 384, 640)\n"
     ]
    },
    {
     "name": "stderr",
     "output_type": "stream",
     "text": [
      "Detecting:  80%|████████  | 421/525 [00:36<00:08, 11.79it/s]"
     ]
    },
    {
     "name": "stdout",
     "output_type": "stream",
     "text": [
      "\n",
      "image 1/1 /Users/gaspardsaliou/Documents/epita/ing3/visualObjectTracking/tp2-3/ADL-Rundle-6/img1/000422.jpg: 384x640 11 persons, 2 handbags, 1 tv, 74.9ms\n",
      "Speed: 1.4ms preprocess, 74.9ms inference, 0.4ms postprocess per image at shape (1, 3, 384, 640)\n",
      "\n",
      "image 1/1 /Users/gaspardsaliou/Documents/epita/ing3/visualObjectTracking/tp2-3/ADL-Rundle-6/img1/000423.jpg: 384x640 9 persons, 2 handbags, 1 tv, 81.9ms\n",
      "Speed: 1.4ms preprocess, 81.9ms inference, 0.4ms postprocess per image at shape (1, 3, 384, 640)\n"
     ]
    },
    {
     "name": "stderr",
     "output_type": "stream",
     "text": [
      "Detecting:  81%|████████  | 423/525 [00:37<00:08, 11.63it/s]"
     ]
    },
    {
     "name": "stdout",
     "output_type": "stream",
     "text": [
      "\n",
      "image 1/1 /Users/gaspardsaliou/Documents/epita/ing3/visualObjectTracking/tp2-3/ADL-Rundle-6/img1/000424.jpg: 384x640 10 persons, 1 umbrella, 1 handbag, 1 tv, 84.0ms\n",
      "Speed: 1.2ms preprocess, 84.0ms inference, 0.4ms postprocess per image at shape (1, 3, 384, 640)\n",
      "\n",
      "image 1/1 /Users/gaspardsaliou/Documents/epita/ing3/visualObjectTracking/tp2-3/ADL-Rundle-6/img1/000425.jpg: 384x640 11 persons, 1 umbrella, 1 handbag, 1 tv, 68.8ms\n",
      "Speed: 1.6ms preprocess, 68.8ms inference, 0.5ms postprocess per image at shape (1, 3, 384, 640)\n"
     ]
    },
    {
     "name": "stderr",
     "output_type": "stream",
     "text": [
      "Detecting:  81%|████████  | 425/525 [00:37<00:08, 11.56it/s]"
     ]
    },
    {
     "name": "stdout",
     "output_type": "stream",
     "text": [
      "\n",
      "image 1/1 /Users/gaspardsaliou/Documents/epita/ing3/visualObjectTracking/tp2-3/ADL-Rundle-6/img1/000426.jpg: 384x640 10 persons, 1 umbrella, 1 tv, 70.0ms\n",
      "Speed: 1.2ms preprocess, 70.0ms inference, 0.4ms postprocess per image at shape (1, 3, 384, 640)\n",
      "\n",
      "image 1/1 /Users/gaspardsaliou/Documents/epita/ing3/visualObjectTracking/tp2-3/ADL-Rundle-6/img1/000427.jpg: 384x640 13 persons, 1 umbrella, 1 tv, 71.2ms\n",
      "Speed: 1.3ms preprocess, 71.2ms inference, 0.5ms postprocess per image at shape (1, 3, 384, 640)\n"
     ]
    },
    {
     "name": "stderr",
     "output_type": "stream",
     "text": [
      "Detecting:  81%|████████▏ | 427/525 [00:37<00:08, 11.76it/s]"
     ]
    },
    {
     "name": "stdout",
     "output_type": "stream",
     "text": [
      "\n",
      "image 1/1 /Users/gaspardsaliou/Documents/epita/ing3/visualObjectTracking/tp2-3/ADL-Rundle-6/img1/000428.jpg: 384x640 11 persons, 1 umbrella, 1 tv, 73.9ms\n",
      "Speed: 1.3ms preprocess, 73.9ms inference, 0.4ms postprocess per image at shape (1, 3, 384, 640)\n",
      "\n",
      "image 1/1 /Users/gaspardsaliou/Documents/epita/ing3/visualObjectTracking/tp2-3/ADL-Rundle-6/img1/000429.jpg: 384x640 12 persons, 1 umbrella, 1 handbag, 1 tv, 84.8ms\n",
      "Speed: 1.3ms preprocess, 84.8ms inference, 0.8ms postprocess per image at shape (1, 3, 384, 640)\n"
     ]
    },
    {
     "name": "stderr",
     "output_type": "stream",
     "text": [
      "Detecting:  82%|████████▏ | 429/525 [00:37<00:08, 11.54it/s]"
     ]
    },
    {
     "name": "stdout",
     "output_type": "stream",
     "text": [
      "\n",
      "image 1/1 /Users/gaspardsaliou/Documents/epita/ing3/visualObjectTracking/tp2-3/ADL-Rundle-6/img1/000430.jpg: 384x640 13 persons, 1 umbrella, 1 handbag, 1 tv, 88.1ms\n",
      "Speed: 1.8ms preprocess, 88.1ms inference, 0.5ms postprocess per image at shape (1, 3, 384, 640)\n",
      "\n",
      "image 1/1 /Users/gaspardsaliou/Documents/epita/ing3/visualObjectTracking/tp2-3/ADL-Rundle-6/img1/000431.jpg: 384x640 11 persons, 1 umbrella, 2 handbags, 1 tv, 90.7ms\n",
      "Speed: 1.6ms preprocess, 90.7ms inference, 1.1ms postprocess per image at shape (1, 3, 384, 640)\n"
     ]
    },
    {
     "name": "stderr",
     "output_type": "stream",
     "text": [
      "Detecting:  82%|████████▏ | 431/525 [00:37<00:08, 10.96it/s]"
     ]
    },
    {
     "name": "stdout",
     "output_type": "stream",
     "text": [
      "\n",
      "image 1/1 /Users/gaspardsaliou/Documents/epita/ing3/visualObjectTracking/tp2-3/ADL-Rundle-6/img1/000432.jpg: 384x640 14 persons, 1 handbag, 1 tv, 74.3ms\n",
      "Speed: 1.4ms preprocess, 74.3ms inference, 0.4ms postprocess per image at shape (1, 3, 384, 640)\n",
      "\n",
      "image 1/1 /Users/gaspardsaliou/Documents/epita/ing3/visualObjectTracking/tp2-3/ADL-Rundle-6/img1/000433.jpg: 384x640 13 persons, 1 umbrella, 3 handbags, 1 tv, 69.7ms\n",
      "Speed: 1.2ms preprocess, 69.7ms inference, 0.7ms postprocess per image at shape (1, 3, 384, 640)\n"
     ]
    },
    {
     "name": "stderr",
     "output_type": "stream",
     "text": [
      "Detecting:  82%|████████▏ | 433/525 [00:37<00:08, 11.25it/s]"
     ]
    },
    {
     "name": "stdout",
     "output_type": "stream",
     "text": [
      "\n",
      "image 1/1 /Users/gaspardsaliou/Documents/epita/ing3/visualObjectTracking/tp2-3/ADL-Rundle-6/img1/000434.jpg: 384x640 13 persons, 1 umbrella, 3 handbags, 1 tv, 72.4ms\n",
      "Speed: 1.4ms preprocess, 72.4ms inference, 0.4ms postprocess per image at shape (1, 3, 384, 640)\n",
      "\n",
      "image 1/1 /Users/gaspardsaliou/Documents/epita/ing3/visualObjectTracking/tp2-3/ADL-Rundle-6/img1/000435.jpg: 384x640 11 persons, 1 handbag, 1 tv, 65.0ms\n",
      "Speed: 1.1ms preprocess, 65.0ms inference, 0.4ms postprocess per image at shape (1, 3, 384, 640)\n"
     ]
    },
    {
     "name": "stderr",
     "output_type": "stream",
     "text": [
      "Detecting:  83%|████████▎ | 435/525 [00:38<00:07, 11.59it/s]"
     ]
    },
    {
     "name": "stdout",
     "output_type": "stream",
     "text": [
      "\n",
      "image 1/1 /Users/gaspardsaliou/Documents/epita/ing3/visualObjectTracking/tp2-3/ADL-Rundle-6/img1/000436.jpg: 384x640 11 persons, 3 handbags, 1 tv, 69.9ms\n",
      "Speed: 1.6ms preprocess, 69.9ms inference, 0.4ms postprocess per image at shape (1, 3, 384, 640)\n",
      "\n",
      "image 1/1 /Users/gaspardsaliou/Documents/epita/ing3/visualObjectTracking/tp2-3/ADL-Rundle-6/img1/000437.jpg: 384x640 9 persons, 3 handbags, 1 tv, 70.1ms\n",
      "Speed: 1.2ms preprocess, 70.1ms inference, 0.4ms postprocess per image at shape (1, 3, 384, 640)\n"
     ]
    },
    {
     "name": "stderr",
     "output_type": "stream",
     "text": [
      "Detecting:  83%|████████▎ | 437/525 [00:38<00:07, 11.78it/s]"
     ]
    },
    {
     "name": "stdout",
     "output_type": "stream",
     "text": [
      "\n",
      "image 1/1 /Users/gaspardsaliou/Documents/epita/ing3/visualObjectTracking/tp2-3/ADL-Rundle-6/img1/000438.jpg: 384x640 14 persons, 1 handbag, 2 tvs, 153.4ms\n",
      "Speed: 1.2ms preprocess, 153.4ms inference, 0.9ms postprocess per image at shape (1, 3, 384, 640)\n",
      "\n",
      "image 1/1 /Users/gaspardsaliou/Documents/epita/ing3/visualObjectTracking/tp2-3/ADL-Rundle-6/img1/000439.jpg: 384x640 14 persons, 2 handbags, 1 tv, 66.2ms\n",
      "Speed: 1.3ms preprocess, 66.2ms inference, 0.4ms postprocess per image at shape (1, 3, 384, 640)\n"
     ]
    },
    {
     "name": "stderr",
     "output_type": "stream",
     "text": [
      "Detecting:  84%|████████▎ | 439/525 [00:38<00:08, 10.44it/s]"
     ]
    },
    {
     "name": "stdout",
     "output_type": "stream",
     "text": [
      "\n",
      "image 1/1 /Users/gaspardsaliou/Documents/epita/ing3/visualObjectTracking/tp2-3/ADL-Rundle-6/img1/000440.jpg: 384x640 12 persons, 2 handbags, 1 tv, 67.9ms\n",
      "Speed: 1.3ms preprocess, 67.9ms inference, 0.3ms postprocess per image at shape (1, 3, 384, 640)\n",
      "\n",
      "image 1/1 /Users/gaspardsaliou/Documents/epita/ing3/visualObjectTracking/tp2-3/ADL-Rundle-6/img1/000441.jpg: 384x640 13 persons, 1 handbag, 1 tv, 62.6ms\n",
      "Speed: 1.2ms preprocess, 62.6ms inference, 0.4ms postprocess per image at shape (1, 3, 384, 640)\n"
     ]
    },
    {
     "name": "stderr",
     "output_type": "stream",
     "text": [
      "Detecting:  84%|████████▍ | 441/525 [00:38<00:07, 11.16it/s]"
     ]
    },
    {
     "name": "stdout",
     "output_type": "stream",
     "text": [
      "\n",
      "image 1/1 /Users/gaspardsaliou/Documents/epita/ing3/visualObjectTracking/tp2-3/ADL-Rundle-6/img1/000442.jpg: 384x640 12 persons, 2 handbags, 1 tv, 75.4ms\n",
      "Speed: 1.6ms preprocess, 75.4ms inference, 0.4ms postprocess per image at shape (1, 3, 384, 640)\n",
      "\n",
      "image 1/1 /Users/gaspardsaliou/Documents/epita/ing3/visualObjectTracking/tp2-3/ADL-Rundle-6/img1/000443.jpg: 384x640 13 persons, 3 handbags, 1 tv, 77.5ms\n",
      "Speed: 1.2ms preprocess, 77.5ms inference, 0.4ms postprocess per image at shape (1, 3, 384, 640)\n"
     ]
    },
    {
     "name": "stderr",
     "output_type": "stream",
     "text": [
      "Detecting:  84%|████████▍ | 443/525 [00:38<00:07, 11.23it/s]"
     ]
    },
    {
     "name": "stdout",
     "output_type": "stream",
     "text": [
      "\n",
      "image 1/1 /Users/gaspardsaliou/Documents/epita/ing3/visualObjectTracking/tp2-3/ADL-Rundle-6/img1/000444.jpg: 384x640 13 persons, 4 handbags, 2 tvs, 69.3ms\n",
      "Speed: 1.2ms preprocess, 69.3ms inference, 0.7ms postprocess per image at shape (1, 3, 384, 640)\n",
      "\n",
      "image 1/1 /Users/gaspardsaliou/Documents/epita/ing3/visualObjectTracking/tp2-3/ADL-Rundle-6/img1/000445.jpg: 384x640 10 persons, 4 handbags, 1 kite, 1 tv, 67.6ms\n",
      "Speed: 1.3ms preprocess, 67.6ms inference, 0.4ms postprocess per image at shape (1, 3, 384, 640)\n"
     ]
    },
    {
     "name": "stderr",
     "output_type": "stream",
     "text": [
      "Detecting:  85%|████████▍ | 445/525 [00:39<00:06, 11.60it/s]"
     ]
    },
    {
     "name": "stdout",
     "output_type": "stream",
     "text": [
      "\n",
      "image 1/1 /Users/gaspardsaliou/Documents/epita/ing3/visualObjectTracking/tp2-3/ADL-Rundle-6/img1/000446.jpg: 384x640 9 persons, 4 handbags, 69.9ms\n",
      "Speed: 1.2ms preprocess, 69.9ms inference, 0.4ms postprocess per image at shape (1, 3, 384, 640)\n",
      "\n",
      "image 1/1 /Users/gaspardsaliou/Documents/epita/ing3/visualObjectTracking/tp2-3/ADL-Rundle-6/img1/000447.jpg: 384x640 8 persons, 5 handbags, 60.4ms\n",
      "Speed: 1.2ms preprocess, 60.4ms inference, 0.4ms postprocess per image at shape (1, 3, 384, 640)\n"
     ]
    },
    {
     "name": "stderr",
     "output_type": "stream",
     "text": [
      "Detecting:  85%|████████▌ | 447/525 [00:39<00:06, 12.01it/s]"
     ]
    },
    {
     "name": "stdout",
     "output_type": "stream",
     "text": [
      "\n",
      "image 1/1 /Users/gaspardsaliou/Documents/epita/ing3/visualObjectTracking/tp2-3/ADL-Rundle-6/img1/000448.jpg: 384x640 8 persons, 2 handbags, 1 cell phone, 68.5ms\n",
      "Speed: 1.4ms preprocess, 68.5ms inference, 0.3ms postprocess per image at shape (1, 3, 384, 640)\n",
      "\n",
      "image 1/1 /Users/gaspardsaliou/Documents/epita/ing3/visualObjectTracking/tp2-3/ADL-Rundle-6/img1/000449.jpg: 384x640 9 persons, 3 handbags, 61.8ms\n",
      "Speed: 1.3ms preprocess, 61.8ms inference, 0.4ms postprocess per image at shape (1, 3, 384, 640)\n"
     ]
    },
    {
     "name": "stderr",
     "output_type": "stream",
     "text": [
      "Detecting:  86%|████████▌ | 449/525 [00:39<00:06, 12.32it/s]"
     ]
    },
    {
     "name": "stdout",
     "output_type": "stream",
     "text": [
      "\n",
      "image 1/1 /Users/gaspardsaliou/Documents/epita/ing3/visualObjectTracking/tp2-3/ADL-Rundle-6/img1/000450.jpg: 384x640 9 persons, 1 backpack, 2 handbags, 66.8ms\n",
      "Speed: 1.2ms preprocess, 66.8ms inference, 0.4ms postprocess per image at shape (1, 3, 384, 640)\n",
      "\n",
      "image 1/1 /Users/gaspardsaliou/Documents/epita/ing3/visualObjectTracking/tp2-3/ADL-Rundle-6/img1/000451.jpg: 384x640 8 persons, 2 handbags, 59.0ms\n",
      "Speed: 1.2ms preprocess, 59.0ms inference, 0.3ms postprocess per image at shape (1, 3, 384, 640)\n"
     ]
    },
    {
     "name": "stderr",
     "output_type": "stream",
     "text": [
      "Detecting:  86%|████████▌ | 451/525 [00:39<00:05, 12.69it/s]"
     ]
    },
    {
     "name": "stdout",
     "output_type": "stream",
     "text": [
      "\n",
      "image 1/1 /Users/gaspardsaliou/Documents/epita/ing3/visualObjectTracking/tp2-3/ADL-Rundle-6/img1/000452.jpg: 384x640 8 persons, 3 handbags, 69.8ms\n",
      "Speed: 1.3ms preprocess, 69.8ms inference, 0.4ms postprocess per image at shape (1, 3, 384, 640)\n",
      "\n",
      "image 1/1 /Users/gaspardsaliou/Documents/epita/ing3/visualObjectTracking/tp2-3/ADL-Rundle-6/img1/000453.jpg: 384x640 8 persons, 2 handbags, 1 tv, 65.7ms\n",
      "Speed: 1.2ms preprocess, 65.7ms inference, 0.5ms postprocess per image at shape (1, 3, 384, 640)\n"
     ]
    },
    {
     "name": "stderr",
     "output_type": "stream",
     "text": [
      "Detecting:  86%|████████▋ | 453/525 [00:39<00:05, 12.71it/s]"
     ]
    },
    {
     "name": "stdout",
     "output_type": "stream",
     "text": [
      "\n",
      "image 1/1 /Users/gaspardsaliou/Documents/epita/ing3/visualObjectTracking/tp2-3/ADL-Rundle-6/img1/000454.jpg: 384x640 9 persons, 3 handbags, 1 tv, 97.6ms\n",
      "Speed: 1.2ms preprocess, 97.6ms inference, 0.9ms postprocess per image at shape (1, 3, 384, 640)\n",
      "\n",
      "image 1/1 /Users/gaspardsaliou/Documents/epita/ing3/visualObjectTracking/tp2-3/ADL-Rundle-6/img1/000455.jpg: 384x640 8 persons, 1 backpack, 1 handbag, 1 tv, 188.9ms\n",
      "Speed: 3.5ms preprocess, 188.9ms inference, 0.9ms postprocess per image at shape (1, 3, 384, 640)\n"
     ]
    },
    {
     "name": "stderr",
     "output_type": "stream",
     "text": [
      "Detecting:  87%|████████▋ | 455/525 [00:39<00:07,  9.69it/s]"
     ]
    },
    {
     "name": "stdout",
     "output_type": "stream",
     "text": [
      "\n",
      "image 1/1 /Users/gaspardsaliou/Documents/epita/ing3/visualObjectTracking/tp2-3/ADL-Rundle-6/img1/000456.jpg: 384x640 7 persons, 2 handbags, 2 tvs, 2 cell phones, 88.8ms\n",
      "Speed: 1.5ms preprocess, 88.8ms inference, 0.7ms postprocess per image at shape (1, 3, 384, 640)\n",
      "\n",
      "image 1/1 /Users/gaspardsaliou/Documents/epita/ing3/visualObjectTracking/tp2-3/ADL-Rundle-6/img1/000457.jpg: 384x640 7 persons, 2 handbags, 2 skateboards, 1 tv, 2 cell phones, 71.4ms\n",
      "Speed: 1.2ms preprocess, 71.4ms inference, 0.6ms postprocess per image at shape (1, 3, 384, 640)\n"
     ]
    },
    {
     "name": "stderr",
     "output_type": "stream",
     "text": [
      "Detecting:  87%|████████▋ | 457/525 [00:40<00:06, 10.01it/s]"
     ]
    },
    {
     "name": "stdout",
     "output_type": "stream",
     "text": [
      "\n",
      "image 1/1 /Users/gaspardsaliou/Documents/epita/ing3/visualObjectTracking/tp2-3/ADL-Rundle-6/img1/000458.jpg: 384x640 7 persons, 1 handbag, 1 skateboard, 1 tv, 69.1ms\n",
      "Speed: 1.2ms preprocess, 69.1ms inference, 0.5ms postprocess per image at shape (1, 3, 384, 640)\n",
      "\n",
      "image 1/1 /Users/gaspardsaliou/Documents/epita/ing3/visualObjectTracking/tp2-3/ADL-Rundle-6/img1/000459.jpg: 384x640 8 persons, 1 suitcase, 1 skateboard, 1 tv, 61.6ms\n",
      "Speed: 1.2ms preprocess, 61.6ms inference, 1.1ms postprocess per image at shape (1, 3, 384, 640)\n"
     ]
    },
    {
     "name": "stderr",
     "output_type": "stream",
     "text": [
      "Detecting:  87%|████████▋ | 459/525 [00:40<00:06, 10.72it/s]"
     ]
    },
    {
     "name": "stdout",
     "output_type": "stream",
     "text": [
      "\n",
      "image 1/1 /Users/gaspardsaliou/Documents/epita/ing3/visualObjectTracking/tp2-3/ADL-Rundle-6/img1/000460.jpg: 384x640 9 persons, 2 handbags, 1 tv, 90.2ms\n",
      "Speed: 1.3ms preprocess, 90.2ms inference, 0.5ms postprocess per image at shape (1, 3, 384, 640)\n",
      "\n",
      "image 1/1 /Users/gaspardsaliou/Documents/epita/ing3/visualObjectTracking/tp2-3/ADL-Rundle-6/img1/000461.jpg: 384x640 8 persons, 2 handbags, 2 tvs, 69.3ms\n",
      "Speed: 1.3ms preprocess, 69.3ms inference, 0.4ms postprocess per image at shape (1, 3, 384, 640)\n"
     ]
    },
    {
     "name": "stderr",
     "output_type": "stream",
     "text": [
      "Detecting:  88%|████████▊ | 461/525 [00:40<00:05, 10.85it/s]"
     ]
    },
    {
     "name": "stdout",
     "output_type": "stream",
     "text": [
      "\n",
      "image 1/1 /Users/gaspardsaliou/Documents/epita/ing3/visualObjectTracking/tp2-3/ADL-Rundle-6/img1/000462.jpg: 384x640 8 persons, 1 handbag, 1 kite, 1 tv, 106.5ms\n",
      "Speed: 1.9ms preprocess, 106.5ms inference, 0.5ms postprocess per image at shape (1, 3, 384, 640)\n",
      "\n",
      "image 1/1 /Users/gaspardsaliou/Documents/epita/ing3/visualObjectTracking/tp2-3/ADL-Rundle-6/img1/000463.jpg: 384x640 8 persons, 1 handbag, 2 chairs, 1 tv, 114.5ms\n",
      "Speed: 1.4ms preprocess, 114.5ms inference, 1.0ms postprocess per image at shape (1, 3, 384, 640)\n"
     ]
    },
    {
     "name": "stderr",
     "output_type": "stream",
     "text": [
      "Detecting:  88%|████████▊ | 463/525 [00:40<00:06,  9.87it/s]"
     ]
    },
    {
     "name": "stdout",
     "output_type": "stream",
     "text": [
      "\n",
      "image 1/1 /Users/gaspardsaliou/Documents/epita/ing3/visualObjectTracking/tp2-3/ADL-Rundle-6/img1/000464.jpg: 384x640 8 persons, 1 handbag, 144.3ms\n",
      "Speed: 1.5ms preprocess, 144.3ms inference, 0.5ms postprocess per image at shape (1, 3, 384, 640)\n",
      "\n",
      "image 1/1 /Users/gaspardsaliou/Documents/epita/ing3/visualObjectTracking/tp2-3/ADL-Rundle-6/img1/000465.jpg: 384x640 8 persons, 2 handbags, 84.6ms\n",
      "Speed: 1.1ms preprocess, 84.6ms inference, 0.4ms postprocess per image at shape (1, 3, 384, 640)\n"
     ]
    },
    {
     "name": "stderr",
     "output_type": "stream",
     "text": [
      "Detecting:  89%|████████▊ | 465/525 [00:40<00:06,  9.20it/s]"
     ]
    },
    {
     "name": "stdout",
     "output_type": "stream",
     "text": [
      "\n",
      "image 1/1 /Users/gaspardsaliou/Documents/epita/ing3/visualObjectTracking/tp2-3/ADL-Rundle-6/img1/000466.jpg: 384x640 11 persons, 160.4ms\n",
      "Speed: 1.4ms preprocess, 160.4ms inference, 0.5ms postprocess per image at shape (1, 3, 384, 640)\n"
     ]
    },
    {
     "name": "stderr",
     "output_type": "stream",
     "text": [
      "Detecting:  89%|████████▉ | 466/525 [00:41<00:07,  8.35it/s]"
     ]
    },
    {
     "name": "stdout",
     "output_type": "stream",
     "text": [
      "\n",
      "image 1/1 /Users/gaspardsaliou/Documents/epita/ing3/visualObjectTracking/tp2-3/ADL-Rundle-6/img1/000467.jpg: 384x640 11 persons, 1 handbag, 63.0ms\n",
      "Speed: 1.4ms preprocess, 63.0ms inference, 0.3ms postprocess per image at shape (1, 3, 384, 640)\n",
      "\n",
      "image 1/1 /Users/gaspardsaliou/Documents/epita/ing3/visualObjectTracking/tp2-3/ADL-Rundle-6/img1/000468.jpg: 384x640 11 persons, 1 handbag, 74.7ms\n",
      "Speed: 1.6ms preprocess, 74.7ms inference, 0.6ms postprocess per image at shape (1, 3, 384, 640)\n"
     ]
    },
    {
     "name": "stderr",
     "output_type": "stream",
     "text": [
      "Detecting:  89%|████████▉ | 468/525 [00:41<00:06,  9.38it/s]"
     ]
    },
    {
     "name": "stdout",
     "output_type": "stream",
     "text": [
      "\n",
      "image 1/1 /Users/gaspardsaliou/Documents/epita/ing3/visualObjectTracking/tp2-3/ADL-Rundle-6/img1/000469.jpg: 384x640 10 persons, 62.1ms\n",
      "Speed: 1.2ms preprocess, 62.1ms inference, 0.4ms postprocess per image at shape (1, 3, 384, 640)\n",
      "\n",
      "image 1/1 /Users/gaspardsaliou/Documents/epita/ing3/visualObjectTracking/tp2-3/ADL-Rundle-6/img1/000470.jpg: 384x640 10 persons, 1 handbag, 51.8ms\n",
      "Speed: 1.4ms preprocess, 51.8ms inference, 0.4ms postprocess per image at shape (1, 3, 384, 640)\n"
     ]
    },
    {
     "name": "stderr",
     "output_type": "stream",
     "text": [
      "Detecting:  90%|████████▉ | 470/525 [00:41<00:05, 10.64it/s]"
     ]
    },
    {
     "name": "stdout",
     "output_type": "stream",
     "text": [
      "\n",
      "image 1/1 /Users/gaspardsaliou/Documents/epita/ing3/visualObjectTracking/tp2-3/ADL-Rundle-6/img1/000471.jpg: 384x640 11 persons, 53.7ms\n",
      "Speed: 1.6ms preprocess, 53.7ms inference, 0.3ms postprocess per image at shape (1, 3, 384, 640)\n",
      "\n",
      "image 1/1 /Users/gaspardsaliou/Documents/epita/ing3/visualObjectTracking/tp2-3/ADL-Rundle-6/img1/000472.jpg: 384x640 11 persons, 1 handbag, 55.1ms\n",
      "Speed: 1.2ms preprocess, 55.1ms inference, 0.4ms postprocess per image at shape (1, 3, 384, 640)\n"
     ]
    },
    {
     "name": "stderr",
     "output_type": "stream",
     "text": [
      "Detecting:  90%|████████▉ | 472/525 [00:41<00:04, 11.79it/s]"
     ]
    },
    {
     "name": "stdout",
     "output_type": "stream",
     "text": [
      "\n",
      "image 1/1 /Users/gaspardsaliou/Documents/epita/ing3/visualObjectTracking/tp2-3/ADL-Rundle-6/img1/000473.jpg: 384x640 10 persons, 1 handbag, 1 kite, 138.2ms\n",
      "Speed: 1.3ms preprocess, 138.2ms inference, 2.7ms postprocess per image at shape (1, 3, 384, 640)\n",
      "\n",
      "image 1/1 /Users/gaspardsaliou/Documents/epita/ing3/visualObjectTracking/tp2-3/ADL-Rundle-6/img1/000474.jpg: 384x640 9 persons, 1 handbag, 1 kite, 82.8ms\n",
      "Speed: 4.1ms preprocess, 82.8ms inference, 0.4ms postprocess per image at shape (1, 3, 384, 640)\n"
     ]
    },
    {
     "name": "stderr",
     "output_type": "stream",
     "text": [
      "Detecting:  90%|█████████ | 474/525 [00:41<00:04, 10.22it/s]"
     ]
    },
    {
     "name": "stdout",
     "output_type": "stream",
     "text": [
      "\n",
      "image 1/1 /Users/gaspardsaliou/Documents/epita/ing3/visualObjectTracking/tp2-3/ADL-Rundle-6/img1/000475.jpg: 384x640 11 persons, 2 handbags, 1 kite, 79.1ms\n",
      "Speed: 1.6ms preprocess, 79.1ms inference, 0.4ms postprocess per image at shape (1, 3, 384, 640)\n",
      "\n",
      "image 1/1 /Users/gaspardsaliou/Documents/epita/ing3/visualObjectTracking/tp2-3/ADL-Rundle-6/img1/000476.jpg: 384x640 11 persons, 2 handbags, 1 kite, 64.0ms\n",
      "Speed: 1.2ms preprocess, 64.0ms inference, 0.4ms postprocess per image at shape (1, 3, 384, 640)\n"
     ]
    },
    {
     "name": "stderr",
     "output_type": "stream",
     "text": [
      "Detecting:  91%|█████████ | 476/525 [00:41<00:04, 10.70it/s]"
     ]
    },
    {
     "name": "stdout",
     "output_type": "stream",
     "text": [
      "\n",
      "image 1/1 /Users/gaspardsaliou/Documents/epita/ing3/visualObjectTracking/tp2-3/ADL-Rundle-6/img1/000477.jpg: 384x640 10 persons, 1 umbrella, 1 handbag, 1 kite, 73.1ms\n",
      "Speed: 1.4ms preprocess, 73.1ms inference, 0.4ms postprocess per image at shape (1, 3, 384, 640)\n",
      "\n",
      "image 1/1 /Users/gaspardsaliou/Documents/epita/ing3/visualObjectTracking/tp2-3/ADL-Rundle-6/img1/000478.jpg: 384x640 10 persons, 1 umbrella, 1 handbag, 1 kite, 61.1ms\n",
      "Speed: 1.5ms preprocess, 61.1ms inference, 0.5ms postprocess per image at shape (1, 3, 384, 640)\n"
     ]
    },
    {
     "name": "stderr",
     "output_type": "stream",
     "text": [
      "Detecting:  91%|█████████ | 478/525 [00:42<00:04, 11.21it/s]"
     ]
    },
    {
     "name": "stdout",
     "output_type": "stream",
     "text": [
      "\n",
      "image 1/1 /Users/gaspardsaliou/Documents/epita/ing3/visualObjectTracking/tp2-3/ADL-Rundle-6/img1/000479.jpg: 384x640 10 persons, 1 handbag, 1 kite, 70.6ms\n",
      "Speed: 1.5ms preprocess, 70.6ms inference, 0.6ms postprocess per image at shape (1, 3, 384, 640)\n",
      "\n",
      "image 1/1 /Users/gaspardsaliou/Documents/epita/ing3/visualObjectTracking/tp2-3/ADL-Rundle-6/img1/000480.jpg: 384x640 11 persons, 1 kite, 80.5ms\n",
      "Speed: 1.6ms preprocess, 80.5ms inference, 0.4ms postprocess per image at shape (1, 3, 384, 640)\n"
     ]
    },
    {
     "name": "stderr",
     "output_type": "stream",
     "text": [
      "Detecting:  91%|█████████▏| 480/525 [00:42<00:03, 11.25it/s]"
     ]
    },
    {
     "name": "stdout",
     "output_type": "stream",
     "text": [
      "\n",
      "image 1/1 /Users/gaspardsaliou/Documents/epita/ing3/visualObjectTracking/tp2-3/ADL-Rundle-6/img1/000481.jpg: 384x640 10 persons, 1 handbag, 1 kite, 125.1ms\n",
      "Speed: 1.6ms preprocess, 125.1ms inference, 0.7ms postprocess per image at shape (1, 3, 384, 640)\n",
      "\n",
      "image 1/1 /Users/gaspardsaliou/Documents/epita/ing3/visualObjectTracking/tp2-3/ADL-Rundle-6/img1/000482.jpg: 384x640 9 persons, 1 umbrella, 3 handbags, 1 kite, 72.5ms\n",
      "Speed: 1.2ms preprocess, 72.5ms inference, 0.9ms postprocess per image at shape (1, 3, 384, 640)\n"
     ]
    },
    {
     "name": "stderr",
     "output_type": "stream",
     "text": [
      "Detecting:  92%|█████████▏| 482/525 [00:42<00:04, 10.50it/s]"
     ]
    },
    {
     "name": "stdout",
     "output_type": "stream",
     "text": [
      "\n",
      "image 1/1 /Users/gaspardsaliou/Documents/epita/ing3/visualObjectTracking/tp2-3/ADL-Rundle-6/img1/000483.jpg: 384x640 10 persons, 1 umbrella, 1 handbag, 1 kite, 74.2ms\n",
      "Speed: 1.3ms preprocess, 74.2ms inference, 1.4ms postprocess per image at shape (1, 3, 384, 640)\n",
      "\n",
      "image 1/1 /Users/gaspardsaliou/Documents/epita/ing3/visualObjectTracking/tp2-3/ADL-Rundle-6/img1/000484.jpg: 384x640 10 persons, 63.5ms\n",
      "Speed: 1.2ms preprocess, 63.5ms inference, 0.6ms postprocess per image at shape (1, 3, 384, 640)\n"
     ]
    },
    {
     "name": "stderr",
     "output_type": "stream",
     "text": [
      "Detecting:  92%|█████████▏| 484/525 [00:42<00:03, 11.01it/s]"
     ]
    },
    {
     "name": "stdout",
     "output_type": "stream",
     "text": [
      "\n",
      "image 1/1 /Users/gaspardsaliou/Documents/epita/ing3/visualObjectTracking/tp2-3/ADL-Rundle-6/img1/000485.jpg: 384x640 9 persons, 1 handbag, 1 kite, 77.5ms\n",
      "Speed: 1.3ms preprocess, 77.5ms inference, 0.5ms postprocess per image at shape (1, 3, 384, 640)\n",
      "\n",
      "image 1/1 /Users/gaspardsaliou/Documents/epita/ing3/visualObjectTracking/tp2-3/ADL-Rundle-6/img1/000486.jpg: 384x640 9 persons, 1 kite, 73.6ms\n",
      "Speed: 1.3ms preprocess, 73.6ms inference, 1.9ms postprocess per image at shape (1, 3, 384, 640)\n"
     ]
    },
    {
     "name": "stderr",
     "output_type": "stream",
     "text": [
      "Detecting:  93%|█████████▎| 486/525 [00:42<00:03, 11.09it/s]"
     ]
    },
    {
     "name": "stdout",
     "output_type": "stream",
     "text": [
      "\n",
      "image 1/1 /Users/gaspardsaliou/Documents/epita/ing3/visualObjectTracking/tp2-3/ADL-Rundle-6/img1/000487.jpg: 384x640 9 persons, 1 handbag, 93.7ms\n",
      "Speed: 1.5ms preprocess, 93.7ms inference, 1.0ms postprocess per image at shape (1, 3, 384, 640)\n",
      "\n",
      "image 1/1 /Users/gaspardsaliou/Documents/epita/ing3/visualObjectTracking/tp2-3/ADL-Rundle-6/img1/000488.jpg: 384x640 9 persons, 66.3ms\n",
      "Speed: 1.4ms preprocess, 66.3ms inference, 0.4ms postprocess per image at shape (1, 3, 384, 640)\n"
     ]
    },
    {
     "name": "stderr",
     "output_type": "stream",
     "text": [
      "Detecting:  93%|█████████▎| 488/525 [00:43<00:03, 11.07it/s]"
     ]
    },
    {
     "name": "stdout",
     "output_type": "stream",
     "text": [
      "\n",
      "image 1/1 /Users/gaspardsaliou/Documents/epita/ing3/visualObjectTracking/tp2-3/ADL-Rundle-6/img1/000489.jpg: 384x640 9 persons, 1 handbag, 1 chair, 160.4ms\n",
      "Speed: 1.2ms preprocess, 160.4ms inference, 0.4ms postprocess per image at shape (1, 3, 384, 640)\n",
      "\n",
      "image 1/1 /Users/gaspardsaliou/Documents/epita/ing3/visualObjectTracking/tp2-3/ADL-Rundle-6/img1/000490.jpg: 384x640 9 persons, 1 chair, 78.5ms\n",
      "Speed: 1.3ms preprocess, 78.5ms inference, 0.9ms postprocess per image at shape (1, 3, 384, 640)\n"
     ]
    },
    {
     "name": "stderr",
     "output_type": "stream",
     "text": [
      "Detecting:  93%|█████████▎| 490/525 [00:43<00:03,  9.77it/s]"
     ]
    },
    {
     "name": "stdout",
     "output_type": "stream",
     "text": [
      "\n",
      "image 1/1 /Users/gaspardsaliou/Documents/epita/ing3/visualObjectTracking/tp2-3/ADL-Rundle-6/img1/000491.jpg: 384x640 11 persons, 1 chair, 92.4ms\n",
      "Speed: 1.3ms preprocess, 92.4ms inference, 0.4ms postprocess per image at shape (1, 3, 384, 640)\n",
      "\n",
      "image 1/1 /Users/gaspardsaliou/Documents/epita/ing3/visualObjectTracking/tp2-3/ADL-Rundle-6/img1/000492.jpg: 384x640 9 persons, 1 chair, 69.8ms\n",
      "Speed: 1.3ms preprocess, 69.8ms inference, 0.4ms postprocess per image at shape (1, 3, 384, 640)\n"
     ]
    },
    {
     "name": "stderr",
     "output_type": "stream",
     "text": [
      "Detecting:  94%|█████████▎| 492/525 [00:43<00:03, 10.05it/s]"
     ]
    },
    {
     "name": "stdout",
     "output_type": "stream",
     "text": [
      "\n",
      "image 1/1 /Users/gaspardsaliou/Documents/epita/ing3/visualObjectTracking/tp2-3/ADL-Rundle-6/img1/000493.jpg: 384x640 10 persons, 85.8ms\n",
      "Speed: 1.3ms preprocess, 85.8ms inference, 0.3ms postprocess per image at shape (1, 3, 384, 640)\n",
      "\n",
      "image 1/1 /Users/gaspardsaliou/Documents/epita/ing3/visualObjectTracking/tp2-3/ADL-Rundle-6/img1/000494.jpg: 384x640 10 persons, 1 chair, 105.1ms\n",
      "Speed: 1.2ms preprocess, 105.1ms inference, 0.4ms postprocess per image at shape (1, 3, 384, 640)\n"
     ]
    },
    {
     "name": "stderr",
     "output_type": "stream",
     "text": [
      "Detecting:  94%|█████████▍| 494/525 [00:43<00:03,  9.85it/s]"
     ]
    },
    {
     "name": "stdout",
     "output_type": "stream",
     "text": [
      "\n",
      "image 1/1 /Users/gaspardsaliou/Documents/epita/ing3/visualObjectTracking/tp2-3/ADL-Rundle-6/img1/000495.jpg: 384x640 12 persons, 67.4ms\n",
      "Speed: 1.4ms preprocess, 67.4ms inference, 0.5ms postprocess per image at shape (1, 3, 384, 640)\n",
      "\n",
      "image 1/1 /Users/gaspardsaliou/Documents/epita/ing3/visualObjectTracking/tp2-3/ADL-Rundle-6/img1/000496.jpg: 384x640 12 persons, 1 backpack, 1 umbrella, 2 handbags, 91.9ms\n",
      "Speed: 1.4ms preprocess, 91.9ms inference, 1.1ms postprocess per image at shape (1, 3, 384, 640)\n"
     ]
    },
    {
     "name": "stderr",
     "output_type": "stream",
     "text": [
      "Detecting:  94%|█████████▍| 496/525 [00:43<00:02, 10.16it/s]"
     ]
    },
    {
     "name": "stdout",
     "output_type": "stream",
     "text": [
      "\n",
      "image 1/1 /Users/gaspardsaliou/Documents/epita/ing3/visualObjectTracking/tp2-3/ADL-Rundle-6/img1/000497.jpg: 384x640 12 persons, 1 umbrella, 1 handbag, 80.8ms\n",
      "Speed: 1.4ms preprocess, 80.8ms inference, 0.4ms postprocess per image at shape (1, 3, 384, 640)\n",
      "\n",
      "image 1/1 /Users/gaspardsaliou/Documents/epita/ing3/visualObjectTracking/tp2-3/ADL-Rundle-6/img1/000498.jpg: 384x640 11 persons, 1 handbag, 60.1ms\n",
      "Speed: 1.3ms preprocess, 60.1ms inference, 1.2ms postprocess per image at shape (1, 3, 384, 640)\n"
     ]
    },
    {
     "name": "stderr",
     "output_type": "stream",
     "text": [
      "Detecting:  95%|█████████▍| 498/525 [00:44<00:02, 10.69it/s]"
     ]
    },
    {
     "name": "stdout",
     "output_type": "stream",
     "text": [
      "\n",
      "image 1/1 /Users/gaspardsaliou/Documents/epita/ing3/visualObjectTracking/tp2-3/ADL-Rundle-6/img1/000499.jpg: 384x640 13 persons, 2 handbags, 72.5ms\n",
      "Speed: 1.3ms preprocess, 72.5ms inference, 0.4ms postprocess per image at shape (1, 3, 384, 640)\n",
      "\n",
      "image 1/1 /Users/gaspardsaliou/Documents/epita/ing3/visualObjectTracking/tp2-3/ADL-Rundle-6/img1/000500.jpg: 384x640 12 persons, 2 handbags, 85.9ms\n",
      "Speed: 1.6ms preprocess, 85.9ms inference, 0.9ms postprocess per image at shape (1, 3, 384, 640)\n"
     ]
    },
    {
     "name": "stderr",
     "output_type": "stream",
     "text": [
      "Detecting:  95%|█████████▌| 500/525 [00:44<00:02, 10.77it/s]"
     ]
    },
    {
     "name": "stdout",
     "output_type": "stream",
     "text": [
      "\n",
      "image 1/1 /Users/gaspardsaliou/Documents/epita/ing3/visualObjectTracking/tp2-3/ADL-Rundle-6/img1/000501.jpg: 384x640 15 persons, 1 handbag, 72.3ms\n",
      "Speed: 1.2ms preprocess, 72.3ms inference, 0.8ms postprocess per image at shape (1, 3, 384, 640)\n",
      "\n",
      "image 1/1 /Users/gaspardsaliou/Documents/epita/ing3/visualObjectTracking/tp2-3/ADL-Rundle-6/img1/000502.jpg: 384x640 14 persons, 66.0ms\n",
      "Speed: 1.4ms preprocess, 66.0ms inference, 0.4ms postprocess per image at shape (1, 3, 384, 640)\n"
     ]
    },
    {
     "name": "stderr",
     "output_type": "stream",
     "text": [
      "Detecting:  96%|█████████▌| 502/525 [00:44<00:02, 11.21it/s]"
     ]
    },
    {
     "name": "stdout",
     "output_type": "stream",
     "text": [
      "\n",
      "image 1/1 /Users/gaspardsaliou/Documents/epita/ing3/visualObjectTracking/tp2-3/ADL-Rundle-6/img1/000503.jpg: 384x640 13 persons, 59.9ms\n",
      "Speed: 1.2ms preprocess, 59.9ms inference, 0.8ms postprocess per image at shape (1, 3, 384, 640)\n",
      "\n",
      "image 1/1 /Users/gaspardsaliou/Documents/epita/ing3/visualObjectTracking/tp2-3/ADL-Rundle-6/img1/000504.jpg: 384x640 14 persons, 64.0ms\n",
      "Speed: 1.2ms preprocess, 64.0ms inference, 0.6ms postprocess per image at shape (1, 3, 384, 640)\n"
     ]
    },
    {
     "name": "stderr",
     "output_type": "stream",
     "text": [
      "Detecting:  96%|█████████▌| 504/525 [00:44<00:01, 11.86it/s]"
     ]
    },
    {
     "name": "stdout",
     "output_type": "stream",
     "text": [
      "\n",
      "image 1/1 /Users/gaspardsaliou/Documents/epita/ing3/visualObjectTracking/tp2-3/ADL-Rundle-6/img1/000505.jpg: 384x640 12 persons, 1 handbag, 62.5ms\n",
      "Speed: 1.4ms preprocess, 62.5ms inference, 0.4ms postprocess per image at shape (1, 3, 384, 640)\n",
      "\n",
      "image 1/1 /Users/gaspardsaliou/Documents/epita/ing3/visualObjectTracking/tp2-3/ADL-Rundle-6/img1/000506.jpg: 384x640 12 persons, 55.0ms\n",
      "Speed: 1.2ms preprocess, 55.0ms inference, 0.4ms postprocess per image at shape (1, 3, 384, 640)\n"
     ]
    },
    {
     "name": "stderr",
     "output_type": "stream",
     "text": [
      "Detecting:  96%|█████████▋| 506/525 [00:44<00:01, 12.54it/s]"
     ]
    },
    {
     "name": "stdout",
     "output_type": "stream",
     "text": [
      "\n",
      "image 1/1 /Users/gaspardsaliou/Documents/epita/ing3/visualObjectTracking/tp2-3/ADL-Rundle-6/img1/000507.jpg: 384x640 13 persons, 72.4ms\n",
      "Speed: 1.5ms preprocess, 72.4ms inference, 0.4ms postprocess per image at shape (1, 3, 384, 640)\n",
      "\n",
      "image 1/1 /Users/gaspardsaliou/Documents/epita/ing3/visualObjectTracking/tp2-3/ADL-Rundle-6/img1/000508.jpg: 384x640 12 persons, 1 backpack, 1 tv, 68.7ms\n",
      "Speed: 1.3ms preprocess, 68.7ms inference, 0.3ms postprocess per image at shape (1, 3, 384, 640)\n"
     ]
    },
    {
     "name": "stderr",
     "output_type": "stream",
     "text": [
      "Detecting:  97%|█████████▋| 508/525 [00:44<00:01, 12.47it/s]"
     ]
    },
    {
     "name": "stdout",
     "output_type": "stream",
     "text": [
      "\n",
      "image 1/1 /Users/gaspardsaliou/Documents/epita/ing3/visualObjectTracking/tp2-3/ADL-Rundle-6/img1/000509.jpg: 384x640 11 persons, 60.2ms\n",
      "Speed: 1.3ms preprocess, 60.2ms inference, 1.4ms postprocess per image at shape (1, 3, 384, 640)\n",
      "\n",
      "image 1/1 /Users/gaspardsaliou/Documents/epita/ing3/visualObjectTracking/tp2-3/ADL-Rundle-6/img1/000510.jpg: 384x640 10 persons, 65.7ms\n",
      "Speed: 1.3ms preprocess, 65.7ms inference, 0.4ms postprocess per image at shape (1, 3, 384, 640)\n"
     ]
    },
    {
     "name": "stderr",
     "output_type": "stream",
     "text": [
      "Detecting:  97%|█████████▋| 510/525 [00:45<00:01, 12.71it/s]"
     ]
    },
    {
     "name": "stdout",
     "output_type": "stream",
     "text": [
      "\n",
      "image 1/1 /Users/gaspardsaliou/Documents/epita/ing3/visualObjectTracking/tp2-3/ADL-Rundle-6/img1/000511.jpg: 384x640 10 persons, 57.2ms\n",
      "Speed: 1.2ms preprocess, 57.2ms inference, 0.3ms postprocess per image at shape (1, 3, 384, 640)\n",
      "\n",
      "image 1/1 /Users/gaspardsaliou/Documents/epita/ing3/visualObjectTracking/tp2-3/ADL-Rundle-6/img1/000512.jpg: 384x640 9 persons, 1 umbrella, 1 tv, 75.4ms\n",
      "Speed: 1.5ms preprocess, 75.4ms inference, 0.5ms postprocess per image at shape (1, 3, 384, 640)\n"
     ]
    },
    {
     "name": "stderr",
     "output_type": "stream",
     "text": [
      "Detecting:  98%|█████████▊| 512/525 [00:45<00:01, 12.77it/s]"
     ]
    },
    {
     "name": "stdout",
     "output_type": "stream",
     "text": [
      "\n",
      "image 1/1 /Users/gaspardsaliou/Documents/epita/ing3/visualObjectTracking/tp2-3/ADL-Rundle-6/img1/000513.jpg: 384x640 10 persons, 1 umbrella, 1 tv, 63.9ms\n",
      "Speed: 1.3ms preprocess, 63.9ms inference, 1.1ms postprocess per image at shape (1, 3, 384, 640)\n",
      "\n",
      "image 1/1 /Users/gaspardsaliou/Documents/epita/ing3/visualObjectTracking/tp2-3/ADL-Rundle-6/img1/000514.jpg: 384x640 10 persons, 1 umbrella, 87.2ms\n",
      "Speed: 1.2ms preprocess, 87.2ms inference, 0.7ms postprocess per image at shape (1, 3, 384, 640)\n"
     ]
    },
    {
     "name": "stderr",
     "output_type": "stream",
     "text": [
      "Detecting:  98%|█████████▊| 514/525 [00:45<00:00, 12.35it/s]"
     ]
    },
    {
     "name": "stdout",
     "output_type": "stream",
     "text": [
      "\n",
      "image 1/1 /Users/gaspardsaliou/Documents/epita/ing3/visualObjectTracking/tp2-3/ADL-Rundle-6/img1/000515.jpg: 384x640 10 persons, 1 umbrella, 1 tv, 66.8ms\n",
      "Speed: 1.3ms preprocess, 66.8ms inference, 0.4ms postprocess per image at shape (1, 3, 384, 640)\n",
      "\n",
      "image 1/1 /Users/gaspardsaliou/Documents/epita/ing3/visualObjectTracking/tp2-3/ADL-Rundle-6/img1/000516.jpg: 384x640 10 persons, 1 tv, 56.4ms\n",
      "Speed: 1.2ms preprocess, 56.4ms inference, 0.4ms postprocess per image at shape (1, 3, 384, 640)\n"
     ]
    },
    {
     "name": "stderr",
     "output_type": "stream",
     "text": [
      "Detecting:  98%|█████████▊| 516/525 [00:45<00:00, 12.74it/s]"
     ]
    },
    {
     "name": "stdout",
     "output_type": "stream",
     "text": [
      "\n",
      "image 1/1 /Users/gaspardsaliou/Documents/epita/ing3/visualObjectTracking/tp2-3/ADL-Rundle-6/img1/000517.jpg: 384x640 13 persons, 1 tv, 56.6ms\n",
      "Speed: 1.2ms preprocess, 56.6ms inference, 0.3ms postprocess per image at shape (1, 3, 384, 640)\n",
      "\n",
      "image 1/1 /Users/gaspardsaliou/Documents/epita/ing3/visualObjectTracking/tp2-3/ADL-Rundle-6/img1/000518.jpg: 384x640 10 persons, 1 tv, 73.1ms\n",
      "Speed: 1.8ms preprocess, 73.1ms inference, 0.3ms postprocess per image at shape (1, 3, 384, 640)\n"
     ]
    },
    {
     "name": "stderr",
     "output_type": "stream",
     "text": [
      "Detecting:  99%|█████████▊| 518/525 [00:45<00:00, 12.85it/s]"
     ]
    },
    {
     "name": "stdout",
     "output_type": "stream",
     "text": [
      "\n",
      "image 1/1 /Users/gaspardsaliou/Documents/epita/ing3/visualObjectTracking/tp2-3/ADL-Rundle-6/img1/000519.jpg: 384x640 13 persons, 84.7ms\n",
      "Speed: 1.7ms preprocess, 84.7ms inference, 0.5ms postprocess per image at shape (1, 3, 384, 640)\n",
      "\n",
      "image 1/1 /Users/gaspardsaliou/Documents/epita/ing3/visualObjectTracking/tp2-3/ADL-Rundle-6/img1/000520.jpg: 384x640 12 persons, 128.8ms\n",
      "Speed: 1.3ms preprocess, 128.8ms inference, 0.6ms postprocess per image at shape (1, 3, 384, 640)\n"
     ]
    },
    {
     "name": "stderr",
     "output_type": "stream",
     "text": [
      "Detecting:  99%|█████████▉| 520/525 [00:45<00:00, 11.10it/s]"
     ]
    },
    {
     "name": "stdout",
     "output_type": "stream",
     "text": [
      "\n",
      "image 1/1 /Users/gaspardsaliou/Documents/epita/ing3/visualObjectTracking/tp2-3/ADL-Rundle-6/img1/000521.jpg: 384x640 12 persons, 76.3ms\n",
      "Speed: 1.7ms preprocess, 76.3ms inference, 0.4ms postprocess per image at shape (1, 3, 384, 640)\n",
      "\n",
      "image 1/1 /Users/gaspardsaliou/Documents/epita/ing3/visualObjectTracking/tp2-3/ADL-Rundle-6/img1/000522.jpg: 384x640 10 persons, 71.6ms\n",
      "Speed: 1.5ms preprocess, 71.6ms inference, 0.6ms postprocess per image at shape (1, 3, 384, 640)\n"
     ]
    },
    {
     "name": "stderr",
     "output_type": "stream",
     "text": [
      "Detecting:  99%|█████████▉| 522/525 [00:46<00:00, 11.29it/s]"
     ]
    },
    {
     "name": "stdout",
     "output_type": "stream",
     "text": [
      "\n",
      "image 1/1 /Users/gaspardsaliou/Documents/epita/ing3/visualObjectTracking/tp2-3/ADL-Rundle-6/img1/000523.jpg: 384x640 10 persons, 1 skateboard, 78.7ms\n",
      "Speed: 1.5ms preprocess, 78.7ms inference, 0.5ms postprocess per image at shape (1, 3, 384, 640)\n",
      "\n",
      "image 1/1 /Users/gaspardsaliou/Documents/epita/ing3/visualObjectTracking/tp2-3/ADL-Rundle-6/img1/000524.jpg: 384x640 9 persons, 76.4ms\n",
      "Speed: 1.3ms preprocess, 76.4ms inference, 0.5ms postprocess per image at shape (1, 3, 384, 640)\n"
     ]
    },
    {
     "name": "stderr",
     "output_type": "stream",
     "text": [
      "Detecting: 100%|█████████▉| 524/525 [00:46<00:00, 11.26it/s]"
     ]
    },
    {
     "name": "stdout",
     "output_type": "stream",
     "text": [
      "\n",
      "image 1/1 /Users/gaspardsaliou/Documents/epita/ing3/visualObjectTracking/tp2-3/ADL-Rundle-6/img1/000525.jpg: 384x640 9 persons, 65.4ms\n",
      "Speed: 1.4ms preprocess, 65.4ms inference, 0.3ms postprocess per image at shape (1, 3, 384, 640)\n"
     ]
    },
    {
     "name": "stderr",
     "output_type": "stream",
     "text": [
      "Detecting: 100%|██████████| 525/525 [00:46<00:00, 11.34it/s]"
     ]
    },
    {
     "name": "stdout",
     "output_type": "stream",
     "text": [
      "Détections générées : 4227\n",
      "\n",
      "Premières détections :\n",
      "   0  1        2       3       4       5         6  7  8  9\n",
      "0  1 -1     0.43  341.42  117.67  561.82  0.844173 -1 -1 -1\n",
      "1  1 -1  1700.27  390.84  160.26  337.91  0.839954 -1 -1 -1\n",
      "2  1 -1   256.67  457.55   98.77  245.05  0.771513 -1 -1 -1\n",
      "3  1 -1   123.84  505.35   87.59  237.99  0.670329 -1 -1 -1\n",
      "4  1 -1  1286.16  463.12   71.04  194.19  0.651424 -1 -1 -1\n"
     ]
    },
    {
     "name": "stderr",
     "output_type": "stream",
     "text": [
      "\n"
     ]
    }
   ],
   "source": [
    "from ultralytics import YOLO\n",
    "import numpy as np\n",
    "import cv2\n",
    "import os\n",
    "import pandas as pd\n",
    "from tqdm import tqdm\n",
    "\n",
    "def generate_detections(video_path, output_path, conf_threshold=0.5):  \n",
    "    model = YOLO('yolov8s.pt') \n",
    "    \n",
    "    # Préparer le fichier de sortie\n",
    "    detections = []\n",
    "    \n",
    "    # Liste toutes les images dans le dossier\n",
    "    images = sorted([f for f in os.listdir(video_path) if f.endswith('.jpg')])\n",
    "    \n",
    "    # Traiter chaque image\n",
    "    for frame_id, img_name in tqdm(enumerate(images), desc=\"Detecting\", total=len(images)):\n",
    "        \n",
    "        img_path = os.path.join(video_path, img_name)\n",
    "        \n",
    "        # Faire la détection\n",
    "        results = model(img_path)[0]\n",
    "        \n",
    "        # Filtrer uniquement les détections de personnes (classe 0 dans COCO)\n",
    "        for r in results.boxes.data.tolist():\n",
    "            x1, y1, x2, y2, conf, class_id = r\n",
    "            \n",
    "            if class_id == 0 and conf > conf_threshold:  \n",
    "                \n",
    "                w = x2 - x1\n",
    "                h = y2 - y1\n",
    "                \n",
    "                \n",
    "                detection = [\n",
    "                    frame_id + 1, \n",
    "                    -1,  \n",
    "                    x1, \n",
    "                    y1,\n",
    "                    w,   \n",
    "                    h,     \n",
    "                    conf, \n",
    "                    -1, -1, -1  \n",
    "                ]\n",
    "                detections.append(detection)\n",
    "    \n",
    "    # Sauvegarder les détections\n",
    "    det_array = np.array(detections)\n",
    "    np.savetxt(\n",
    "        output_path,\n",
    "        det_array,\n",
    "        fmt=['%d', '%d', '%.2f', '%.2f', '%.2f', '%.2f', '%.6f', '%d', '%d', '%d'],\n",
    "        delimiter=' '\n",
    "    )\n",
    "    \n",
    "    return len(detections)\n",
    "\n",
    "\n",
    "# Chemins\n",
    "video_path = \"ADL-Rundle-6/img1\"\n",
    "output_path = \"ADL-Rundle-6/det/yolov8n/det.txt\"\n",
    "    \n",
    "# Créer le dossier de sortie si nécessaire\n",
    "os.makedirs(os.path.dirname(output_path), exist_ok=True)\n",
    "    \n",
    "# Générer les détections\n",
    "nb_detections = generate_detections(\n",
    "        video_path=video_path,\n",
    "        output_path=output_path,\n",
    "        conf_threshold=0.5\n",
    ")\n",
    "\n",
    "detections = pd.read_csv(output_path, header=None, sep=' ')\n"
   ]
  },
  {
   "cell_type": "code",
   "execution_count": 11,
   "metadata": {},
   "outputs": [
    {
     "name": "stderr",
     "output_type": "stream",
     "text": [
      "\u001b[0;93m2025-01-03 15:03:19.430600 [W:onnxruntime:, coreml_execution_provider.cc:115 GetCapability] CoreMLExecutionProvider::GetCapability, number of partitions supported by CoreML: 3 number of nodes in the graph: 391 number of nodes supported by CoreML: 389\u001b[m\n"
     ]
    }
   ],
   "source": [
    "# Test du tracking\n",
    "data_path = 'ADL-Rundle-6'  # dossier contenant img1/ et seqinfo.ini\n",
    "det_path = 'ADL-Rundle-6/det/yolov8n/det.txt'\n",
    "model_path = 'reid_osnet_x025_market1501.onnx'\n",
    "\n",
    "# Charger les détections\n",
    "detections = load_detections(det_path)\n",
    "\n",
    "results, all_matrix = track(detections, data_path, model_path)"
   ]
  },
  {
   "cell_type": "code",
   "execution_count": 23,
   "metadata": {},
   "outputs": [],
   "source": [
    "output_path = 'tp5_result.mp4'\n",
    "display_tracking_results(results, data_path, output_path)"
   ]
  }
 ],
 "metadata": {
  "kernelspec": {
   "display_name": "Python 3",
   "language": "python",
   "name": "python3"
  },
  "language_info": {
   "codemirror_mode": {
    "name": "ipython",
    "version": 3
   },
   "file_extension": ".py",
   "mimetype": "text/x-python",
   "name": "python",
   "nbconvert_exporter": "python",
   "pygments_lexer": "ipython3",
   "version": "3.11.8"
  }
 },
 "nbformat": 4,
 "nbformat_minor": 2
}
